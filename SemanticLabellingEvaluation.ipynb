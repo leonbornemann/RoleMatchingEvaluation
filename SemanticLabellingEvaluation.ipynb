{
 "cells": [
  {
   "cell_type": "code",
   "execution_count": 8,
   "outputs": [],
   "source": [
    "\n",
    "\n",
    "\n",
    "# finalDF[\"isIn100PercentBucketWithFilter\"] = ( (finalDF['compatibilityPercentageNoDecay'] ==1.0) & (finalDF[\"hasTransitionOverlapDecay\"]))\n",
    "# finalDF[\"isIn70PercentBucket\"] = ( (finalDF['compatibilityPercentageNoDecay'] >=0.7) & (finalDF[\"hasTransitionOverlapDecay\"]))\n",
    "#\n",
    "# scoreNames = [\"isInExactMatchBlocking\",\"isInSequenceBlocking\",\"isInValueSetBlocking\",\n",
    "#               \"isInStrictBlockingNoDecay\",\"isIn70PercentBucket\",\"isIn100PercentBucket\",\n",
    "#               \"isIn100PercentBucketWithFilter\",\"isIn70PercentBucket\"]\n",
    "# for bucketName in scoreNames:\n",
    "#     rr = sum(finalDF[bucketName]) / len(finalDF.index)\n",
    "#     print(bucketName, rr)"
   ],
   "metadata": {
    "collapsed": false,
    "pycharm": {
     "name": "#%%\n"
    }
   }
  },
  {
   "cell_type": "code",
   "execution_count": 9,
   "outputs": [
    {
     "name": "stderr",
     "output_type": "stream",
     "text": [
      "/home/leon/PycharmProjects/RoleMatchingEvaluation/role_matching/EvaluationHelperMethods.py:21: FutureWarning: The frame.append method is deprecated and will be removed from pandas in a future version. Use pandas.concat instead.\n",
      "/home/leon/PycharmProjects/RoleMatchingEvaluation/role_matching/EvaluationHelperMethods.py:21: FutureWarning: The frame.append method is deprecated and will be removed from pandas in a future version. Use pandas.concat instead.\n",
      "/home/leon/PycharmProjects/RoleMatchingEvaluation/role_matching/EvaluationHelperMethods.py:21: FutureWarning: The frame.append method is deprecated and will be removed from pandas in a future version. Use pandas.concat instead.\n",
      "/home/leon/PycharmProjects/RoleMatchingEvaluation/role_matching/EvaluationHelperMethods.py:21: FutureWarning: The frame.append method is deprecated and will be removed from pandas in a future version. Use pandas.concat instead.\n",
      "/home/leon/PycharmProjects/RoleMatchingEvaluation/role_matching/EvaluationHelperMethods.py:21: FutureWarning: The frame.append method is deprecated and will be removed from pandas in a future version. Use pandas.concat instead.\n"
     ]
    },
    {
     "name": "stdout",
     "output_type": "stream",
     "text": [
      "Index(['dataset', 'id1', 'id2', 'isInStrictBlockingDecay',\n",
      "       'isInStrictBlockingNoDecay', 'isInValueSetBlocking',\n",
      "       'isInSequenceBlocking', 'isInExactMatchBlocking', 'isSemanticRoleMatch',\n",
      "       'compatibilityPercentageDecay', 'compatibilityPercentageNoDecay',\n",
      "       'exactSequenceMatchPercentage', 'hasTransitionOverlapNoDecay',\n",
      "       'hasTransitionOverlapDecay', 'hasValueSetOverlap',\n",
      "       'isInSVABlockingNoDecay', 'isInSVABlockingDecay', 'VACount', 'DVACount',\n",
      "       'isInTSMBlockingNoWildcard', 'isInTSMBlockingWithWildcard',\n",
      "       'strictlyCompatiblePercentage'],\n",
      "      dtype='object')\n",
      "50000\n",
      "[1.0,1.0] (full) 118\n",
      "[0.0,0.7) (<70%) 9\n",
      "[0.7,1.0) (70%) 12\n",
      "dataset                                           object\n",
      "id1                                               object\n",
      "id2                                               object\n",
      "isInStrictBlockingDecay                             bool\n",
      "isInStrictBlockingNoDecay                           bool\n",
      "isInValueSetBlocking                                bool\n",
      "isInSequenceBlocking                                bool\n",
      "isInExactMatchBlocking                              bool\n",
      "isSemanticRoleMatch                                 bool\n",
      "compatibilityPercentageDecay                     float64\n",
      "compatibilityPercentageNoDecay                   float64\n",
      "exactSequenceMatchPercentage                     float64\n",
      "hasTransitionOverlapNoDecay                         bool\n",
      "hasTransitionOverlapDecay                           bool\n",
      "hasValueSetOverlap                                  bool\n",
      "isInSVABlockingNoDecay                              bool\n",
      "isInSVABlockingDecay                                bool\n",
      "VACount                                            int64\n",
      "DVACount                                           int64\n",
      "isInTSMBlockingNoWildcard                           bool\n",
      "isInTSMBlockingWithWildcard                         bool\n",
      "strictlyCompatiblePercentage                     float64\n",
      "decayScore                                       float64\n",
      "isInCBRB                                            bool\n",
      "isInCBRBNoDecay                                     bool\n",
      "isInCBRBWithTransitionFilter                        bool\n",
      "isInCBRBNoDecayWithTransitionFilter                 bool\n",
      "isInStrictBlockingDecayWithTransitionFilter         bool\n",
      "isInStrictBlockingNoDecayWithTransitionFilter       bool\n",
      "isInStrictCompatibleBlocking                        bool\n",
      "isInStrictBlockingNoDecayWithFilter                 bool\n",
      "isInValueSetBlockingWithFilter                      bool\n",
      "isInSequenceBlockingWithFilter                      bool\n",
      "isInExactMatchBlockingWithFilter                    bool\n",
      "isInTSMBlockingWithFilter                           bool\n",
      "bucket                                            object\n",
      "weight                                           float64\n",
      "dtype: object\n",
      "0       0.0660\n",
      "1       0.2466\n",
      "2       0.0660\n",
      "3       0.6874\n",
      "4       0.2466\n",
      "         ...  \n",
      "1495    0.7591\n",
      "1496    0.7591\n",
      "1497    0.0602\n",
      "1498    0.0602\n",
      "1499    0.0602\n",
      "Name: weight, Length: 1500, dtype: float64\n"
     ]
    }
   ],
   "source": [
    "\n",
    "#df = pd.read_csv(\"localData/semanticAnnotation/results.csv\")\n",
    "OLD=False # old or new gold standard\n",
    "df = rm.readGoldStandardEvaluation(OLD)\n",
    "\n",
    "#TODO about the filtering! Currently we are not applying the transition filters to CBRB and CBRB NoDecay but the table in the paper does - we need to choose what we want to represent in the final matrix\n",
    "\n",
    "print(df.dtypes)\n",
    "\n",
    "\n",
    "\n",
    "print(df[\"weight\"])\n",
    "#print(df.describe())\n",
    "# plot = ggplot(df,aes(x = 'isSemanticRoleMatch',fill=\"dataset\",group='dataset')) + geom_histogram(position=position_dodge()) + theme(axis_text_x = element_text(angle=90, hjust=1))\n",
    "# print(plot)\n",
    "# plot = ggplot(df,aes(x = 'compatibilityPercentageDecay',fill=\"dataset\")) + geom_histogram(position=position_dodge())\n",
    "# print(plot)\n",
    "\n",
    "# for dsName in df.dataset.unique():\n",
    "#     thisDF = df[df['dataset']==dsName]\n",
    "#     print(dsName,\"Positive Rate: \", sum(thisDF['isSemanticRoleMatch']) / len(thisDF.index) )\n",
    "#     print(dsName,\"Positive Counts/Rate in Compatible (with Decay): \",sum(thisDF['isSemanticRoleMatch'] & thisDF['isInStrictBlockingDecay']), \"/\", sum(thisDF['isInStrictBlockingDecay']),sum(thisDF['isSemanticRoleMatch'] & thisDF['isInStrictBlockingDecay']) / sum(thisDF['isInStrictBlockingDecay']) )\n",
    "#\n",
    "#     print(dsName,\"Counts/Percentage of Semantic Being Compatible (with Decay): \",sum(thisDF['isSemanticRoleMatch'] & thisDF['isInStrictBlockingDecay']),\"/\",sum(thisDF['isSemanticRoleMatch']), sum(thisDF['isSemanticRoleMatch'] & thisDF['isInStrictBlockingDecay']) / sum(thisDF['isSemanticRoleMatch']) )\n",
    "#     print(dsName,\"Positive Counts/Rate in Compatible (without Decay): \",sum(thisDF['isSemanticRoleMatch'] & thisDF['isInStrictBlockingNoDecay']),\"/\",sum(thisDF['isInStrictBlockingNoDecay']), sum(thisDF['isSemanticRoleMatch'] & thisDF['isInStrictBlockingNoDecay']) / sum(thisDF['isInStrictBlockingNoDecay']) )\n",
    "#     print(dsName,\"Counts/Percentage of Semantic Being Compatible (without Decay): \",sum(thisDF['isSemanticRoleMatch'] & thisDF['isInStrictBlockingNoDecay']),\"/\",sum(thisDF['isSemanticRoleMatch']), sum(thisDF['isSemanticRoleMatch'] & thisDF['isInStrictBlockingNoDecay']) / sum(thisDF['isSemanticRoleMatch']) )"
   ],
   "metadata": {
    "collapsed": false,
    "pycharm": {
     "name": "#%%\n"
    }
   }
  },
  {
   "cell_type": "code",
   "execution_count": 10,
   "outputs": [
    {
     "name": "stdout",
     "output_type": "stream",
     "text": [
      "[['tv_and_film'\n",
      "  'infobox television episode||4087244||228832498-0||series'\n",
      "  'infobox television episode||7173422||221558159-0||series']\n",
      " ['tv_and_film'\n",
      "  'infobox television episode||21996362||277577220-0||episode list'\n",
      "  'infobox television episode||894152||286226731-0||episode list']\n",
      " ['tv_and_film'\n",
      "  'infobox television episode||19474491||241008508-0||series'\n",
      "  'infobox television episode||9808954||223161959-0||series']\n",
      " ['tv_and_film' 'infobox television episode||2298981||19504928-0||series'\n",
      "  'infobox television episode||2564637||22063879-0||series']\n",
      " ['tv_and_film' 'infobox television episode||2160093||18606921-0||series'\n",
      "  'infobox television episode||2298998||19505098-0||series']\n",
      " ['tv_and_film'\n",
      "  'infobox television episode||16704086||223847795-0||series'\n",
      "  'infobox television episode||19474322||241005943-0||series']\n",
      " ['tv_and_film'\n",
      "  'infobox television episode||17114960||224036703-0||series'\n",
      "  'infobox television episode||4493844||229777044-0||series']\n",
      " ['tv_and_film'\n",
      "  'infobox television episode||2024736||15737573-0||series_🔗_extractedLink0'\n",
      "  'infobox television episode||2311525||19634273-0||series_🔗_extractedLink0']\n",
      " ['tv_and_film'\n",
      "  'infobox television episode||16823078||223311894-0||series'\n",
      "  'infobox television episode||4087806||228605916-0||series']\n",
      " ['tv_and_film'\n",
      "  'infobox television episode||16704086||223847795-0||series'\n",
      "  'infobox television episode||4076936||228719301-0||series']\n",
      " ['tv_and_film'\n",
      "  'infobox television episode||2353720||20042425-0||series_🔗_extractedLink0'\n",
      "  'infobox television episode||3085276||27435632-0||series_🔗_extractedLink0']\n",
      " ['tv_and_film' 'infobox television episode||2160093||18606921-0||series'\n",
      "  'infobox television episode||2564380||22060849-0||series']\n",
      " ['tv_and_film'\n",
      "  'infobox television episode||2311525||19634273-0||series_🔗_extractedLink0'\n",
      "  'infobox television episode||7938662||15013944-0||series_🔗_extractedLink0']\n",
      " ['tv_and_film' 'infobox television episode||2024429||15737530-0||series'\n",
      "  'infobox television episode||3189121||28658006-0||series']\n",
      " ['tv_and_film' 'infobox television episode||7938693||15012116-0||series'\n",
      "  'infobox television episode||7957704||15737451-0||series']\n",
      " ['tv_and_film' 'infobox television episode||2160093||18606921-0||series'\n",
      "  'infobox television episode||2564262||22059664-0||series']\n",
      " ['tv_and_film'\n",
      "  'infobox television episode||13821816||224620681-0||series'\n",
      "  'infobox television episode||4076936||228719301-0||series']\n",
      " ['tv_and_film' 'infobox television episode||2353741||20042573-0||series'\n",
      "  'infobox television episode||2564426||22061294-0||series']\n",
      " ['tv_and_film'\n",
      "  'infobox television episode||16899170||224154073-0||series'\n",
      "  'infobox television episode||19474322||241005943-0||series']\n",
      " ['tv_and_film'\n",
      "  'infobox television episode||16899170||224154073-0||series'\n",
      "  'infobox television episode||4076853||213227138-0||series']\n",
      " ['tv_and_film'\n",
      "  'infobox television episode||2353745||20042669-0||series_🔗_extractedLink0'\n",
      "  'infobox television episode||2550991||21943516-0||series_🔗_extractedLink0']\n",
      " ['tv_and_film'\n",
      "  'infobox television episode||2311525||19634273-0||series_🔗_extractedLink0'\n",
      "  'infobox television episode||2551090||21944294-0||series_🔗_extractedLink0']\n",
      " ['tv_and_film'\n",
      "  'infobox television episode||16823078||223311894-0||series'\n",
      "  'infobox television episode||4113091||229887567-0||series']\n",
      " ['tv_and_film' 'infobox television||1506871||400187760-0||producer'\n",
      "  'infobox television||612940||252094014-0||producer']\n",
      " ['tv_and_film'\n",
      "  'infobox television episode||13489815||180043378-0||episode list'\n",
      "  'infobox television episode||21996362||277577220-0||episode list']\n",
      " ['tv_and_film' 'infobox television episode||2353698||20042175-0||series'\n",
      "  'infobox television episode||7938703||15013948-0||series']\n",
      " ['tv_and_film'\n",
      "  'infobox character||7929254||144643319-0||classification_🔗_extractedLink0'\n",
      "  'infobox soap character||18080334||221059894-0||classification_🔗_extractedLink0']\n",
      " ['tv_and_film' 'infobox television episode||2298988||19505004-0||series'\n",
      "  'infobox television episode||7957682||15016823-0||series']\n",
      " ['tv_and_film' 'infobox television episode||2298958||19504624-0||series'\n",
      "  'infobox television episode||7957704||15737451-0||series']\n",
      " ['tv_and_film' 'infobox television episode||2298969||19504757-0||series'\n",
      "  'infobox television episode||7957704||15737451-0||series']\n",
      " ['tv_and_film'\n",
      "  'infobox television episode||13489274||172063498-0||episode list'\n",
      "  'infobox television episode||7938200||180023407-0||episode list']\n",
      " ['tv_and_film' 'infobox television episode||2298998||19505098-0||series'\n",
      "  'infobox television episode||2564426||22061294-0||series']\n",
      " ['tv_and_film' 'infobox television episode||2318475||19702954-0||series'\n",
      "  'infobox television episode||2564426||22061294-0||series']\n",
      " ['tv_and_film'\n",
      "  'infobox television episode||4087806||228605916-0||series'\n",
      "  'infobox television episode||9137566||221460953-0||series']\n",
      " ['tv_and_film'\n",
      "  'infobox television episode||19474536||241009139-0||series'\n",
      "  'infobox television episode||4087806||228605916-0||series']\n",
      " ['tv_and_film' 'infobox television episode||2311525||19634273-0||series'\n",
      "  'infobox television episode||2550223||21936189-0||series']\n",
      " ['tv_and_film'\n",
      "  'infobox television episode||4493844||229777044-0||series'\n",
      "  'infobox television episode||4834713||212028330-0||series']\n",
      " ['tv_and_film'\n",
      "  'infobox television episode||2024429||15737530-0||series_🔗_extractedLink0'\n",
      "  'infobox television episode||2550991||21943516-0||series_🔗_extractedLink0']\n",
      " ['tv_and_film'\n",
      "  'infobox television episode||2024429||15737530-0||series_🔗_extractedLink0'\n",
      "  'infobox television episode||2550223||21936189-0||series_🔗_extractedLink0']\n",
      " ['tv_and_film' 'infobox television episode||2353698||20042175-0||series'\n",
      "  'infobox television episode||2564621||22063627-0||series']\n",
      " ['tv_and_film' 'infobox television episode||3085276||27435632-0||series'\n",
      "  'infobox television episode||7938693||15012116-0||series']\n",
      " ['tv_and_film'\n",
      "  'infobox television episode||2298969||19504757-0||series_🔗_extractedLink0'\n",
      "  'infobox television episode||7938671||15737658-0||series_🔗_extractedLink0']\n",
      " ['tv_and_film'\n",
      "  'infobox television episode||4131542||190744006-0||series'\n",
      "  'infobox television episode||8898049||228525381-0||series']\n",
      " ['tv_and_film'\n",
      "  'infobox television episode||13503843||226043065-0||series'\n",
      "  'infobox television episode||4113002||229802790-0||series']\n",
      " ['tv_and_film'\n",
      "  'infobox television episode||2564679||22064213-0||series_🔗_extractedLink0'\n",
      "  'infobox television episode||7957682||15016823-0||series_🔗_extractedLink0']\n",
      " ['education' 'infobox_university||10648206||122890894-0||country'\n",
      "  'infobox_university||11470380||134126350-0||country']\n",
      " ['education' 'infobox book||19433847||240361633-0||genre'\n",
      "  'infobox book||19872962||246704522-0||genre']\n",
      " ['politics' 'infobox election||445732||215260870-0||posttitle'\n",
      "  'infobox election||524238||246575735-0||posttitle']\n",
      " ['politics' 'infobox election||1040222||246471436-0||posttitle'\n",
      "  'infobox election||794115||241447861-0||posttitle']\n",
      " ['politics' 'infobox election||794115||241447861-0||posttitle'\n",
      "  'infobox election||943511||246462423-0||posttitle']\n",
      " ['politics' 'infobox election||454476||217947698-0||leader_since1'\n",
      "  'infobox election||456666||210583039-0||leader_since1']\n",
      " ['politics' 'infobox election||1635909||210818109-0||seats_for_election'\n",
      "  'infobox election||389814||330274386-0||seats_for_election']\n",
      " ['politics' 'infobox election||488354||215262809-0||posttitle'\n",
      "  'infobox election||621251||241857229-0||posttitle']\n",
      " ['politics' 'infobox election||465360||238487837-0||posttitle'\n",
      "  'infobox election||626478||222568656-0||posttitle']\n",
      " ['politics' 'infobox politician||1095335||289456811-0||predecessor1'\n",
      "  'infobox politician||316164||118092888-0||successor7']\n",
      " ['politics' 'infobox election||1040222||246471436-0||posttitle'\n",
      "  'infobox election||399279||238476434-0||posttitle']\n",
      " ['politics' 'infobox election||465360||238487837-0||posttitle'\n",
      "  'infobox election||793999||241602261-0||posttitle']\n",
      " ['politics' 'infobox election||2724262||255032992-0||seats_for_election'\n",
      "  'infobox election||2725466||222701293-0||seats_for_election']\n",
      " ['military' 'infobox military unit||30467037||407792507-0||branch'\n",
      "  'infobox military unit||30659813||410451991-0||branch']\n",
      " ['military' 'infobox military unit||23499580||300430008-0||image'\n",
      "  'infobox military unit||41963009||595791299-0||image']\n",
      " ['military' 'infobox military unit||13520350||161572688-0||image'\n",
      "  'infobox military unit||14498569||174846454-0||image']\n",
      " ['military' 'infobox military unit||1391287||204659832-0||branch'\n",
      "  'infobox military unit||30471531||407867495-0||branch']\n",
      " ['military'\n",
      "  'infobox weapon||1897825||68373882-0||used_by_🔗_extractedLink0'\n",
      "  'infobox weapon||2343720||243189052-0||used_by_🔗_extractedLink0']\n",
      " ['military' 'infobox military unit||13202546||156989425-0||image'\n",
      "  'infobox military unit||14485730||174649371-0||image']\n",
      " ['military' 'infobox military unit||16744219||282325689-0||country'\n",
      "  'infobox military unit||22493627||285028741-0||country']\n",
      " ['military' 'infobox military unit||15021264||283243494-0||country'\n",
      "  'infobox military unit||22493627||285028741-0||country']\n",
      " ['military' 'infobox military unit||17271453||305988435-0||branch'\n",
      "  'infobox military unit||5144964||410329463-0||branch']\n",
      " ['military' 'infobox weapon||13472963||160865181-0||origin'\n",
      "  'infobox weapon||14628273||176764897-0||origin']\n",
      " ['military' 'infobox military unit||27249528||360419770-0||image'\n",
      "  'infobox military unit||3432496||337729747-0||image']]\n"
     ]
    }
   ],
   "source": [
    "interesting = df[(df['isSemanticRoleMatch']) & (df['isInStrictBlockingNoDecayWithFilter']) & (~df['isInExactMatchBlockingWithFilter'])]\n",
    "print(interesting[['dataset','id1','id2']].values)"
   ],
   "metadata": {
    "collapsed": false,
    "pycharm": {
     "name": "#%%\n"
    }
   }
  },
  {
   "cell_type": "code",
   "execution_count": 11,
   "outputs": [
    {
     "name": "stdout",
     "output_type": "stream",
     "text": [
      "0\n",
      "1500\n",
      "Empty DataFrame\n",
      "Columns: [dataset, id1, id2, isInStrictBlockingDecay, isInStrictBlockingNoDecay, isInValueSetBlocking, isInSequenceBlocking, isInExactMatchBlocking, isSemanticRoleMatch, compatibilityPercentageDecay, compatibilityPercentageNoDecay, exactSequenceMatchPercentage, hasTransitionOverlapNoDecay, hasTransitionOverlapDecay, hasValueSetOverlap, isInSVABlockingNoDecay, isInSVABlockingDecay, VACount, DVACount, isInTSMBlockingNoWildcard, isInTSMBlockingWithWildcard, strictlyCompatiblePercentage, decayScore, isInCBRB, isInCBRBNoDecay, isInCBRBWithTransitionFilter, isInCBRBNoDecayWithTransitionFilter, isInStrictBlockingDecayWithTransitionFilter, isInStrictBlockingNoDecayWithTransitionFilter, isInStrictCompatibleBlocking, isInStrictBlockingNoDecayWithFilter, isInValueSetBlockingWithFilter, isInSequenceBlockingWithFilter, isInExactMatchBlockingWithFilter, isInTSMBlockingWithFilter, bucket, weight, isInDVA2VA95Blocking]\n",
      "Index: []\n",
      "\n",
      "[0 rows x 38 columns]\n"
     ]
    }
   ],
   "source": [
    "rm.addDVA2VA95Blocking(df)\n",
    "print(len(df[~df['isInDVA2VA95Blocking']].index))\n",
    "print(len(df[df['isInDVA2VA95Blocking']].index))\n",
    "print(df[(~df['isInDVA2VA95Blocking']) & df['isSemanticRoleMatch']])"
   ],
   "metadata": {
    "collapsed": false,
    "pycharm": {
     "name": "#%%\n"
    }
   }
  },
  {
   "cell_type": "code",
   "execution_count": 12,
   "outputs": [
    {
     "name": "stdout",
     "output_type": "stream",
     "text": [
      "48      0.991379\n",
      "131     0.994253\n",
      "185     0.991379\n",
      "187     0.988506\n",
      "260     0.892241\n",
      "364     0.995690\n",
      "489     0.988506\n",
      "574     0.974138\n",
      "951     0.982759\n",
      "968     0.981322\n",
      "969     0.945402\n",
      "1077    0.961207\n",
      "Name: compatibilityPercentageNoDecay, dtype: float64\n"
     ]
    }
   ],
   "source": [
    "print(df[(df['isSemanticRoleMatch']) & (df['bucket']==\"[0.7,1.0) (70%)\")][\"compatibilityPercentageNoDecay\"])"
   ],
   "metadata": {
    "collapsed": false,
    "pycharm": {
     "name": "#%%\n"
    }
   }
  },
  {
   "cell_type": "code",
   "execution_count": 13,
   "outputs": [
    {
     "name": "stdout",
     "output_type": "stream",
     "text": [
      "Empty DataFrame\n",
      "Columns: [id1, id2]\n",
      "Index: []\n"
     ]
    }
   ],
   "source": [
    "print(df[(df['isSemanticRoleMatch']) & (df['isInStrictBlockingNoDecay']) & (~df['isInStrictBlockingNoDecayWithFilter'])][['id1','id2']])\n",
    "df[(df['isSemanticRoleMatch']) & (df['isInStrictBlockingNoDecay']) & (~df['isInStrictBlockingNoDecayWithFilter'])][['dataset','id1','id2']].to_csv(\"gs1errors.csv\")\n",
    "#df[\"newLabel\"] = (df['isSemanticRoleMatch']) | ((df['isSemanticRoleMatch']) & (df['isInStrictBlockingNoDecay']) & (~df['isInStrictBlockingNoDecayWithFilter']))\n",
    "#print(sum(df[\"newLabel\"]))\n",
    "#print(sum(df[\"isSemanticRoleMatch\"]))"
   ],
   "metadata": {
    "collapsed": false,
    "pycharm": {
     "name": "#%%\n"
    }
   }
  },
  {
   "cell_type": "markdown",
   "source": [
    "# Precision / Recall / F1"
   ],
   "metadata": {
    "collapsed": false,
    "pycharm": {
     "name": "#%% md\n"
    }
   }
  },
  {
   "cell_type": "code",
   "execution_count": 14,
   "outputs": [
    {
     "name": "stderr",
     "output_type": "stream",
     "text": [
      "/home/leon/PycharmProjects/RoleMatchingEvaluation/role_matching/EvaluationHelperMethods.py:21: FutureWarning: The frame.append method is deprecated and will be removed from pandas in a future version. Use pandas.concat instead.\n",
      "/home/leon/PycharmProjects/RoleMatchingEvaluation/role_matching/EvaluationHelperMethods.py:21: FutureWarning: The frame.append method is deprecated and will be removed from pandas in a future version. Use pandas.concat instead.\n",
      "/home/leon/PycharmProjects/RoleMatchingEvaluation/role_matching/EvaluationHelperMethods.py:21: FutureWarning: The frame.append method is deprecated and will be removed from pandas in a future version. Use pandas.concat instead.\n",
      "/home/leon/PycharmProjects/RoleMatchingEvaluation/role_matching/EvaluationHelperMethods.py:21: FutureWarning: The frame.append method is deprecated and will be removed from pandas in a future version. Use pandas.concat instead.\n",
      "/home/leon/PycharmProjects/RoleMatchingEvaluation/role_matching/EvaluationHelperMethods.py:21: FutureWarning: The frame.append method is deprecated and will be removed from pandas in a future version. Use pandas.concat instead.\n"
     ]
    },
    {
     "name": "stdout",
     "output_type": "stream",
     "text": [
      "Index(['dataset', 'id1', 'id2', 'isInStrictBlockingDecay',\n",
      "       'isInStrictBlockingNoDecay', 'isInValueSetBlocking',\n",
      "       'isInSequenceBlocking', 'isInExactMatchBlocking', 'isSemanticRoleMatch',\n",
      "       'compatibilityPercentageDecay', 'compatibilityPercentageNoDecay',\n",
      "       'exactSequenceMatchPercentage', 'hasTransitionOverlapNoDecay',\n",
      "       'hasTransitionOverlapDecay', 'hasValueSetOverlap',\n",
      "       'isInSVABlockingNoDecay', 'isInSVABlockingDecay', 'VACount', 'DVACount',\n",
      "       'isInTSMBlockingNoWildcard', 'isInTSMBlockingWithWildcard',\n",
      "       'strictlyCompatiblePercentage'],\n",
      "      dtype='object')\n",
      "50000\n"
     ]
    },
    {
     "name": "stderr",
     "output_type": "stream",
     "text": [
      "/home/leon/PycharmProjects/RoleMatchingEvaluation/role_matching/EvaluationHelperMethods.py:21: FutureWarning: The frame.append method is deprecated and will be removed from pandas in a future version. Use pandas.concat instead.\n",
      "/home/leon/PycharmProjects/RoleMatchingEvaluation/role_matching/EvaluationHelperMethods.py:21: FutureWarning: The frame.append method is deprecated and will be removed from pandas in a future version. Use pandas.concat instead.\n",
      "/home/leon/PycharmProjects/RoleMatchingEvaluation/role_matching/EvaluationHelperMethods.py:21: FutureWarning: The frame.append method is deprecated and will be removed from pandas in a future version. Use pandas.concat instead.\n",
      "/home/leon/PycharmProjects/RoleMatchingEvaluation/role_matching/EvaluationHelperMethods.py:21: FutureWarning: The frame.append method is deprecated and will be removed from pandas in a future version. Use pandas.concat instead.\n",
      "/home/leon/PycharmProjects/RoleMatchingEvaluation/role_matching/EvaluationHelperMethods.py:21: FutureWarning: The frame.append method is deprecated and will be removed from pandas in a future version. Use pandas.concat instead.\n"
     ]
    },
    {
     "name": "stdout",
     "output_type": "stream",
     "text": [
      "Index(['dataset', 'id1', 'id2', 'isInStrictBlockingDecay',\n",
      "       'isInStrictBlockingNoDecay', 'isInValueSetBlocking',\n",
      "       'isInSequenceBlocking', 'isInExactMatchBlocking', 'isSemanticRoleMatch',\n",
      "       'compatibilityPercentageDecay', 'compatibilityPercentageNoDecay',\n",
      "       'exactSequenceMatchPercentage', 'hasTransitionOverlapNoDecay',\n",
      "       'hasTransitionOverlapDecay', 'hasValueSetOverlap',\n",
      "       'isInSVABlockingNoDecay', 'isInSVABlockingDecay', 'VACount', 'DVACount',\n",
      "       'isInTSMBlockingNoWildcard', 'isInTSMBlockingWithWildcard',\n",
      "       'strictlyCompatiblePercentage'],\n",
      "      dtype='object')\n",
      "50000\n",
      "[0.0,0.7) (<70%) 16\n",
      "[0.7,1.0) (70%) 21\n",
      "[1.0,1.0] (full) 116\n",
      "dataset,#TP,EM,CBRB,QSM,TSM,VSM\n",
      ",,R,R,R,R,R\n",
      "ED,19,36,78,57,73,73\n",
      "FO,44,88,93,90,93,95\n",
      "MI,21,23,57,33,33,33\n",
      "PO,33,45,60,54,60,63\n",
      "TV,36,41,77,66,75,75\n",
      "Micro-AVG,153,52,75,65,71,72\n",
      "Macro-AVG,,47,73,60,67,68,"
     ]
    }
   ],
   "source": [
    "import role_matching.EvaluationHelperMethods as rm\n",
    "import role_matching.MetricHelperMethods as mhm\n",
    "import pandas as pd\n",
    "from plotnine import *\n",
    "from plotnine.data import *\n",
    "from tabulate import tabulate\n",
    "from sklearn.metrics import accuracy_score, f1_score, precision_score, recall_score, classification_report, confusion_matrix, precision_recall_curve\n",
    "import numpy as np\n",
    "\n",
    "bucketAndDatasetToWeight, _ = rm.getBucketAndDatasetToWeight()\n",
    "\n",
    "OLD = True\n",
    "if(OLD):\n",
    "    weighted = False\n",
    "else:\n",
    "    weighted = True\n",
    "df = rm.readGoldStandardEvaluation(OLD)\n",
    "#df['isInStrictBlockingNoDecayWithFilter']\n",
    "methodNames = ['isInExactMatchBlockingWithFilter','isInStrictBlockingNoDecayWithFilter','isInSequenceBlockingWithFilter','isInTSMBlockingWithFilter','isInValueSetBlockingWithFilter']\n",
    "               #'isInExactMatchBlockingWithFilter','isInSequenceBlockingWithFilter','isInValueSetBlockingWithFilter','isInStrictBlockingNoDecayWithFilter']\n",
    "\n",
    "#print(\"dataset\",\"#TP\",\"EM,,\",\"CSM,,\",\"VSM,,\",\"RM,,\",\"FCBRM (ND),,\",\"FCBRM (D),,\",\"CBRM (ND),,\",\"CBRM (D),,\",sep=\",\")\n",
    "print(\"dataset\",\"#TP\",\"EM\",\"CBRB\",\"QSM\",\"TSM\",\"VSM\",sep=\",\")\n",
    "print(\",\" + (\",R\"* (len(methodNames))))\n",
    "#print(\",,P,R,F1\",\"P,R,F1\",\"P,R,F1\",\"P,R,F1\",\"P,R,F1\",sep=\",\")\n",
    "dsNameList = []\n",
    "for dsName in df['dataset'].unique():\n",
    "    dsNameList.append(dsName)\n",
    "dsNameList.sort()\n",
    "for dsName in dsNameList:\n",
    "    shortName = rm.datasetToAbbreviation[dsName]\n",
    "    mhm.printRecallForNonparametrizedMethodsDF(shortName,df[df['dataset']==dsName],methodNames,weighted,bucketAndDatasetToWeight)\n",
    "mhm.printRecallForNonparametrizedMethodsDF(\"Micro-AVG\",df,methodNames,weighted,bucketAndDatasetToWeight)\n",
    "mhm.printMacroAveragesRecall(\"Macro-AVG\",df,methodNames,weighted,bucketAndDatasetToWeight)"
   ],
   "metadata": {
    "collapsed": false,
    "pycharm": {
     "name": "#%%\n"
    }
   }
  },
  {
   "cell_type": "code",
   "execution_count": 14,
   "outputs": [],
   "source": [],
   "metadata": {
    "collapsed": false,
    "pycharm": {
     "name": "#%%\n"
    }
   }
  },
  {
   "cell_type": "code",
   "execution_count": 15,
   "outputs": [
    {
     "name": "stdout",
     "output_type": "stream",
     "text": [
      "dataset,#TP,EM,,CSM,,VSM,,FCBRM (ND),,FCBRM (NDWF),\n",
      ",,N,R,N,R,N,R,N,R,N,R\n"
     ]
    },
    {
     "ename": "NameError",
     "evalue": "name 'datasetToAbbreviation' is not defined",
     "output_type": "error",
     "traceback": [
      "\u001B[0;31m---------------------------------------------------------------------------\u001B[0m",
      "\u001B[0;31mNameError\u001B[0m                                 Traceback (most recent call last)",
      "Input \u001B[0;32mIn [15]\u001B[0m, in \u001B[0;36m<module>\u001B[0;34m\u001B[0m\n\u001B[1;32m      9\u001B[0m dsNameList\u001B[38;5;241m.\u001B[39msort()\n\u001B[1;32m     10\u001B[0m \u001B[38;5;28;01mfor\u001B[39;00m dsName \u001B[38;5;129;01min\u001B[39;00m dsNameList:\n\u001B[0;32m---> 11\u001B[0m     shortName \u001B[38;5;241m=\u001B[39m \u001B[43mdatasetToAbbreviation\u001B[49m[dsName]\n\u001B[1;32m     12\u001B[0m     mhm\u001B[38;5;241m.\u001B[39mprintNAndRecallForNonparametrizedMethodsDF(shortName,df[df[\u001B[38;5;124m'\u001B[39m\u001B[38;5;124mdataset\u001B[39m\u001B[38;5;124m'\u001B[39m]\u001B[38;5;241m==\u001B[39mdsName],methods)\n\u001B[1;32m     13\u001B[0m mhm\u001B[38;5;241m.\u001B[39mprintNAndRecallForNonparametrizedMethodsDF(\u001B[38;5;124m\"\u001B[39m\u001B[38;5;124mMicro-AVG\u001B[39m\u001B[38;5;124m\"\u001B[39m,df,methods)\n",
      "\u001B[0;31mNameError\u001B[0m: name 'datasetToAbbreviation' is not defined"
     ]
    }
   ],
   "source": [
    "#\n",
    "#Returned number of pairs vs Recall:\n",
    "print(\"dataset\",\"#TP\",\"EM,\",\"CSM,\",\"VSM,\",\"FCBRM (ND),\",\"FCBRM (NDWF),\",sep=\",\")\n",
    "print(\",,N,R\",\"N,R\",\"N,R\",\"N,R\",\"N,R\",sep=\",\")\n",
    "methods = ['isInExactMatchBlocking','isInSequenceBlocking','isInValueSetBlocking','isInStrictBlockingNoDecay','isInStrictBlockingNoDecayWithFilter']\n",
    "dsNameList = []\n",
    "for dsName in df['dataset'].unique():\n",
    "    dsNameList.append(dsName)\n",
    "dsNameList.sort()\n",
    "for dsName in dsNameList:\n",
    "    shortName = datasetToAbbreviation[dsName]\n",
    "    mhm.printNAndRecallForNonparametrizedMethodsDF(shortName,df[df['dataset']==dsName],methods)\n",
    "mhm.printNAndRecallForNonparametrizedMethodsDF(\"Micro-AVG\",df,methods)\n",
    "mhm.printMacroAveragesNAndRecall(\"Macro-AVG\",df,methods)"
   ],
   "metadata": {
    "collapsed": false,
    "pycharm": {
     "name": "#%%\n"
    }
   }
  },
  {
   "cell_type": "markdown",
   "source": [
    "# Tabular Overview over True Semantic Matches"
   ],
   "metadata": {
    "collapsed": false,
    "pycharm": {
     "name": "#%% md\n"
    }
   }
  },
  {
   "cell_type": "code",
   "execution_count": null,
   "outputs": [],
   "source": [
    "# true positives:\n",
    "dfTruePositivesOnly = df[df['isSemanticRoleMatch']]\n",
    "tab = dfTruePositivesOnly.groupby(['dataset','bucket']).size()\n",
    "print(tab)"
   ],
   "metadata": {
    "collapsed": false,
    "pycharm": {
     "name": "#%%\n"
    }
   }
  },
  {
   "cell_type": "code",
   "execution_count": null,
   "outputs": [],
   "source": [
    "import role_matching.EvaluationHelperMethods as rm\n",
    "OLD=True # old or new gold standard\n",
    "\n",
    "\n",
    "df1 = pd.read_csv(\"localData/semanticAnnotation/gs1/results_corrected.csv\")\n",
    "df1[\"GS\"] = \"DGS\"\n",
    "df2 = pd.read_csv(\"localData/semanticAnnotation/gs2/results_corrected.csv\")\n",
    "df2[\"GS\"] = \"RGS\"\n",
    "df = df1.append(df2)\n",
    "\n",
    "rm.addFilteredBlockingMethods(df1)\n",
    "rm.addFilteredBlockingMethods(df2)\n",
    "rm.addShortDataset(df1)\n",
    "rm.addShortDataset(df2)\n",
    "df1['bucket'] = df1['compatibilityPercentageNoDecay'].map(lambda x: rm.getShortGroup(x))\n",
    "df2['bucket'] = df2['compatibilityPercentageNoDecay'].map(lambda x: rm.getShortGroup(x))\n",
    "\n",
    "#histogram\n",
    "dfTruePositivesOnlyDF1 = df1[df1['isSemanticRoleMatch']]\n",
    "dfTruePositivesOnlyDF2 = df2[df2['isSemanticRoleMatch']]\n",
    "dfAllPositives = dfTruePositivesOnlyDF1.append(dfTruePositivesOnlyDF2)\n",
    "\n",
    "print(dfTruePositivesOnly.columns)\n",
    "plot = ggplot(dfAllPositives,aes(x = 'datasetShort',fill=\"bucket\")) +xlab(\"\") + geom_bar(stat = \"count\") + facet_wrap(\"GS\") + ggtitle(\"True Positives\") + theme(text=element_text(size=14)) +  geom_text(aes(label = \"..count..\"),position = position_stack(vjust = 0.25), stat = \"count\")\n",
    "print(plot)\n",
    "plot.save(\"exportedPlots/truePositivesBoth.png\")\n",
    "\n",
    "print(dfTruePositivesOnly.columns)\n",
    "plot = ggplot(dfTruePositivesOnlyDF1,aes(x = 'datasetShort',fill=\"bucket\")) +xlab(\"\") + theme_bw() + geom_bar(position=position_dodge2(preserve = \"single\")) + ggtitle(\"True Positives - DGS\") + ylim(0,60) + theme(text=element_text(size=14)) \\\n",
    "       #+  geom_text(aes(label = \"..count..\"), stat = \"count\")\n",
    "print(plot)\n",
    "plot.save(\"exportedPlots/dgs.png\")\n",
    "plot = ggplot(dfTruePositivesOnlyDF2,aes(x = 'datasetShort',fill=\"bucket\")) +xlab(\"\") + ylab(\"\")+ ylim(0,60) +theme(axis_title_y=element_blank(),axis_text_y=element_blank(),axis_ticks_major_y=element_blank(),axis_ticks_minor_y=element_blank()) + geom_bar(position=position_dodge2(preserve = \"single\")) + ggtitle(\"True Positives - RGS\")  + theme(text=element_text(size=14))\n",
    "       #+  geom_text(aes(label = \"..count..\"),nudge_x=0.2, stat = \"count\")\n",
    "print(plot)\n",
    "plot.save(\"exportedPlots/rgs.png\")\n",
    "\n",
    "print(sum((dfTruePositivesOnlyDF1['bucket']==\"[1.0,1.0]\")) / len(dfTruePositivesOnlyDF1.index))\n",
    "print(sum((dfTruePositivesOnlyDF2['bucket']==\"[1.0,1.0]\")) / len(dfTruePositivesOnlyDF2.index))\n",
    "print(sum((dfTruePositivesOnlyDF1['isInStrictBlockingNoDecayWithFilter'])) / len(dfTruePositivesOnlyDF1.index))\n",
    "print(sum((dfTruePositivesOnlyDF2['isInStrictBlockingNoDecayWithFilter'])) / len(dfTruePositivesOnlyDF2.index))"
   ],
   "metadata": {
    "collapsed": false,
    "pycharm": {
     "name": "#%%\n"
    }
   }
  },
  {
   "cell_type": "markdown",
   "source": [
    "# Tabular Overview over True Semantic Matches Sorted by Compatibility"
   ],
   "metadata": {
    "collapsed": false,
    "pycharm": {
     "name": "#%% md\n"
    }
   }
  },
  {
   "cell_type": "code",
   "execution_count": null,
   "outputs": [],
   "source": [
    "dfTruePositives = df[df['isSemanticRoleMatch']]\n",
    "#For Decay:\n",
    "dfTruePositives.sort_values('compatibilityPercentageDecay',inplace=True)\n",
    "print(tabulate(dfTruePositives, headers='keys', tablefmt='psql'))\n",
    "#Total:\n",
    "print(sum(df['isSemanticRoleMatch']))\n",
    "print(sum(df['isSemanticRoleMatch'] & df['isInStrictBlockingDecay']))\n",
    "# For No Decay:\n",
    "dfTruePositives.sort_values('compatibilityPercentageNoDecay',inplace=True)\n",
    "print(tabulate(dfTruePositives, headers='keys', tablefmt='psql'))\n",
    "#Total:\n",
    "print(sum(df['isSemanticRoleMatch']))\n",
    "print(sum(df['isSemanticRoleMatch'] & df['isInStrictBlockingNoDecay']))\n"
   ],
   "metadata": {
    "collapsed": false,
    "pycharm": {
     "name": "#%%\n"
    }
   }
  },
  {
   "cell_type": "markdown",
   "source": [
    "# Recall Plots"
   ],
   "metadata": {
    "collapsed": false,
    "pycharm": {
     "name": "#%% md\n"
    }
   }
  },
  {
   "cell_type": "code",
   "execution_count": null,
   "outputs": [],
   "source": [
    "#exact match:\n",
    "precision,recall,threshold = precision_recall_curve(df['isSemanticRoleMatch'],df['exactSequenceMatchPercentage'])\n",
    "lowestThreshold = threshold[0]\n",
    "relaxedMatchRecallDf = df[df['exactSequenceMatchPercentage']<lowestThreshold]\n",
    "print(\"No Single true role match for below (with decay) \",lowestThreshold,\"found in \",len(relaxedMatchRecallDf.index),\"elements\")\n",
    "plotDFRelaxedExactMatch = pd.DataFrame({'recall': recall[0:len(recall)-1], 'threshold':threshold,\"method\":\"RM\", 'precision':precision[0:len(precision)-1]})\n",
    "\n",
    "#no decay:\n",
    "precision,recall,threshold = precision_recall_curve(df['isSemanticRoleMatch'],df['compatibilityPercentageDecay'])\n",
    "lowestThreshold = threshold[0]\n",
    "noRecallDf = df[df['compatibilityPercentageDecay']<lowestThreshold]\n",
    "print(\"No Single true role match for below (with decay) \",lowestThreshold,\"found in \",len(noRecallDf.index),\"elements\")\n",
    "plotDFVA = pd.DataFrame({'recall': recall[0:len(recall) - 1], 'threshold':threshold, \"method\": \"CBRB - With Decay\", 'precision': precision[0:len(precision) - 1]})\n",
    "#decay:\n",
    "precision,recall,threshold = precision_recall_curve(df['isSemanticRoleMatch'],df['compatibilityPercentageNoDecay'])\n",
    "lowestThreshold = threshold[0]\n",
    "noRecallDf = df[df['compatibilityPercentageNoDecay']<lowestThreshold]\n",
    "print(\"No Single true role match for below (without decay) \",lowestThreshold,\"found in \",len(noRecallDf.index),\"elements\")\n",
    "plotDF2 = pd.DataFrame({'recall': recall[0:len(recall)-1], 'threshold':threshold,\"method\":\"CBRB - No Decay\", 'precision':precision[0:len(precision)-1]})\n",
    "finalPlotDF = plotDFVA.append(plotDF2).append(plotDFRelaxedExactMatch)\n",
    "plot = ggplot(finalPlotDF,aes(x = 'threshold',y='recall',color=\"method\",group=\"method\")) + geom_line() + ylim(0, 1) + xlab(\"γ\") + theme(text=element_text(size=14)) + geom_line(finalPlotDF,aes(x = 'threshold',y='precision',group=\"method\",color=\"method\"))#+ ggtitle(\"Recall on GOld Standard - all Datasets Combined\")\n",
    "print(plot)\n",
    "#for every dataset:\n",
    "\n",
    "largeSampleDF = pd.DataFrame()\n",
    "for ds in df.dataset.unique():\n",
    "    thisDF = df[df['dataset']==ds]\n",
    "    precision,recall,threshold = precision_recall_curve(thisDF['isSemanticRoleMatch'],thisDF['compatibilityPercentageDecay'])\n",
    "    plotDFVA = pd.DataFrame({'recall': recall[0:len(recall) - 1], 'threshold':threshold, 'dataset':ds, 'precision': precision[0:len(precision) - 1]})\n",
    "    largeSampleDF = largeSampleDF.append(plotDFVA)\n",
    "plot = ggplot(largeSampleDF, aes(x ='threshold', y='recall', group=\"dataset\", color=\"dataset\")) + geom_line() + xlim(0, 1) + ylim(0, 1) + ggtitle(\"Recall Over Threshold (CBRB With Decay) - by Dataset\")\n",
    "print(plot)\n",
    "\n",
    "# For every dataset:\n",
    "for ds in df.dataset.unique():\n",
    "    thisDF = df[df['dataset']==ds]\n",
    "    #exactMatch:\n",
    "    precision,recall,threshold = precision_recall_curve(thisDF['isSemanticRoleMatch'],thisDF['exactSequenceMatchPercentage'])\n",
    "    plotDFRelaxedExactMatch = pd.DataFrame({'recall': recall[0:len(recall)-1], 'threshold':threshold,\"method\":\"RM\"})\n",
    "    #decay:\n",
    "    precision,recall,threshold = precision_recall_curve(thisDF['isSemanticRoleMatch'],thisDF['compatibilityPercentageDecay'])\n",
    "    plotDFVA = pd.DataFrame({'recall': recall[0:len(recall) - 1], 'threshold':threshold, \"method\": \"CBRB - With Decay\"})\n",
    "    #no decay:\n",
    "    precision,recall,threshold = precision_recall_curve(thisDF['isSemanticRoleMatch'],thisDF['compatibilityPercentageNoDecay'])\n",
    "    plotDF2 = pd.DataFrame({'recall': recall[0:len(recall)-1], 'threshold':threshold,\"method\":\"CBRB - No Decay\"})\n",
    "    finalPlotDF = plotDFVA.append(plotDF2).append(plotDFRelaxedExactMatch)\n",
    "    plot = ggplot(finalPlotDF,aes(x = 'threshold',y='recall',color=\"method\",group=\"method\")) + geom_line() + ylim(0, 1) + ggtitle(\"Recall Over Threshold \" + ds)\n",
    "    print(plot)\n",
    "\n"
   ],
   "metadata": {
    "collapsed": false,
    "pycharm": {
     "name": "#%%\n"
    }
   }
  },
  {
   "cell_type": "markdown",
   "source": [
    "# Beta-Gamma Tradeoff"
   ],
   "metadata": {
    "collapsed": false,
    "pycharm": {
     "name": "#%% md\n"
    }
   }
  },
  {
   "cell_type": "code",
   "execution_count": null,
   "outputs": [],
   "source": [
    "dfBetaGamma = pd.read_csv(\"localData/semanticAnnotation/gamma_beta_relationship.csv\")\n",
    "#dfBetaGamma = pd.read_csv(\"localData/semanticAnnotation/gamma_beta_relationship_laterTrainTimeEnd.csv\")\n",
    "print(dfBetaGamma.columns)\n",
    "print(dfBetaGamma.dtypes)\n",
    "dfBetaGamma['bucket'] = dfBetaGamma['actualCompatibilityNoDecay'].map(lambda x: getGroup(x)) #actualCompatibilityNoDecay\n",
    "\n",
    "#TODO: add bucket here somehow - not sure if and how that makes sense!\n",
    "\n",
    "# for ds in dfBetaGamma['dataset'].unique():\n",
    "#     dsForThisDS = dfBetaGamma[dfBetaGamma['dataset']==ds]\n",
    "#     dsShort = datasetToAbbreviation[ds]\n",
    "#     plot = ggplot(df,aes(x = 'gamma',y='beta',fill=\"dataset\",group='dataset')) + geom_histogram(position=position_dodge()) + theme(axis_text_x = element_text(angle=90, hjust=1))\n"
   ],
   "metadata": {
    "collapsed": false,
    "pycharm": {
     "name": "#%%\n"
    }
   }
  },
  {
   "cell_type": "markdown",
   "source": [
    "# For FCBRB"
   ],
   "metadata": {
    "collapsed": false,
    "pycharm": {
     "name": "#%% md\n"
    }
   }
  },
  {
   "cell_type": "code",
   "execution_count": null,
   "outputs": [],
   "source": [
    "finalDFNoRelaxation = largeSampleDF[largeSampleDF['gammaThreshold'] == 1.0]\n",
    "#By Dataset:\n",
    "plot = ggplot(finalDFNoRelaxation,aes(x = 'betaThreshold',y='recall',color=\"dataset\",group=\"dataset\")) + geom_line() + ylim(0, 1) + ggtitle(\"Recall Over Threshold \")\n",
    "print(plot)\n",
    "#All:\n",
    "finalDFNoRelaxationAll = finalDFWithoutDatasetInGrouping[finalDFWithoutDatasetInGrouping['gammaThreshold']==1.0]\n",
    "plot = ggplot(finalDFNoRelaxationAll,aes(x = 'betaThreshold',y='recall')) + geom_line() + ylim(0, 1) + ggtitle(\"Recall Over Threshold \")\n",
    "print(plot)"
   ],
   "metadata": {
    "collapsed": false,
    "pycharm": {
     "name": "#%%\n"
    }
   }
  },
  {
   "cell_type": "code",
   "execution_count": null,
   "outputs": [],
   "source": [
    "\n",
    "for ds in largeSampleDF['dataset'].unique():\n",
    "    dsForThisDS = largeSampleDF[largeSampleDF['dataset'] == ds]\n",
    "    dsShort = datasetToAbbreviation[ds]\n",
    "    plot = ggplot(dsForThisDS,aes(x = 'gammaThreshold',y='betaThreshold',alpha=\"recall\")) + geom_point() + xlim(0.5,1) + ylim(0.5,1) + ggtitle(dsShort) + theme(text=element_text(size=14))#+ theme(axis_text_x = element_text(angle=90, hjust=1))\n",
    "    print(plot)\n",
    "#for all\n",
    "plot = ggplot(finalDFWithoutDatasetInGrouping,aes(x = 'gammaThreshold',y='betaThreshold',alpha=\"recall\",color='precision')) +xlab(\"γ\") + ylab(\"β\") + geom_point() + xlim(0.5,1) + ylim(0.5,1) + theme(text=element_text(size=14)) #+ theme(axis_text_x = element_text(angle=90, hjust=1))\n",
    "print(plot)\n",
    "plot.save(\"exportedPlots/gammaBetaImpact_Recall.png\")\n",
    "plot = ggplot(finalDFWithoutDatasetInGrouping,aes(x = 'gammaThreshold',y='betaThreshold',alpha=\"precision\")) + geom_point() + xlim(0.5,1) + ylim(0.5,1) + ggtitle(\"Precision\")+ theme(text=element_text(size=14))#+ theme(axis_text_x = element_text(angle=90, hjust=1))\n",
    "print(plot)\n",
    "plot.save(\"exportedPlots/gammaBetaImpact_Precision.png\")\n",
    "plot = ggplot(finalDFWithoutDatasetInGrouping,aes(x = 'gammaThreshold',y='betaThreshold',alpha=\"f1\")) + geom_point() + xlim(0.5,1) + ylim(0.5,1) + ggtitle(\"ALL  - F1\") + theme(text=element_text(size=14))#+ theme(axis_text_x = element_text(angle=90, hjust=1))\n",
    "print(plot)"
   ],
   "metadata": {
    "collapsed": false,
    "pycharm": {
     "name": "#%%\n"
    }
   }
  },
  {
   "cell_type": "markdown",
   "source": [
    "# Decay Curve for 0.8"
   ],
   "metadata": {
    "collapsed": false,
    "pycharm": {
     "name": "#%% md\n"
    }
   }
  },
  {
   "cell_type": "code",
   "execution_count": null,
   "outputs": [],
   "source": [
    "#All:\n",
    "\n",
    "decayCurveDF = finalDFWithoutDatasetInGrouping[finalDFWithoutDatasetInGrouping['gammaThreshold']==0.8]\n",
    "pd.set_option('display.max_rows', 500)\n",
    "print(decayCurveDF)\n",
    "pd.reset_option('display.max_rows')\n",
    "plot = ggplot(decayCurveDF,aes(x = 'betaThreshold',y='recall')) + geom_line() + xlim(0.5,1) + ylim(0.5,1) + ggtitle(\"ALL\") + theme(text=element_text(size=14))#+ theme(axis_text_x = element_text(angle=90, hjust=1))\n",
    "print(plot)"
   ],
   "metadata": {
    "collapsed": false,
    "pycharm": {
     "name": "#%%\n"
    }
   }
  },
  {
   "cell_type": "code",
   "execution_count": null,
   "outputs": [],
   "source": [
    "rows = []\n",
    "grouped = dfBetaGamma.groupby(['dataset', 'betaThreshold', 'gammaThreshold'])\n",
    "for (dataset,betaThreshold,gammaThreshold),group in grouped:\n",
    "    precision,recall,f1 = getWEIGHTEDPRF(\"isInCBRB\",group)\n",
    "    rows.append({\"dataset\":dataset, \"betaThreshold\":betaThreshold, \"gammaThreshold\":gammaThreshold, \"precision\":precision, \"recall\":recall, \"f1\":f1})\n",
    "largeSampleDF = pd.DataFrame(rows)\n",
    "\n",
    "rowsWithoutDatasetInGrouping = []\n",
    "groupedWithoutDataset = dfBetaGamma.groupby(['betaThreshold','gammaThreshold'])\n",
    "for (betaThreshold,gammaThreshold),group in groupedWithoutDataset:\n",
    "    precision,recall,f1 = getWEIGHTEDPRF(\"isInCBRB\",group)\n",
    "    rowsWithoutDatasetInGrouping.append({\"method\":\"isInCBRB\",\"betaThreshold\":betaThreshold, \"gammaThreshold\":gammaThreshold, \"precision\":precision, \"recall\":recall, \"f1\":f1})\n",
    "    precision,recall,f1 = getWEIGHTEDPRF(\"isInSCB\",group)\n",
    "    rowsWithoutDatasetInGrouping.append({\"method\":\"isInSCB\",\"betaThreshold\":betaThreshold, \"gammaThreshold\":gammaThreshold, \"precision\":precision, \"recall\":recall, \"f1\":f1})\n",
    "finalDFWithoutDatasetInGrouping = pd.DataFrame(rowsWithoutDatasetInGrouping)\n"
   ],
   "metadata": {
    "collapsed": false,
    "pycharm": {
     "name": "#%%\n"
    }
   }
  },
  {
   "cell_type": "markdown",
   "source": [
    "# Target Recall - All"
   ],
   "metadata": {
    "collapsed": false,
    "pycharm": {
     "name": "#%% md\n"
    }
   }
  },
  {
   "cell_type": "code",
   "execution_count": null,
   "outputs": [],
   "source": [
    "#All:\n",
    "targetRecallThresholds = []\n",
    "for i in range(0,100):\n",
    "    targetRecallThresholds.append((100 - i)/100)\n",
    "print(targetRecallThresholds)\n",
    "\n",
    "dsRows = []\n",
    "configRows = []\n",
    "\n",
    "WEIGHTED = True\n",
    "\n",
    "for targetRecall in targetRecallThresholds:\n",
    "    precisonCBRBWithDecay,precisionRowCBRB = mhm.getPrecisionForTargetRecall(finalDFWithoutDatasetInGrouping, targetRecall,\"isInCBRB\")\n",
    "    dsRows.append({\"method\":\"CBRB (D)\",\"targetRecall\":targetRecall,\"precision\":precisonCBRBWithDecay})\n",
    "    precisonSCBWithDecay,precisionRowSCB = mhm.getPrecisionForTargetRecall(finalDFWithoutDatasetInGrouping, targetRecall,\"isInSCB\")\n",
    "    dsRows.append({\"method\":\"SCB (D)\",\"targetRecall\":targetRecall,\"precision\":precisonSCBWithDecay})\n",
    "    precisionCBRBNoDecay,gammaThresholdCBRBNoDecay = mhm.getPrecisionForTargetRecallForMethod(df,targetRecall,\"compatibilityPercentageNoDecay\",WEIGHTED)\n",
    "    dsRows.append({\"method\":\"CBRB (ND)\",\"targetRecall\":targetRecall,\"precision\":precisionCBRBNoDecay})\n",
    "    precisionRM,gammaThresholdRM = mhm.getPrecisionForTargetRecallForMethod(df,targetRecall,\"exactSequenceMatchPercentage\",WEIGHTED)\n",
    "    dsRows.append({\"method\":\"RM\",\"targetRecall\":targetRecall,\"precision\":precisionRM})\n",
    "    precisionSCB,gammaThresholdSCB = mhm.getPrecisionForTargetRecallForMethod(df,targetRecall,\"strictlyCompatiblePercentage\",WEIGHTED)\n",
    "    dsRows.append({\"method\":\"SCB\",\"targetRecall\":targetRecall,\"precision\":precisionSCB})\n",
    "    configRows.append({\"recall\":targetRecall,\n",
    "                       \"gammaCBRB (D)\":precisionRowCBRB['gammaThreshold'],\n",
    "                       \"betaCBRB (D)\":precisionRowCBRB['betaThreshold'],\n",
    "                       \"gammaSCB (D)\":precisionRowSCB['gammaThreshold'],\n",
    "                       \"betaSCB (D)\":precisionRowSCB['betaThreshold'],\n",
    "                       \"gamma CBRB (ND)\":gammaThresholdCBRBNoDecay,\n",
    "                       \"gamma RM\":gammaThresholdRM,\n",
    "                       \"gamma SCB\":gammaThresholdSCB})\n",
    "\n",
    "configDF = pd.DataFrame(configRows)\n",
    "\n",
    "\n",
    "\n",
    "pd.set_option('display.max_rows', 500)\n",
    "print(configDF)\n",
    "\n",
    "plotDFVA = pd.DataFrame(dsRows)\n",
    "plot = ggplot(plotDFVA, aes(x ='targetRecall', y='precision', group=\"method\", color =\"method\")) + geom_line(size=1) + xlim(0, 1) + ylim(0, 1) + ggtitle(\"PR-Curve (Micro-Average)\") + theme(text=element_text(size=14)) + xlab(\"recall\")#+ theme(axis_text_x = element_text(angle=90, hjust=1))\n",
    "plot.save(\"exportedPlots/prCurve.png\")\n",
    "print(plot)\n",
    "\n",
    "# targetRecall=0.85\n",
    "\n",
    "# printBestPrecisionAtTargetRecall(\"ALL\",finalDFWithoutDatasetInGrouping,targetRecall)\n",
    "#\n",
    "# #For every Dataset:\n",
    "# for ds in finalDF['dataset'].unique():\n",
    "#     dsForThisDS = finalDF[finalDF['dataset']==ds]\n",
    "#     printBestPrecisionAtTargetRecall(ds,dsForThisDS,targetRecall)\n",
    "#\n",
    "# best precision for RM:\n"
   ],
   "metadata": {
    "collapsed": false,
    "pycharm": {
     "name": "#%%\n"
    }
   }
  },
  {
   "cell_type": "markdown",
   "source": [
    "# Target Recall - By Dataset"
   ],
   "metadata": {
    "collapsed": false,
    "pycharm": {
     "name": "#%% md\n"
    }
   }
  },
  {
   "cell_type": "code",
   "execution_count": null,
   "outputs": [],
   "source": [
    "for ds in largeSampleDF['dataset'].unique():\n",
    "    dsForThisDS = largeSampleDF[largeSampleDF['dataset'] == ds]\n",
    "    dsShort = datasetToAbbreviation[ds]\n",
    "    normalDfForThisDS = df[df['dataset']==ds]\n",
    "    dsRows = []\n",
    "    for targetRecall in targetRecallThresholds:\n",
    "        precisonCBRBWithDecay,thresholdCBRBDecay = getPrecisionForTargetRecall(dsForThisDS, targetRecall)\n",
    "        dsRows.append({\"dataset\":ds,\"method\":\"CBRB (D)\",\"targetRecall\":targetRecall,\"precision\":precisonCBRBWithDecay})\n",
    "        #precisionCBRBNoDecay,thresholdCBRBNoDecay = getPrecisionForTargetRecallForMethod(normalDfForThisDS,targetRecall,\"compatibilityPercentageNoDecay\")\n",
    "        #dsRows.append({\"method\":\"CBRB (ND)\",\"targetRecall\":targetRecall,\"precision\":precisionCBRBNoDecay})\n",
    "        precisionRM,thresholdRM = getPrecisionForTargetRecallForMethod(normalDfForThisDS,targetRecall,\"exactSequenceMatchPercentage\")\n",
    "        dsRows.append({\"dataset\":ds,\"method\":\"RM\",\"targetRecall\":targetRecall,\"precision\":precisionRM})\n",
    "    plotDFVA = pd.DataFrame(dsRows)\n",
    "    plot = ggplot(plotDFVA, aes(x ='targetRecall', y='precision', color=\"method\", shape =\"dataset\")) + geom_line() + xlim(0, 1) + ylim(0, 1) + ggtitle(ds)#+ theme(axis_text_x = element_text(angle=90, hjust=1))\n",
    "    print(plot)\n"
   ],
   "metadata": {
    "collapsed": false,
    "pycharm": {
     "name": "#%%\n"
    }
   }
  },
  {
   "cell_type": "markdown",
   "source": [
    "# Target Recall - Ground Truth differences"
   ],
   "metadata": {
    "collapsed": false,
    "pycharm": {
     "name": "#%% md\n"
    }
   }
  },
  {
   "cell_type": "code",
   "execution_count": null,
   "outputs": [],
   "source": [
    "targetRecall = 0.85\n",
    "thresholdRM = 0.734577\n",
    "gammaThresholdCBRBNoDecay = 0.909483\n",
    "gammaThresholdCBRBDecay = 0.95\n",
    "#betaThresholdCBRBDecay = 0.94 - not needed but needs to be set in scala program!\n",
    "\n",
    "df['isInCBRBTargetRecall'] = (df['compatibilityPercentageDecay']>gammaThresholdCBRBDecay)\n",
    "df['isInCBRBNoDecayTargetRecall'] = (df['compatibilityPercentageNoDecay']>gammaThresholdCBRBNoDecay)\n",
    "df['isInRMTargetRecall'] = (df['exactSequenceMatchPercentage']>thresholdRM)\n",
    "df['edgeID'] = df['id1'] + \"_\" + df[\"id2\"]# df.map(lambda x: x['id1'] + \"_\"+ x['id2'])\n",
    "blockingMethodNames = ['isInCBRBTargetRecall','isInCBRBNoDecayTargetRecall','isInRMTargetRecall']\n",
    "dfTruePositives = df[df['isSemanticRoleMatch']]\n",
    "cbrb = set(dfTruePositives[dfTruePositives['isInCBRBTargetRecall']]['edgeID'])\n",
    "cbrbNoDecay = set(dfTruePositives[dfTruePositives['isInCBRBNoDecayTargetRecall']]['edgeID'])\n",
    "rm = set(dfTruePositives[dfTruePositives['isInRMTargetRecall']]['edgeID'])\n",
    "#compute set differences:\n",
    "mhm.printSetDifferences(cbrb,rm,\"cbrb\",\"rm\")\n",
    "mhm.printSetDifferences(cbrb,cbrbNoDecay,\"cbrb\",\"cbrb (ND)\")\n",
    "mhm.printSetDifferences(cbrbNoDecay,rm,\"cbrb (ND)\",\"rm\")\n",
    "\n",
    "#cbrbDecayMinusRM = cbrbNoDecay.difference(rm)"
   ],
   "metadata": {
    "collapsed": false,
    "pycharm": {
     "name": "#%%\n"
    }
   }
  },
  {
   "cell_type": "code",
   "execution_count": null,
   "outputs": [],
   "source": [
    "\n",
    "precision,recall,threshold = precision_recall_curve(df['isSemanticRoleMatch'],df['exactSequenceMatchPercentage'])\n",
    "index = np.argmax(recall < targetRecall)-1\n",
    "print(index)\n",
    "print(threshold[index])\n",
    "print(recall[index])\n",
    "print(precision[index])"
   ],
   "metadata": {
    "collapsed": false,
    "pycharm": {
     "name": "#%%\n"
    }
   }
  },
  {
   "cell_type": "markdown",
   "source": [
    "# TODO: FCBRB with varying beta!"
   ],
   "metadata": {
    "collapsed": false,
    "pycharm": {
     "name": "#%% md\n"
    }
   }
  },
  {
   "cell_type": "code",
   "execution_count": null,
   "outputs": [],
   "source": [
    "dfBeta = dfBetaGamma[dfBetaGamma['gammaThreshold']==1.0]\n",
    "grouped = dfBeta.groupby(\"betaThreshold\")\n",
    "\n",
    "resultRows = []\n",
    "for beta,dfGrouped in grouped:\n",
    "    precision,recall,f1 = getPRF(\"isInCBRB\",dfGrouped)\n",
    "    resultRows.append({'precision':precision,\"recall\":recall,\"beta\":beta})\n",
    "resultDFBeta = pd.DataFrame(resultRows)\n",
    "\n",
    "#precision,recall,threshold = precision_recall_curve(dfBeta['isSemanticRoleMatch'],dfBeta['betaThreshold'])\n",
    "\n",
    "print(resultDFBeta)\n",
    "#print(recall)\n",
    "plot = ggplot(resultDFBeta,aes(x = 'beta',y='recall',color='precision')) + geom_line(size=1.0) + xlim(0.5,1) + ylim(0,1) + ggtitle(\"FCBRB\") + xlab(\"β\")+ theme(text=element_text(size=14))#+ theme(axis_text_x = element_text(angle=90, hjust=1))\n",
    "\n",
    "print(plot)\n",
    "plot.save(\"exportedPlots/fcbrb_beta.png\")"
   ],
   "metadata": {
    "collapsed": false,
    "pycharm": {
     "name": "#%%\n"
    }
   }
  },
  {
   "cell_type": "markdown",
   "source": [
    "# VA vs DA"
   ],
   "metadata": {
    "collapsed": false,
    "pycharm": {
     "name": "#%% md\n"
    }
   }
  },
  {
   "cell_type": "code",
   "execution_count": null,
   "outputs": [],
   "source": [
    "#print(df.columns)\n",
    "plot = ggplot(df,aes(x = 'VACount',fill=\"isSemanticRoleMatch\")) + geom_histogram(bins=40,position=position_dodge()) + theme(axis_text_x = element_text(angle=90, hjust=1))\n",
    "print(plot)\n",
    "plot = ggplot(df,aes(x = 'DVACount',fill=\"isSemanticRoleMatch\")) + geom_histogram(bins=40,position=position_dodge()) + theme(axis_text_x = element_text(angle=90, hjust=1))\n",
    "print(plot)\n",
    "precision,recall,thresholds = precision_recall_curve(df['isSemanticRoleMatch'],df['VACount'])\n",
    "plotDFVA = pd.DataFrame({'precision': precision[0:len(thresholds)], 'recall': recall[0:len(thresholds)], 'thresholds':thresholds})\n",
    "precision,recall,thresholds = precision_recall_curve(df['isSemanticRoleMatch'],df['DVACount'])\n",
    "plotDFDVA = pd.DataFrame({'precision': precision[0:len(thresholds)], 'recall': recall[0:len(thresholds)], 'thresholds':thresholds})\n",
    "#print(plotDFVA)\n",
    "plot = ggplot(plotDFVA, aes(x ='thresholds', y='recall')) + geom_line() + ggtitle(\"VA\")\n",
    "print(plot)\n",
    "plot = ggplot(plotDFDVA, aes(x ='thresholds', y='recall')) + geom_line()  + ggtitle(\"DVA\") + xlim(0,5)\n",
    "print(plot)\n",
    "#pr-curve\n",
    "plot = ggplot(plotDFVA, aes(x ='recall', y='precision')) + geom_point() + ggtitle(\"VA\") + ylim(0,1) + xlim(0,1)\n",
    "print(plot)\n",
    "plot = ggplot(plotDFDVA, aes(x ='recall', y='precision')) + geom_point()  + ggtitle(\"DVA\") + ylim(0,1) + xlim(0,1)\n",
    "print(plot)\n",
    "\n",
    "#new filter:\n",
    "df['VAandDVAFilter'] = ((df['VACount']>=95) & (df['DVACount']>=2))\n",
    "for ds in df['dataset'].unique():\n",
    "    p,r,f1,n = getPRFN('VAandDVAFilter',df[df['dataset']==ds])\n",
    "    print(ds,r,n)\n",
    "p,r,f1,n = getPRFN('VAandDVAFilter',df)\n",
    "print(\"all\",r,n)"
   ],
   "metadata": {
    "collapsed": false,
    "pycharm": {
     "name": "#%%\n"
    }
   }
  },
  {
   "cell_type": "markdown",
   "source": [
    "# Result Set size"
   ],
   "metadata": {
    "collapsed": false,
    "pycharm": {
     "name": "#%% md\n"
    }
   }
  },
  {
   "cell_type": "code",
   "execution_count": null,
   "outputs": [],
   "source": [
    "import glob\n",
    "import os\n",
    "import pandas as pd\n",
    "import role_matching.EvaluationHelperMethods as rm\n",
    "import role_matching.MetricHelperMethods as mhm\n",
    "\n",
    "\n",
    "dfAllPairsSample = pd.concat(map(pd.read_csv, glob.glob(os.path.join('', \"/home/leon/data/dataset_versioning/finalExperiments/allPairsSample/csvFiles/*.csv\"))))\n",
    "\n",
    "methodNames = ['isInValueSetBlockingWithFilter','isInStrictBlockingNoDecayWithFilter',\"isInTSMBlockingNoWildcard\",\"isInTSMBlockingWithFilter\"]\n",
    "#methodNames = [\"isInExactMatchBlocking\",\"isInSequenceBlocking\",\"isInValueSetBlocking\",\"isInStrictBlockingNoDecay\",\"isInDVA2VA95Blocking\",\"isIncbrbWithOutDecayTargetRecall95\",\"isRMTargetRecall95\",\"isIncbrbWithDecayTargetRecall95\",\"isInTSMBlockingNoWildcard\",\"isInTSMBlockingWithWildcard\",\"isSCBTargetRecall95\"]\n",
    "\n",
    "\n",
    "rm.addFilteredBlockingMethods(dfAllPairsSample)\n",
    "rm.addDVA2VA95Blocking(dfAllPairsSample)\n",
    "rm.addParametrizedScoresAsBooleanScores(dfAllPairsSample)\n",
    "print(dfAllPairsSample.columns)\n",
    "groupedByDS = dfAllPairsSample.groupby(\"dataset\")\n"
   ],
   "metadata": {
    "collapsed": false,
    "pycharm": {
     "name": "#%%\n"
    }
   }
  },
  {
   "cell_type": "code",
   "execution_count": null,
   "outputs": [],
   "source": [
    "#largeSampleDF['isInDVA2VA95Blocking'].describe()\n",
    "\n",
    "mhm.printForReductionRatioForMethodNames(methodNames, groupedByDS)\n",
    "mhm.printReductionRateForAllMethods(\"all\",dfAllPairsSample,methodNames)"
   ],
   "metadata": {
    "collapsed": false,
    "pycharm": {
     "name": "#%%\n"
    }
   }
  },
  {
   "cell_type": "code",
   "execution_count": null,
   "outputs": [],
   "source": [
    "rm.addParametrizedScoresAsBooleanScores(largeSampleDF)\n",
    "rm.addFilteredBlockingMethods(largeSampleDF)\n",
    "rm.addDVA2VA95Blocking(largeSampleDF)\n",
    "groupedByDSDVASample = largeSampleDF.groupby('dataset')\n",
    "print(len(largeSampleDF.index))\n",
    "mhm.printForReductionRatioForMethodNames(methodNames,groupedByDSDVASample)\n",
    "mhm.printReductionRateForAllMethods(\"all\",largeSampleDF,methodNames)"
   ],
   "metadata": {
    "collapsed": false,
    "pycharm": {
     "name": "#%%\n"
    }
   }
  },
  {
   "cell_type": "code",
   "execution_count": null,
   "outputs": [],
   "source": [
    "import role_matching.MetricHelperMethods as mhm\n",
    "#Reduction rate computation for military:\n",
    "\n",
    "#28.06.2022_17:19:23.480 [main] DEBUG d.h.r.e.s.SimpleAllPairSampler[75] - Finshed military with sample size:1000000 with misses: 88280922\n",
    "#28.06.2022_19:24:35.140 [main] DEBUG d.h.r.e.s.SimpleAllPairSampler[75] - Finshed politics with sample size:1000000 with misses: 41041877\n",
    "#28.06.2022_21:54:55.369 [main] DEBUG d.h.r.e.s.SimpleAllPairSampler[75] - Finshed football with sample size:1000000 with misses: 38466606\n",
    "#29.06.2022_00:40:12.254 [main] DEBUG d.h.r.e.s.SimpleAllPairSampler[75] - Finshed tv_and_film with sample size:1000000 with misses: 50646743\n",
    "#29.06.2022_03:16:43.917 [main] DEBUG d.h.r.e.s.SimpleAllPairSampler[75] - Finshed education with sample size:1000000 with misses: 28997770\n",
    "\n",
    "dsToAllPairs = {\n",
    "    \"military\": {\"allPairs\":4263199291,\"nMissesSVA\":88280922,\"nHitsSVA\":1000000},\n",
    "    \"tv_and_film\": {\"allPairs\":23657801481,\"nMissesSVA\":50646743,\"nHitsSVA\":1000000},\n",
    "    \"politics\": {\"allPairs\":2223411270,\"nMissesSVA\":41041877,\"nHitsSVA\":1000000},\n",
    "    \"education\": {\"allPairs\":2737889001,\"nMissesSVA\":28997770,\"nHitsSVA\":1000000},\n",
    "    \"football\": {\"allPairs\":53116323211,\"nMissesSVA\":38466606,\"nHitsSVA\":1000000},\n",
    "}\n",
    "\n",
    "#methodNames=[\"isInExactMatchBlocking\",\"isInSequenceBlocking\",\"isInValueSetBlocking\",\"isInTSMBlockingNoWildcard\",\"isInStrictBlockingNoDecay\",\"isRMTargetRecall95\",\"isIncbrbWithOutDecayTargetRecall95\",\"isIncbrbWithDecayTargetRecall95\"]\n",
    "#methodNames = ['isInValueSetBlocking','isInValueSetBlockingWithFilter','isInStrictBlockingNoDecay','isInStrictBlockingNoDecayWithFilter',\"isInTSMBlockingNoWildcard\",\"isInTSMBlockingWithFilter\"]#,\"isInTSMBlockingWithFilter\"]\n",
    "methodNames = ['isInExactMatchBlockingWithFilter','isInStrictBlockingNoDecayWithFilter','isInSequenceBlockingWithFilter','isInTSMBlockingWithFilter','isInValueSetBlockingWithFilter']\n",
    "methodNames = ['isInExactMatchBlocking','isInStrictBlockingNoDecay','isInSequenceBlocking','isInTSMBlockingNoWildcard','isInValueSetBlocking']\n",
    "\n",
    "methodNamesToShortMethodName = {\n",
    "    'isInExactMatchBlockingWithFilter':\"EM\",\n",
    "    'isInStrictBlockingNoDecayWithFilter':\"CBRB\",\n",
    "    'isInSequenceBlockingWithFilter':\"CQM\",\n",
    "    'isInTSMBlockingWithFilter':\"TSM\",\n",
    "    'isInValueSetBlockingWithFilter':\"VSM\"\n",
    "}\n",
    "methodNamesToShortMethodName = {\n",
    "    'isInExactMatchBlocking':\"EM\",\n",
    "    'isInStrictBlockingNoDecay':\"CBRB\",\n",
    "    'isInSequenceBlocking':\"CQM\",\n",
    "    'isInTSMBlockingNoWildcard':\"TSM\",\n",
    "    'isInValueSetBlocking':\"VSM\"\n",
    "}\n",
    "\n",
    "#print(\"dataset\",\"#TP\",\"EM,,\",\"CSM,,\",\"VSM,,\",\"RM,,\",\"FCBRM (ND),,\",\"FCBRM (D),,\",\"CBRM (ND),,\",\"CBRM (D),,\",sep=\",\")\n",
    "#print(\"dataset\",\"#Total Pairs\",\"#Total 1VA\",\"EM,,\",\"CSM,,\",\"VSM,,\",\"TSM (NWC),,\",\"FCBRM (ND),,\",\"RM ,,\",\"CBRB (ND),,\",\"CBRB (D),,\",sep=\",\")\n",
    "print(\"dataset\",\"#Total Pairs\",\"EM\",\"CBRB\",\"QSM\",\"TSM\",\"VSM\",sep=\",\")\n",
    "#print(\",,\" + (\",RRAP\"* (len(methodNames))))\n",
    "finalDSRows = []\n",
    "for (ds,thisDsAllPairsSample) in groupedByDS:\n",
    "    #print(\"--------------------------------------------------------------------\")\n",
    "\n",
    "    #print(\"--------------------------------------------------------------------\")\n",
    "    #thisDsAllPairsSample = dfAllPairsSample[dfAllPairsSample['dataset']==ds]\n",
    "    nAllPairs = dsToAllPairs[ds][\"allPairs\"]\n",
    "    nHitsSVA = dsToAllPairs[ds][\"nHitsSVA\"]\n",
    "    nMissesSVA = dsToAllPairs[ds][\"nMissesSVA\"]\n",
    "    estimatedCountSVAPairs = round((nHitsSVA / (nHitsSVA+nMissesSVA)) * nAllPairs)\n",
    "    nHits90VA2DA = len(thisDsAllPairsSample[thisDsAllPairsSample['isInDVA2VA95Blocking']].index)\n",
    "    nMisses90VA2DA = len(thisDsAllPairsSample[thisDsAllPairsSample['isInDVA2VA95Blocking']].index)\n",
    "    #printReductionRate(\"AllPairs\",\"SVA\",nHitsSVA,nMissesSVA,nAllPairs)\n",
    "    print(ds,nAllPairs,sep=\",\",end=\",\")\n",
    "    for method in methodNames:\n",
    "        thisDF = thisDsAllPairsSample[thisDsAllPairsSample[method]]\n",
    "        nHitsThisMethod = len(thisDF.index)\n",
    "        nMissesThisMethod = nMissesSVA + len(thisDsAllPairsSample.index) - nHitsThisMethod\n",
    "        n,rrAll = mhm.getReductionRate(nHitsThisMethod,nMissesThisMethod,nAllPairs)\n",
    "        finalDSRows.append({\"dataset\":ds,\"method\":methodNamesToShortMethodName[method],\"n\":n,\"rr\":rrAll})\n",
    "        _,rr1VA = mhm.getReductionRate(nHitsThisMethod,len(thisDsAllPairsSample) - nHitsThisMethod,estimatedCountSVAPairs)\n",
    "        rr95 = mhm.getReductionRateToOtherMethod(method,\"isInDVA2VA95Blocking\",thisDsAllPairsSample)\n",
    "        #print(round(100*rrAll,6),sep=\",\",end=\",\")\n",
    "        print(round(n),sep=\",\",end=\",\")\n",
    "    print(\"\")\n",
    "        # printReductionRate(\"All Pairs\",method,nHitsThisMethod,len(thisDsAllPairsSample) - nHitsThisMethod,nAllPairs)\n",
    "        # printReductionRate(\"SVA\",method,nHitsThisMethod,len(thisDsAllPairsSample) - nHitsThisMethod,estimatedCountSVAPairs)\n",
    "        # printReductionRateToOtherMethod(method,\"isInDVA2VA95Blocking\",thisDsAllPairsSample)\n",
    "finalDF = pd.DataFrame(finalDSRows)\n",
    "#get maxima:\n",
    "grouped = finalDF.groupby(\"dataset\",).agg({'n':\"max\"}).to_dict(\"index\")\n",
    "finalDF[\"% of Max\"] = finalDF.apply(lambda r: r[\"n\"] / grouped[r[\"dataset\"]][\"n\"],axis=1)\n",
    "for ds in finalDF[\"dataset\"].unique():\n",
    "    print(ds,grouped[ds][\"n\"])\n",
    "print(finalDF)\n",
    "finalDF['method'] = finalDF['method'].astype(\"category\").cat.reorder_categories(['EM', 'CBRB', \"CQM\", \"TSM\", \"VSM\"])\n",
    "rm.addShortDataset(finalDF)\n",
    "plot = ggplot(finalDF,aes(x = 'datasetShort',fill=\"method\",y=\"% of Max\")) +xlab(\"\") + geom_bar(position=position_dodge2(preserve = \"single\"),stat=\"identity\") + ggtitle(\"Absolute Candidate Set Sizes\") + theme(text=element_text(size=14)) + theme_bw()\n",
    "print(plot)\n",
    "plot.save(\"exportedPlots/absoluteSetSizes.png\")\n",
    "#\n",
    "# print(dfTruePositivesOnly.columns)\n",
    "# plot = ggplot(dfTruePositivesOnlyDF1,aes(x = 'datasetShort',fill=\"bucket\")) +xlab(\"\") + theme_bw() + geom_bar(position=position_dodge2(preserve = \"single\")) + ggtitle(\"True Positives - DGS\") + ylim(0,60) + theme(text=element_text(size=14)) \\\n",
    "#        #+  geom_text(aes(label = \"..count..\"), stat = \"count\")\n",
    "# print(plot)\n"
   ],
   "metadata": {
    "collapsed": false,
    "pycharm": {
     "name": "#%%\n"
    }
   }
  },
  {
   "cell_type": "markdown",
   "source": [
    "# # Reduction Ratio parametrized:"
   ],
   "metadata": {
    "collapsed": false,
    "pycharm": {
     "name": "#%% md\n"
    }
   }
  },
  {
   "cell_type": "code",
   "execution_count": 8,
   "outputs": [
    {
     "name": "stdout",
     "output_type": "stream",
     "text": [
      "Index(['dataset', 'id1', 'id2', 'RM_Gamma', 'CBRB_Beta', 'Relaxed_CBRB_Gamma',\n",
      "       'hasTransitionOverlap'],\n",
      "      dtype='object')\n"
     ]
    }
   ],
   "source": [
    "\n",
    "\n",
    "import glob\n",
    "import os\n",
    "import pandas as pd\n",
    "import role_matching.EvaluationHelperMethods as rm\n",
    "import role_matching.MetricHelperMethods as mhm\n",
    "\n",
    "dsToAllPairs = {\n",
    "    \"military\": {\"allPairs\":4263199291,\"nMissesSVA\":88280922,\"nHitsSVA\":1000000},\n",
    "    \"tv_and_film\": {\"allPairs\":23657801481,\"nMissesSVA\":50646743,\"nHitsSVA\":1000000},\n",
    "    \"politics\": {\"allPairs\":2223411270,\"nMissesSVA\":41041877,\"nHitsSVA\":1000000},\n",
    "    \"education\": {\"allPairs\":2737889001,\"nMissesSVA\":28997770,\"nHitsSVA\":1000000},\n",
    "    \"football\": {\"allPairs\":53116323211,\"nMissesSVA\":38466606,\"nHitsSVA\":1000000},\n",
    "}\n",
    "\n",
    "dfAllPairsParametrized = pd.concat(map(pd.read_csv, glob.glob(os.path.join('', \"/home/leon/data/dataset_versioning/finalExperiments/allPairsSample/csvFilesNew/*.csv\"))))\n",
    "print(dfAllPairsParametrized.columns)\n",
    "groupedByDsParametrized = dfAllPairsParametrized.groupby(\"dataset\")"
   ],
   "metadata": {
    "collapsed": false,
    "pycharm": {
     "name": "#%%\n"
    }
   }
  },
  {
   "cell_type": "code",
   "execution_count": 44,
   "outputs": [
    {
     "name": "stderr",
     "output_type": "stream",
     "text": [
      "/home/leon/PycharmProjects/RoleMatchingEvaluation/role_matching/EvaluationHelperMethods.py:21: FutureWarning: The frame.append method is deprecated and will be removed from pandas in a future version. Use pandas.concat instead.\n",
      "/home/leon/PycharmProjects/RoleMatchingEvaluation/role_matching/EvaluationHelperMethods.py:21: FutureWarning: The frame.append method is deprecated and will be removed from pandas in a future version. Use pandas.concat instead.\n",
      "/home/leon/PycharmProjects/RoleMatchingEvaluation/role_matching/EvaluationHelperMethods.py:21: FutureWarning: The frame.append method is deprecated and will be removed from pandas in a future version. Use pandas.concat instead.\n",
      "/home/leon/PycharmProjects/RoleMatchingEvaluation/role_matching/EvaluationHelperMethods.py:21: FutureWarning: The frame.append method is deprecated and will be removed from pandas in a future version. Use pandas.concat instead.\n",
      "/home/leon/PycharmProjects/RoleMatchingEvaluation/role_matching/EvaluationHelperMethods.py:21: FutureWarning: The frame.append method is deprecated and will be removed from pandas in a future version. Use pandas.concat instead.\n",
      "/home/leon/PycharmProjects/RoleMatchingEvaluation/role_matching/EvaluationHelperMethods.py:21: FutureWarning: The frame.append method is deprecated and will be removed from pandas in a future version. Use pandas.concat instead.\n",
      "/home/leon/PycharmProjects/RoleMatchingEvaluation/role_matching/EvaluationHelperMethods.py:21: FutureWarning: The frame.append method is deprecated and will be removed from pandas in a future version. Use pandas.concat instead.\n",
      "/home/leon/PycharmProjects/RoleMatchingEvaluation/role_matching/EvaluationHelperMethods.py:21: FutureWarning: The frame.append method is deprecated and will be removed from pandas in a future version. Use pandas.concat instead.\n",
      "/home/leon/PycharmProjects/RoleMatchingEvaluation/role_matching/EvaluationHelperMethods.py:21: FutureWarning: The frame.append method is deprecated and will be removed from pandas in a future version. Use pandas.concat instead.\n",
      "/home/leon/PycharmProjects/RoleMatchingEvaluation/role_matching/EvaluationHelperMethods.py:21: FutureWarning: The frame.append method is deprecated and will be removed from pandas in a future version. Use pandas.concat instead.\n",
      "/home/leon/PycharmProjects/RoleMatchingEvaluation/role_matching/EvaluationHelperMethods.py:21: FutureWarning: The frame.append method is deprecated and will be removed from pandas in a future version. Use pandas.concat instead.\n",
      "/home/leon/PycharmProjects/RoleMatchingEvaluation/role_matching/EvaluationHelperMethods.py:21: FutureWarning: The frame.append method is deprecated and will be removed from pandas in a future version. Use pandas.concat instead.\n",
      "/home/leon/PycharmProjects/RoleMatchingEvaluation/role_matching/EvaluationHelperMethods.py:21: FutureWarning: The frame.append method is deprecated and will be removed from pandas in a future version. Use pandas.concat instead.\n",
      "/home/leon/PycharmProjects/RoleMatchingEvaluation/role_matching/EvaluationHelperMethods.py:21: FutureWarning: The frame.append method is deprecated and will be removed from pandas in a future version. Use pandas.concat instead.\n",
      "/home/leon/PycharmProjects/RoleMatchingEvaluation/role_matching/EvaluationHelperMethods.py:21: FutureWarning: The frame.append method is deprecated and will be removed from pandas in a future version. Use pandas.concat instead.\n"
     ]
    },
    {
     "name": "stdout",
     "output_type": "stream",
     "text": [
      "count    1500.000000\n",
      "mean        0.352927\n",
      "std         0.616159\n",
      "min        -1.000000\n",
      "25%         0.000000\n",
      "50%         0.330000\n",
      "75%         1.000000\n",
      "max         1.000000\n",
      "Name: decayScore, dtype: float64\n",
      "processing RM_Gamma\n",
      "processing 0.0\n",
      "processing 0.05\n",
      "processing 0.1\n",
      "processing 0.15\n",
      "processing 0.2\n",
      "processing 0.25\n",
      "processing 0.3\n",
      "processing 0.35\n",
      "processing 0.4\n",
      "processing 0.45\n",
      "processing 0.5\n",
      "processing 0.55\n",
      "processing 0.6\n",
      "processing 0.65\n",
      "processing 0.7\n",
      "processing 0.75\n",
      "processing 0.8\n",
      "processing 0.85\n",
      "processing 0.9\n",
      "processing 0.95\n",
      "processing 1.0\n",
      "processing CBRB_Beta\n",
      "processing 0.0\n",
      "processing 0.05\n",
      "processing 0.1\n",
      "processing 0.15\n",
      "processing 0.2\n",
      "processing 0.25\n",
      "processing 0.3\n",
      "processing 0.35\n",
      "processing 0.4\n",
      "processing 0.45\n",
      "processing 0.5\n",
      "processing 0.55\n",
      "processing 0.6\n",
      "processing 0.65\n",
      "processing 0.7\n",
      "processing 0.75\n",
      "processing 0.8\n",
      "processing 0.85\n",
      "processing 0.9\n",
      "processing 0.95\n",
      "processing 1.0\n",
      "                  n          rr   threshold  recall DGS  recall RGS\n",
      "count  2.520000e+02  252.000000  252.000000  252.000000  252.000000\n",
      "mean   4.661645e+06   99.990337    0.500000    0.851612    0.899482\n",
      "std    1.196613e+07    0.022311    0.303368    0.145435    0.141472\n",
      "min    6.388883e+02   99.888726    0.000000    0.238095    0.137931\n",
      "25%    2.165375e+04   99.994607    0.250000    0.789075    0.848485\n",
      "50%    1.071266e+05   99.998624    0.500000    0.891813    0.950000\n",
      "75%    1.774628e+06   99.999544    0.750000    0.970328    1.000000\n",
      "max    5.910456e+07   99.999996    1.000000    1.000000    1.000000\n"
     ]
    }
   ],
   "source": [
    "oldGoldStandard = rm.readGoldStandardEvaluation(True)\n",
    "newGoldStandard = rm.readGoldStandardEvaluation(False)\n",
    "pd.options.mode.chained_assignment = None\n",
    "\n",
    "thresholds = []\n",
    "for i in range(21):\n",
    "    thresholds.append(i/20)\n",
    "finalDFRows = []\n",
    "methods = [\"RM_Gamma\",\"CBRB_Beta\"]\n",
    "\n",
    "methodsToRecallScoreNames = {\n",
    "    \"RM_Gamma\":\"exactSequenceMatchPercentage\",\n",
    "    \"CBRB_Beta\":\"decayScore\",\n",
    "    \"Relaxed_CBRB_Gamma\":\"compatibilityPercentageNoDecay\"\n",
    "}\n",
    "\n",
    "methodsToPlotNames = {\n",
    "    \"RM_Gamma\":\"RM\",\n",
    "    \"CBRB_Beta\":\"CBRB\"\n",
    "}\n",
    "\n",
    "\n",
    "bucketAndDatasetToWeight, _ = rm.getBucketAndDatasetToWeight()\n",
    "# mhm.printRecallForNonparametrizedMethodsDF(shortName,df[df['dataset']==dsName],methodNames,weighted,bucketAndDatasetToWeight)\n",
    "# mhm.printRecallForNonparametrizedMethodsDF(\"Micro-AVG\",df,methodNames,weighted,bucketAndDatasetToWeight)\n",
    "# mhm.printMacroAveragesRecall(\"Macro-AVG\",df,methodNames,weighted,bucketAndDatasetToWeight)\n",
    "\n",
    "\n",
    "def getRecall(oldGoldStandard, ds, scoreName, param):\n",
    "    oldGoldStandardFiltered = oldGoldStandard[oldGoldStandard[\"dataset\"]==ds]\n",
    "    oldGoldStandardFiltered['currentScoreWithCutoff'] = ((oldGoldStandardFiltered[scoreName] !=-1) & (oldGoldStandardFiltered[scoreName]>=t))\n",
    "    recallDGS = mhm.getRecall(oldGoldStandardFiltered,'currentScoreWithCutoff',False,bucketAndDatasetToWeight)\n",
    "    return recallDGS\n",
    "\n",
    "print(oldGoldStandard['decayScore'].describe())\n",
    "\n",
    "for method in methods:\n",
    "    print(\"processing\",method)\n",
    "    plotnameMethod = methodsToPlotNames[method]\n",
    "    for t in thresholds:\n",
    "    #print(\"Processing \",ds)\n",
    "        print(\"processing\",t)\n",
    "        avgN = 0\n",
    "        avgRR = 0\n",
    "        avgRecallDGS = 0\n",
    "        avgRecallRGS = 0\n",
    "        for(ds,dfGrouped) in groupedByDsParametrized:\n",
    "            scoreName = methodsToRecallScoreNames[method]\n",
    "            #recall old gold standard:\n",
    "            recallDGS = getRecall(oldGoldStandard,ds,scoreName,False)\n",
    "            recallRGS = getRecall(newGoldStandard,ds,scoreName,False)\n",
    "            #recall new gold standard:\n",
    "            # newGoldStandardFiltered = newGoldStandard[newGoldStandard[\"dataset\"]==ds]\n",
    "            # newGoldStandardFiltered['currentScoreWithCutoff'] = ((newGoldStandardFiltered[scoreName] !=-1) & (newGoldStandardFiltered[scoreName]>=t))\n",
    "            # recallRGS = mhm.getRecall(newGoldStandardFiltered,\"'currentScoreWithCutoff'\",True,bucketAndDatasetToWeight)\n",
    "            #reduction ratio:\n",
    "            nAllPairs = dsToAllPairs[ds][\"allPairs\"]\n",
    "            nMissesSVA = dsToAllPairs[ds][\"nMissesSVA\"]\n",
    "            thisDF = dfGrouped[((dfGrouped[method]>=t) & (dfGrouped[\"hasTransitionOverlap\"]))]\n",
    "            #thisDF = dfGrouped[dfGrouped[method]>=t]\n",
    "            nHitsThisMethod = len(thisDF.index)\n",
    "            nMissesThisMethod = nMissesSVA + len(dfGrouped.index) - nHitsThisMethod\n",
    "            n,rrAll = mhm.getReductionRate(nHitsThisMethod,nMissesThisMethod,nAllPairs)\n",
    "            if(rrAll>1):\n",
    "                print(n,rrAll,nHitsThisMethod,nMissesThisMethod,nAllPairs)\n",
    "            avgN +=n\n",
    "            avgRR += rrAll\n",
    "            avgRecallDGS += recallDGS\n",
    "            avgRecallRGS += recallRGS\n",
    "            finalDFRows.append({\"n\":n,\"rr\":100*rrAll,\"method\":plotnameMethod,\"threshold\":t,\"dataset\":ds,\"recall DGS\":recallDGS,\"recall RGS\":recallRGS})\n",
    "        avgN = avgN / len(groupedByDsParametrized)\n",
    "        avgRR = avgRR / len(groupedByDsParametrized)\n",
    "        avgRecallDGS = avgRecallDGS / len(groupedByDsParametrized)\n",
    "        avgRecallRGS = avgRecallRGS / len(groupedByDsParametrized)\n",
    "        finalDFRows.append({\"n\":avgN,\"rr\":100*avgRR,\"method\":plotnameMethod,\"threshold\":t,\"dataset\":\"MAA\",\"recall DGS\":avgRecallDGS,\"recall RGS\":avgRecallRGS})\n",
    "finalDF = pd.DataFrame(finalDFRows)\n",
    "print(finalDF.describe())"
   ],
   "metadata": {
    "collapsed": false,
    "pycharm": {
     "name": "#%%\n"
    }
   }
  },
  {
   "cell_type": "code",
   "execution_count": 45,
   "outputs": [
    {
     "name": "stdout",
     "output_type": "stream",
     "text": [
      "                n         rr method  threshold      dataset  recall DGS  \\\n",
      "0    4.417456e+04  99.998387     RM        0.0    education    1.000000   \n",
      "1    5.910456e+07  99.888726     RM        0.0     football    1.000000   \n",
      "2    2.307299e+05  99.994588     RM        0.0     military    1.000000   \n",
      "3    3.062078e+04  99.998623     RM        0.0     politics    1.000000   \n",
      "4    6.096906e+05  99.997423     RM        0.0  tv_and_film    1.000000   \n",
      "..            ...        ...    ...        ...          ...         ...   \n",
      "247  1.090142e+05  99.999795   CBRB        1.0     football    0.931818   \n",
      "248  3.180176e+04  99.999254   CBRB        1.0     military    0.571429   \n",
      "249  3.860651e+03  99.999826   CBRB        1.0     politics    0.606061   \n",
      "250  4.580696e+03  99.999981   CBRB        1.0  tv_and_film    0.777778   \n",
      "251  3.052687e+04  99.999746   CBRB        1.0          MAA    0.735312   \n",
      "\n",
      "     recall RGS  \n",
      "0      1.000000  \n",
      "1      1.000000  \n",
      "2      1.000000  \n",
      "3      1.000000  \n",
      "4      1.000000  \n",
      "..          ...  \n",
      "247    1.000000  \n",
      "248    0.666667  \n",
      "249    0.848485  \n",
      "250    0.913793  \n",
      "251    0.845789  \n",
      "\n",
      "[252 rows x 7 columns]\n"
     ]
    },
    {
     "data": {
      "text/plain": "<Figure size 640x480 with 1 Axes>",
      "image/png": "[encoded data removed]"
     },
     "metadata": {},
     "output_type": "display_data"
    },
    {
     "name": "stdout",
     "output_type": "stream",
     "text": [
      "\n"
     ]
    },
    {
     "data": {
      "text/plain": "<Figure size 640x480 with 1 Axes>",
      "image/png": "[encoded data removed]"
     },
     "metadata": {},
     "output_type": "display_data"
    },
    {
     "name": "stdout",
     "output_type": "stream",
     "text": [
      "\n"
     ]
    }
   ],
   "source": [
    "from plotnine import *\n",
    "from plotnine.data import *\n",
    "print(finalDF)\n",
    "finalDFMAA = finalDF[finalDF['dataset']==\"MAA\"]\n",
    "plot = ggplot(finalDFMAA, aes(x ='recall DGS', y='rr', color=\"method\")) + geom_line() + geom_point() + theme_bw() + facet_wrap(\"GS\") + theme(text=element_text(size=14))\n",
    "print(plot)\n",
    "plot = ggplot(finalDFMAA, aes(x ='recall RGS', y='rr', color=\"method\")) + geom_line() + geom_point() + theme_bw() + theme(text=element_text(size=14))\n",
    "print(plot)"
   ],
   "metadata": {
    "collapsed": false,
    "pycharm": {
     "name": "#%%\n"
    }
   }
  },
  {
   "cell_type": "code",
   "execution_count": 39,
   "outputs": [
    {
     "name": "stdout",
     "output_type": "stream",
     "text": [
      "               n         rr     method  threshold dataset  recall DGS  \\\n",
      "5   1.200396e+07  99.975549   RM_Gamma        0.0     MAA         1.0   \n",
      "11  1.200396e+07  99.975549   RM_Gamma        0.1     MAA         1.0   \n",
      "17  1.197234e+07  99.975613   RM_Gamma        0.2     MAA         1.0   \n",
      "71  9.127796e+06  99.981199  CBRB_Beta        0.0     MAA         1.0   \n",
      "77  5.485113e+06  99.988743  CBRB_Beta        0.1     MAA         1.0   \n",
      "83  4.883488e+06  99.989910  CBRB_Beta        0.2     MAA         1.0   \n",
      "\n",
      "    recall RGS  \n",
      "5          1.0  \n",
      "11         1.0  \n",
      "17         1.0  \n",
      "71         1.0  \n",
      "77         1.0  \n",
      "83         1.0  \n",
      "               n         rr     method  threshold dataset  recall DGS  \\\n",
      "5   1.200396e+07  99.975549   RM_Gamma        0.0     MAA    1.000000   \n",
      "11  1.200396e+07  99.975549   RM_Gamma        0.1     MAA    1.000000   \n",
      "17  1.197234e+07  99.975613   RM_Gamma        0.2     MAA    1.000000   \n",
      "23  1.116747e+07  99.977199   RM_Gamma        0.3     MAA    0.990476   \n",
      "71  9.127796e+06  99.981199  CBRB_Beta        0.0     MAA    1.000000   \n",
      "77  5.485113e+06  99.988743  CBRB_Beta        0.1     MAA    1.000000   \n",
      "83  4.883488e+06  99.989910  CBRB_Beta        0.2     MAA    1.000000   \n",
      "89  3.860450e+06  99.992069  CBRB_Beta        0.3     MAA    0.990476   \n",
      "\n",
      "    recall RGS  \n",
      "5          1.0  \n",
      "11         1.0  \n",
      "17         1.0  \n",
      "23         1.0  \n",
      "71         1.0  \n",
      "77         1.0  \n",
      "83         1.0  \n",
      "89         1.0  \n"
     ]
    }
   ],
   "source": [
    "print(finalDFMAA[finalDFMAA['recall DGS']==1])\n",
    "print(finalDFMAA[finalDFMAA['recall RGS']==1])"
   ],
   "metadata": {
    "collapsed": false,
    "pycharm": {
     "name": "#%%\n"
    }
   }
  }
 ],
 "metadata": {
  "kernelspec": {
   "display_name": "Python 3 (ipykernel)",
   "language": "python",
   "name": "python3"
  },
  "language_info": {
   "codemirror_mode": {
    "name": "ipython",
    "version": 3
   },
   "file_extension": ".py",
   "mimetype": "text/x-python",
   "name": "python",
   "nbconvert_exporter": "python",
   "pygments_lexer": "ipython3",
   "version": "3.8.10"
  }
 },
 "nbformat": 4,
 "nbformat_minor": 1
}