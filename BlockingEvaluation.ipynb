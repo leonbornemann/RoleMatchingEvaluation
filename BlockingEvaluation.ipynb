{
 "cells": [
  {
   "cell_type": "markdown",
   "source": [
    "# Define Paths"
   ],
   "metadata": {
    "collapsed": false,
    "pycharm": {
     "name": "#%% md\n"
    }
   }
  },
  {
   "cell_type": "code",
   "execution_count": 4,
   "outputs": [],
   "source": [
    "pathTo95TVA2DVASample = \"localData/95TVA2DVASample/\"\n",
    "gold_standard_path = \"localData/gold_standards/\"\n",
    "#ALL Pair sample can be found in TODO: insert link!\n",
    "allPairsSamplePath = \"<REPLACE THIS>\""
   ],
   "metadata": {
    "collapsed": false,
    "pycharm": {
     "name": "#%%\n"
    }
   }
  },
  {
   "cell_type": "markdown",
   "source": [
    "# Print Recall Table of RSG or DGS (Table 3):"
   ],
   "metadata": {
    "collapsed": false,
    "pycharm": {
     "name": "#%% md\n"
    }
   }
  },
  {
   "cell_type": "code",
   "execution_count": 3,
   "outputs": [
    {
     "name": "stdout",
     "output_type": "stream",
     "text": [
      "dataset,#TP,EM,CBRB,QSM,TSM,VSM\n",
      ",,R,R,R,R,R\n",
      "ED,20,41,47,67,67,67\n",
      "FO,7,100,100,100,100,100\n",
      "MI,21,18,85,44,69,69\n",
      "PO,33,37,62,66,76,78\n",
      "TV,58,7,50,78,99,99\n",
      "Micro-AVG,139,27,59,68,80,81\n",
      "Macro-AVG,,41,69,71,82,82,"
     ]
    }
   ],
   "source": [
    "import role_matching.EvaluationHelperMethods as rm\n",
    "import role_matching.MetricHelperMethods as mhm\n",
    "import pandas as pd\n",
    "from plotnine import *\n",
    "from plotnine.data import *\n",
    "from tabulate import tabulate\n",
    "from sklearn.metrics import accuracy_score, f1_score, precision_score, recall_score, classification_report, confusion_matrix, precision_recall_curve\n",
    "import numpy as np\n",
    "\n",
    "bucketAndDatasetToWeight, _ = rm.getBucketAndDatasetToWeight(pathTo95TVA2DVASample)\n",
    "\n",
    "loadDiverseGoldStandard = False\n",
    "if(loadDiverseGoldStandard):\n",
    "    weighted = False\n",
    "else:\n",
    "    weighted = True\n",
    "df = rm.readGoldStandardEvaluation(gold_standard_path,loadDiverseGoldStandard,pathTo95TVA2DVASample)\n",
    "methodNames = ['isInExactMatchBlockingWithFilter','isInStrictBlockingNoDecayWithFilter','isInSequenceBlockingWithFilter','isInTSMBlockingWithFilter','isInValueSetBlockingWithFilter']\n",
    "\n",
    "print(\"dataset\",\"#TP\",\"EM\",\"CBRB\",\"QSM\",\"TSM\",\"VSM\",sep=\",\")\n",
    "print(\",\" + (\",R\"* (len(methodNames))))\n",
    "dsNameList = []\n",
    "for dsName in df['dataset'].unique():\n",
    "    dsNameList.append(dsName)\n",
    "dsNameList.sort()\n",
    "for dsName in dsNameList:\n",
    "    shortName = rm.datasetToAbbreviation[dsName]\n",
    "    mhm.printRecallForNonparametrizedMethodsDF(shortName,df[df['dataset']==dsName],methodNames,weighted,bucketAndDatasetToWeight)\n",
    "mhm.printRecallForNonparametrizedMethodsDF(\"Micro-AVG\",df,methodNames,weighted,bucketAndDatasetToWeight)\n",
    "mhm.printMacroAveragesRecall(\"Macro-AVG\",df,methodNames,weighted,bucketAndDatasetToWeight)"
   ],
   "metadata": {
    "collapsed": false,
    "pycharm": {
     "name": "#%%\n"
    }
   }
  },
  {
   "cell_type": "code",
   "execution_count": 11,
   "outputs": [
    {
     "name": "stdout",
     "output_type": "stream",
     "text": [
      "Empty DataFrame\n",
      "Columns: [id1, id2]\n",
      "Index: []\n"
     ]
    }
   ],
   "source": [
    "print(df[(df['isSemanticRoleMatch']) & (df['isInStrictBlockingNoDecay']) & (~df['isInStrictBlockingNoDecayWithFilter'])][['id1','id2']])\n",
    "df[(df['isSemanticRoleMatch']) & (df['isInStrictBlockingNoDecay']) & (~df['isInStrictBlockingNoDecayWithFilter'])][['dataset','id1','id2']].to_csv(\"gs1errors.csv\")\n",
    "#df[\"newLabel\"] = (df['isSemanticRoleMatch']) | ((df['isSemanticRoleMatch']) & (df['isInStrictBlockingNoDecay']) & (~df['isInStrictBlockingNoDecayWithFilter']))\n",
    "#print(sum(df[\"newLabel\"]))\n",
    "#print(sum(df[\"isSemanticRoleMatch\"]))"
   ],
   "metadata": {
    "collapsed": false,
    "pycharm": {
     "name": "#%%\n"
    }
   }
  },
  {
   "cell_type": "markdown",
   "source": [
    "# Print How Many True Positives could correct Data quality errors (Introduction):"
   ],
   "metadata": {
    "collapsed": false,
    "pycharm": {
     "name": "#%% md\n"
    }
   }
  },
  {
   "cell_type": "code",
   "execution_count": 12,
   "outputs": [
    {
     "name": "stdout",
     "output_type": "stream",
     "text": [
      "0.32679738562091504\n",
      "0.24183006535947713\n",
      "0.24183006535947713\n"
     ]
    },
    {
     "name": "stderr",
     "output_type": "stream",
     "text": [
      "/tmp/ipykernel_81200/3615401763.py:3: FutureWarning: The frame.append method is deprecated and will be removed from pandas in a future version. Use pandas.concat instead.\n"
     ]
    }
   ],
   "source": [
    "df1 = rm.readGoldStandardEvaluation(gold_standard_path,True,pathTo95TVA2DVASample)\n",
    "df2 = rm.readGoldStandardEvaluation(gold_standard_path,True,pathTo95TVA2DVASample)\n",
    "dfAll = df1.append(df2)\n",
    "dfAllTP = dfAll[dfAll['isSemanticRoleMatch']]\n",
    "print(sum(dfAllTP[\"hasNonOverlap\"]) / len(dfAllTP.index))\n",
    "print(sum(~ dfAllTP[\"isInStrictBlockingNoDecay\"]) / len(dfAllTP.index))\n",
    "print(sum( dfAllTP[\"compatibilityPercentageNoDecay\"] != 1.0) / len(dfAllTP.index))"
   ],
   "metadata": {
    "collapsed": false,
    "pycharm": {
     "name": "#%%\n"
    }
   }
  },
  {
   "cell_type": "markdown",
   "source": [
    "# Gold Standard Overview (Figure 6)"
   ],
   "metadata": {
    "collapsed": false,
    "pycharm": {
     "name": "#%% md\n"
    }
   }
  },
  {
   "cell_type": "code",
   "execution_count": 13,
   "outputs": [
    {
     "name": "stdout",
     "output_type": "stream",
     "text": [
      "dataset      bucket          \n",
      "education    [0.0,0.7) (<70%)     2\n",
      "             [0.7,1.0) (70%)      2\n",
      "             [1.0,1.0] (full)    15\n",
      "football     [0.7,1.0) (70%)      3\n",
      "             [1.0,1.0] (full)    41\n",
      "military     [0.0,0.7) (<70%)     5\n",
      "             [0.7,1.0) (70%)      4\n",
      "             [1.0,1.0] (full)    12\n",
      "politics     [0.0,0.7) (<70%)     6\n",
      "             [0.7,1.0) (70%)      7\n",
      "             [1.0,1.0] (full)    20\n",
      "tv_and_film  [0.0,0.7) (<70%)     3\n",
      "             [0.7,1.0) (70%)      5\n",
      "             [1.0,1.0] (full)    28\n",
      "dtype: int64\n"
     ]
    }
   ],
   "source": [
    "# true positives:\n",
    "dfTruePositivesOnly = df[df['isSemanticRoleMatch']]\n",
    "tab = dfTruePositivesOnly.groupby(['dataset','bucket']).size()\n",
    "print(tab)"
   ],
   "metadata": {
    "collapsed": false,
    "pycharm": {
     "name": "#%%\n"
    }
   }
  },
  {
   "cell_type": "code",
   "execution_count": 14,
   "outputs": [
    {
     "name": "stderr",
     "output_type": "stream",
     "text": [
      "/usr/local/lib/python3.8/dist-packages/plotnine/utils.py:371: FutureWarning: The frame.append method is deprecated and will be removed from pandas in a future version. Use pandas.concat instead.\n",
      "/usr/local/lib/python3.8/dist-packages/plotnine/utils.py:371: FutureWarning: The frame.append method is deprecated and will be removed from pandas in a future version. Use pandas.concat instead.\n"
     ]
    },
    {
     "data": {
      "text/plain": "<Figure size 640x480 with 2 Axes>",
      "image/png": "[encoded data removed]"
     },
     "metadata": {},
     "output_type": "display_data"
    },
    {
     "name": "stdout",
     "output_type": "stream",
     "text": [
      "\n"
     ]
    },
    {
     "name": "stderr",
     "output_type": "stream",
     "text": [
      "/usr/local/lib/python3.8/dist-packages/plotnine/ggplot.py:719: PlotnineWarning: Saving 6.4 x 4.8 in image.\n",
      "/usr/local/lib/python3.8/dist-packages/plotnine/ggplot.py:722: PlotnineWarning: Filename: exportedPlots/truePositivesBoth.png\n",
      "/usr/local/lib/python3.8/dist-packages/plotnine/utils.py:371: FutureWarning: The frame.append method is deprecated and will be removed from pandas in a future version. Use pandas.concat instead.\n",
      "/usr/local/lib/python3.8/dist-packages/plotnine/utils.py:371: FutureWarning: The frame.append method is deprecated and will be removed from pandas in a future version. Use pandas.concat instead.\n"
     ]
    }
   ],
   "source": [
    "import role_matching.EvaluationHelperMethods as rm\n",
    "loadDiverseGoldStandard=True # old or new gold standard\n",
    "\n",
    "df1 = rm.readGoldStandardEvaluation(gold_standard_path,True,pathTo95TVA2DVASample)\n",
    "df1[\"GS\"] = \"DGS\"\n",
    "df2 = rm.readGoldStandardEvaluation(gold_standard_path,False,pathTo95TVA2DVASample)\n",
    "df2[\"GS\"] = \"RGS\"\n",
    "\n",
    "rm.addShortDataset(df1)\n",
    "rm.addShortDataset(df2)\n",
    "df1['bucket'] = df1['compatibilityPercentageNoDecay'].map(lambda x: rm.getShortGroup(x))\n",
    "df2['bucket'] = df2['compatibilityPercentageNoDecay'].map(lambda x: rm.getShortGroup(x))\n",
    "\n",
    "dfTruePositivesOnlyDF1 = df1[df1['isSemanticRoleMatch']]\n",
    "dfTruePositivesOnlyDF2 = df2[df2['isSemanticRoleMatch']]\n",
    "dfAllPositives = pd.concat([dfTruePositivesOnlyDF1,dfTruePositivesOnlyDF2])\n",
    "\n",
    "cbPalette = [\"#1b9e77\", \"#d95f02\", \"#7570b3\", \"#009E73\", \"#F0E442\", \"#0072B2\", \"#D55E00\", \"#CC79A7\"]\n",
    "\n",
    "plot = ggplot(dfAllPositives,aes(x = 'datasetShort',fill=\"bucket\")) +xlab(\"\") + geom_bar(stat = \"count\") + facet_wrap(\"GS\") + theme_bw() + ggtitle(\"True Positives\") + theme(text=element_text(size=14)) +  geom_text(aes(label = \"..count..\"),position = position_stack(vjust = 0.25), stat = \"count\")+ scale_fill_brewer(type=\"qual\",palette=\"Set2\")\n",
    "print(plot)\n",
    "plot.save(\"exportedPlots/truePositivesBoth.png\")\n"
   ],
   "metadata": {
    "collapsed": false,
    "pycharm": {
     "name": "#%%\n"
    }
   }
  },
  {
   "cell_type": "markdown",
   "source": [
    "# Reduction Ratios of Non-Parametrized Methods (Table 4 and Figure 7)"
   ],
   "metadata": {
    "collapsed": false,
    "pycharm": {
     "name": "#%% md\n"
    }
   }
  },
  {
   "cell_type": "code",
   "execution_count": 16,
   "outputs": [],
   "source": [
    "import glob\n",
    "import os\n",
    "import pandas as pd\n",
    "import role_matching.EvaluationHelperMethods as rm\n",
    "\n",
    "#Statistics extracted from the sample drawing:\n",
    "#We drew a sample from the set of all pairs until we had 1 million candidate pairs that had at least one timestamp-value agreement (1TVA)\n",
    "#Having 1TVA is a prerequisite for a candidate pair in order to be considered\n",
    "#We tracked how many candidate pairs did not have 1TVA per dataset in order to be able to compute the correct (estimated) reduction ratio\n",
    "#allPairs denotes the number of all pairs per dataset\n",
    "dsToBaseSampleStatistics = {\n",
    "    \"military\": {\"allPairs\":4263199291,\"nMisses1TVA\":88280922,\"nHits1TVA\":1000000},\n",
    "    \"tv_and_film\": {\"allPairs\":23657801481,\"nMisses1TVA\":50646743,\"nHits1TVA\":1000000},\n",
    "    \"politics\": {\"allPairs\":2223411270,\"nMisses1TVA\":41041877,\"nHits1TVA\":1000000},\n",
    "    \"education\": {\"allPairs\":2737889001,\"nMisses1TVA\":28997770,\"nHits1TVA\":1000000},\n",
    "    \"football\": {\"allPairs\":53116323211,\"nMisses1TVA\":38466606,\"nHits1TVA\":1000000},\n",
    "}\n",
    "\n",
    "#these are the files that contain the statistics about the 1 million candidates in TVA (per dataset):\n",
    "dfAllPairsSample = pd.concat(map(pd.read_csv, glob.glob(os.path.join('', allPairsSamplePath + \"/*.csv\"))))\n",
    "\n",
    "methodNames = ['isInValueSetBlockingWithFilter','isInStrictBlockingNoDecayWithFilter',\"isInTSMBlockingNoWildcard\",\"isInTSMBlockingWithFilter\"]\n",
    "\n",
    "rm.addFilteredBlockingMethods(dfAllPairsSample)\n",
    "rm.addDVA2VA95Blocking(dfAllPairsSample)\n",
    "#rm.addParametrizedScoresAsBooleanScores(dfAllPairsSample)\n",
    "#print(dfAllPairsSample.columns)\n",
    "groupedByDS = dfAllPairsSample.groupby(\"dataset\")\n"
   ],
   "metadata": {
    "collapsed": false,
    "pycharm": {
     "name": "#%%\n"
    }
   }
  },
  {
   "cell_type": "code",
   "execution_count": 17,
   "outputs": [
    {
     "name": "stdout",
     "output_type": "stream",
     "text": [
      "dataset,#Total Pairs,EM,CBRB,QSM,TSM,VSM\n",
      "education,2737889001,0.9999997666493209,0.9999987665749821,0.9999974331425303,0.9999956996803429,0.9999935328526087,\n",
      "football,53116323211,0.9999997212833553,0.9999979476319804,0.9999633614301671,0.9999550252687044,0.999934197533986,\n",
      "military,4263199291,0.9999994847723459,0.9999925403996164,0.9999904794889999,0.9999828070771939,0.9999821238405222,\n",
      "politics,2223411270,0.9999991674967319,0.9999982636360408,0.9999964559146586,0.9999953141958909,0.9999948622655453,\n",
      "tv_and_film,23657801481,0.9999999612753896,0.9999998063769481,0.9999990706093509,0.9999980250448707,0.9999968052196437,\n"
     ]
    },
    {
     "data": {
      "text/plain": "<Figure size 640x480 with 1 Axes>",
      "image/png": "[encoded data removed]"
     },
     "metadata": {},
     "output_type": "display_data"
    },
    {
     "name": "stdout",
     "output_type": "stream",
     "text": [
      "\n"
     ]
    },
    {
     "name": "stderr",
     "output_type": "stream",
     "text": [
      "/usr/local/lib/python3.8/dist-packages/plotnine/ggplot.py:719: PlotnineWarning: Saving 6.4 x 4.8 in image.\n",
      "/usr/local/lib/python3.8/dist-packages/plotnine/ggplot.py:722: PlotnineWarning: Filename: exportedPlots/absoluteSetSizes.png\n"
     ]
    }
   ],
   "source": [
    "import role_matching.MetricHelperMethods as mhm\n",
    "\n",
    "methodNames = ['isInExactMatchBlockingWithFilter','isInStrictBlockingNoDecayWithFilter','isInSequenceBlockingWithFilter','isInTSMBlockingWithFilter','isInValueSetBlockingWithFilter']\n",
    "\n",
    "methodNamesToShortMethodName = {\n",
    "    'isInExactMatchBlockingWithFilter':\"EM\",\n",
    "    'isInStrictBlockingNoDecayWithFilter':\"CBRB\",\n",
    "    'isInSequenceBlockingWithFilter':\"CQM\",\n",
    "    'isInTSMBlockingWithFilter':\"TSM\",\n",
    "    'isInValueSetBlockingWithFilter':\"VSM\"\n",
    "}\n",
    "print(\"dataset\",\"#Total Pairs\",\"EM\",\"CBRB\",\"QSM\",\"TSM\",\"VSM\",sep=\",\")\n",
    "finalDSRows = []\n",
    "for (ds,thisDsAllPairsSample) in groupedByDS:\n",
    "    nAllPairs = dsToBaseSampleStatistics[ds][\"allPairs\"]\n",
    "    nHits1TVA = dsToBaseSampleStatistics[ds][\"nHits1TVA\"]\n",
    "    nMisses1TVA = dsToBaseSampleStatistics[ds][\"nMisses1TVA\"]\n",
    "    estimatedCountSVAPairs = round((nHits1TVA / (nHits1TVA+nMisses1TVA)) * nAllPairs)\n",
    "    nHits90VA2DA = len(thisDsAllPairsSample[thisDsAllPairsSample['isInDVA2VA95Blocking']].index)\n",
    "    nMisses90VA2DA = len(thisDsAllPairsSample[thisDsAllPairsSample['isInDVA2VA95Blocking']].index)\n",
    "    print(ds,nAllPairs,sep=\",\",end=\",\")\n",
    "    for method in methodNames:\n",
    "        thisDF = thisDsAllPairsSample[thisDsAllPairsSample[method]]\n",
    "        nHitsThisMethod = len(thisDF.index)\n",
    "        nMissesThisMethod = nMisses1TVA + len(thisDsAllPairsSample.index) - nHitsThisMethod\n",
    "        n,rrAll = mhm.getReductionRate(nHitsThisMethod,nMissesThisMethod,nAllPairs)\n",
    "        finalDSRows.append({\"dataset\":ds,\"method\":methodNamesToShortMethodName[method],\"n\":n,\"rr\":rrAll})\n",
    "        _,rr1VA = mhm.getReductionRate(nHitsThisMethod,len(thisDsAllPairsSample) - nHitsThisMethod,estimatedCountSVAPairs)\n",
    "        rr95 = mhm.getReductionRateToOtherMethod(method,\"isInDVA2VA95Blocking\",thisDsAllPairsSample)\n",
    "        print(rrAll,sep=\",\",end=\",\")\n",
    "    print(\"\")\n",
    "finalDF = pd.DataFrame(finalDSRows)\n",
    "#get maxima:\n",
    "grouped = finalDF.groupby(\"dataset\",).agg({'n':\"max\"}).to_dict(\"index\")\n",
    "finalDF[\"% of Max\"] = finalDF.apply(lambda r: 100*(r[\"n\"] / grouped[r[\"dataset\"]][\"n\"]),axis=1)\n",
    "finalDF['method'] = finalDF['method'].astype(\"category\").cat.reorder_categories(['EM', 'CBRB', \"CQM\", \"TSM\", \"VSM\"])\n",
    "rm.addShortDataset(finalDF)\n",
    "plot = ggplot(finalDF,aes(x = 'datasetShort',fill=\"method\",y=\"% of Max\")) +xlab(\"\") + geom_bar(position=position_dodge2(preserve = \"single\"),stat=\"identity\") + ggtitle(\"Absolute Candidate Set Sizes\") + theme(text=element_text(size=14)) + theme_bw() + scale_fill_brewer(type=\"qual\",palette=\"Set2\")\n",
    "print(plot)\n",
    "plot.save(\"exportedPlots/absoluteSetSizes.png\")\n"
   ],
   "metadata": {
    "collapsed": false,
    "pycharm": {
     "name": "#%%\n"
    }
   }
  },
  {
   "cell_type": "markdown",
   "source": [
    "# Reduction Ratio parametrized (Figure 8):"
   ],
   "metadata": {
    "collapsed": false,
    "pycharm": {
     "name": "#%% md\n"
    }
   }
  },
  {
   "cell_type": "code",
   "execution_count": 18,
   "outputs": [
    {
     "name": "stdout",
     "output_type": "stream",
     "text": [
      "Index(['dataset', 'id1', 'id2', 'isInStrictBlockingDecay',\n",
      "       'isInStrictBlockingNoDecay', 'isInValueSetBlocking',\n",
      "       'isInSequenceBlocking', 'isInExactMatchBlocking', 'isSemanticRoleMatch',\n",
      "       'compatibilityPercentageDecay', 'compatibilityPercentageNoDecay',\n",
      "       'exactSequenceMatchPercentage', 'hasTransitionOverlapNoDecay',\n",
      "       'hasTransitionOverlapDecay', 'hasValueSetOverlap',\n",
      "       'isInSVABlockingNoDecay', 'isInSVABlockingDecay', 'VACount', 'DVACount',\n",
      "       'isInTSMBlockingNoWildcard', 'isInTSMBlockingWithWildcard',\n",
      "       'strictlyCompatiblePercentage',\n",
      "       'strictlyCompatiblePercentageWithDecay'],\n",
      "      dtype='object')\n"
     ]
    }
   ],
   "source": [
    "import glob\n",
    "import os\n",
    "import pandas as pd\n",
    "import role_matching.EvaluationHelperMethods as rm\n",
    "import role_matching.MetricHelperMethods as mhm\n",
    "\n",
    "#same as above\n",
    "dsToBaseSampleStatistics = {\n",
    "    \"military\": {\"allPairs\":4263199291,\"nMisses1TVA\":88280922,\"nHits1TVA\":1000000},\n",
    "    \"tv_and_film\": {\"allPairs\":23657801481,\"nMisses1TVA\":50646743,\"nHits1TVA\":1000000},\n",
    "    \"politics\": {\"allPairs\":2223411270,\"nMisses1TVA\":41041877,\"nHits1TVA\":1000000},\n",
    "    \"education\": {\"allPairs\":2737889001,\"nMisses1TVA\":28997770,\"nHits1TVA\":1000000},\n",
    "    \"football\": {\"allPairs\":53116323211,\"nMisses1TVA\":38466606,\"nHits1TVA\":1000000},\n",
    "}\n",
    "\n",
    "dfAllPairsParametrized = pd.concat(map(pd.read_csv, glob.glob(os.path.join('', allPairsSamplePath+\"*.csv\"))))\n",
    "print(dfAllPairsParametrized.columns)\n",
    "groupedByDsParametrized = dfAllPairsParametrized.groupby(\"dataset\")"
   ],
   "metadata": {
    "collapsed": false,
    "pycharm": {
     "name": "#%%\n"
    }
   }
  },
  {
   "cell_type": "code",
   "execution_count": 19,
   "outputs": [
    {
     "name": "stdout",
     "output_type": "stream",
     "text": [
      "count    1500.000000\n",
      "mean        0.352927\n",
      "std         0.616159\n",
      "min        -1.000000\n",
      "25%         0.000000\n",
      "50%         0.330000\n",
      "75%         1.000000\n",
      "max         1.000000\n",
      "Name: decayScore, dtype: float64\n",
      "processing RM_Gamma\n",
      "processing 0.0\n"
     ]
    },
    {
     "ename": "KeyError",
     "evalue": "'RM_Gamma'",
     "output_type": "error",
     "traceback": [
      "\u001B[0;31m---------------------------------------------------------------------------\u001B[0m",
      "\u001B[0;31mKeyError\u001B[0m                                  Traceback (most recent call last)",
      "File \u001B[0;32m~/.local/lib/python3.8/site-packages/pandas/core/indexes/base.py:3621\u001B[0m, in \u001B[0;36mIndex.get_loc\u001B[0;34m(self, key, method, tolerance)\u001B[0m\n\u001B[1;32m   3620\u001B[0m \u001B[38;5;28;01mtry\u001B[39;00m:\n\u001B[0;32m-> 3621\u001B[0m     \u001B[38;5;28;01mreturn\u001B[39;00m \u001B[38;5;28;43mself\u001B[39;49m\u001B[38;5;241;43m.\u001B[39;49m\u001B[43m_engine\u001B[49m\u001B[38;5;241;43m.\u001B[39;49m\u001B[43mget_loc\u001B[49m\u001B[43m(\u001B[49m\u001B[43mcasted_key\u001B[49m\u001B[43m)\u001B[49m\n\u001B[1;32m   3622\u001B[0m \u001B[38;5;28;01mexcept\u001B[39;00m \u001B[38;5;167;01mKeyError\u001B[39;00m \u001B[38;5;28;01mas\u001B[39;00m err:\n",
      "File \u001B[0;32m~/.local/lib/python3.8/site-packages/pandas/_libs/index.pyx:136\u001B[0m, in \u001B[0;36mpandas._libs.index.IndexEngine.get_loc\u001B[0;34m()\u001B[0m\n",
      "File \u001B[0;32m~/.local/lib/python3.8/site-packages/pandas/_libs/index.pyx:163\u001B[0m, in \u001B[0;36mpandas._libs.index.IndexEngine.get_loc\u001B[0;34m()\u001B[0m\n",
      "File \u001B[0;32mpandas/_libs/hashtable_class_helper.pxi:5198\u001B[0m, in \u001B[0;36mpandas._libs.hashtable.PyObjectHashTable.get_item\u001B[0;34m()\u001B[0m\n",
      "File \u001B[0;32mpandas/_libs/hashtable_class_helper.pxi:5206\u001B[0m, in \u001B[0;36mpandas._libs.hashtable.PyObjectHashTable.get_item\u001B[0;34m()\u001B[0m\n",
      "\u001B[0;31mKeyError\u001B[0m: 'RM_Gamma'",
      "\nThe above exception was the direct cause of the following exception:\n",
      "\u001B[0;31mKeyError\u001B[0m                                  Traceback (most recent call last)",
      "Input \u001B[0;32mIn [19]\u001B[0m, in \u001B[0;36m<module>\u001B[0;34m\u001B[0m\n\u001B[1;32m     49\u001B[0m nAllPairs \u001B[38;5;241m=\u001B[39m dsToBaseSampleStatistics[ds][\u001B[38;5;124m\"\u001B[39m\u001B[38;5;124mallPairs\u001B[39m\u001B[38;5;124m\"\u001B[39m]\n\u001B[1;32m     50\u001B[0m nMisses1TVA \u001B[38;5;241m=\u001B[39m dsToBaseSampleStatistics[ds][\u001B[38;5;124m\"\u001B[39m\u001B[38;5;124mnMisses1TVA\u001B[39m\u001B[38;5;124m\"\u001B[39m]\n\u001B[0;32m---> 51\u001B[0m thisDF \u001B[38;5;241m=\u001B[39m dfGrouped[((\u001B[43mdfGrouped\u001B[49m\u001B[43m[\u001B[49m\u001B[43mmethod\u001B[49m\u001B[43m]\u001B[49m\u001B[38;5;241m>\u001B[39m\u001B[38;5;241m=\u001B[39mt) \u001B[38;5;241m&\u001B[39m (dfGrouped[\u001B[38;5;124m\"\u001B[39m\u001B[38;5;124mhasTransitionOverlap\u001B[39m\u001B[38;5;124m\"\u001B[39m]))]\n\u001B[1;32m     52\u001B[0m nHitsThisMethod \u001B[38;5;241m=\u001B[39m \u001B[38;5;28mlen\u001B[39m(thisDF\u001B[38;5;241m.\u001B[39mindex)\n\u001B[1;32m     53\u001B[0m nMissesThisMethod \u001B[38;5;241m=\u001B[39m nMisses1TVA \u001B[38;5;241m+\u001B[39m \u001B[38;5;28mlen\u001B[39m(dfGrouped\u001B[38;5;241m.\u001B[39mindex) \u001B[38;5;241m-\u001B[39m nHitsThisMethod\n",
      "File \u001B[0;32m~/.local/lib/python3.8/site-packages/pandas/core/frame.py:3506\u001B[0m, in \u001B[0;36mDataFrame.__getitem__\u001B[0;34m(self, key)\u001B[0m\n\u001B[1;32m   3504\u001B[0m \u001B[38;5;28;01mif\u001B[39;00m \u001B[38;5;28mself\u001B[39m\u001B[38;5;241m.\u001B[39mcolumns\u001B[38;5;241m.\u001B[39mnlevels \u001B[38;5;241m>\u001B[39m \u001B[38;5;241m1\u001B[39m:\n\u001B[1;32m   3505\u001B[0m     \u001B[38;5;28;01mreturn\u001B[39;00m \u001B[38;5;28mself\u001B[39m\u001B[38;5;241m.\u001B[39m_getitem_multilevel(key)\n\u001B[0;32m-> 3506\u001B[0m indexer \u001B[38;5;241m=\u001B[39m \u001B[38;5;28;43mself\u001B[39;49m\u001B[38;5;241;43m.\u001B[39;49m\u001B[43mcolumns\u001B[49m\u001B[38;5;241;43m.\u001B[39;49m\u001B[43mget_loc\u001B[49m\u001B[43m(\u001B[49m\u001B[43mkey\u001B[49m\u001B[43m)\u001B[49m\n\u001B[1;32m   3507\u001B[0m \u001B[38;5;28;01mif\u001B[39;00m is_integer(indexer):\n\u001B[1;32m   3508\u001B[0m     indexer \u001B[38;5;241m=\u001B[39m [indexer]\n",
      "File \u001B[0;32m~/.local/lib/python3.8/site-packages/pandas/core/indexes/base.py:3623\u001B[0m, in \u001B[0;36mIndex.get_loc\u001B[0;34m(self, key, method, tolerance)\u001B[0m\n\u001B[1;32m   3621\u001B[0m     \u001B[38;5;28;01mreturn\u001B[39;00m \u001B[38;5;28mself\u001B[39m\u001B[38;5;241m.\u001B[39m_engine\u001B[38;5;241m.\u001B[39mget_loc(casted_key)\n\u001B[1;32m   3622\u001B[0m \u001B[38;5;28;01mexcept\u001B[39;00m \u001B[38;5;167;01mKeyError\u001B[39;00m \u001B[38;5;28;01mas\u001B[39;00m err:\n\u001B[0;32m-> 3623\u001B[0m     \u001B[38;5;28;01mraise\u001B[39;00m \u001B[38;5;167;01mKeyError\u001B[39;00m(key) \u001B[38;5;28;01mfrom\u001B[39;00m \u001B[38;5;21;01merr\u001B[39;00m\n\u001B[1;32m   3624\u001B[0m \u001B[38;5;28;01mexcept\u001B[39;00m \u001B[38;5;167;01mTypeError\u001B[39;00m:\n\u001B[1;32m   3625\u001B[0m     \u001B[38;5;66;03m# If we have a listlike key, _check_indexing_error will raise\u001B[39;00m\n\u001B[1;32m   3626\u001B[0m     \u001B[38;5;66;03m#  InvalidIndexError. Otherwise we fall through and re-raise\u001B[39;00m\n\u001B[1;32m   3627\u001B[0m     \u001B[38;5;66;03m#  the TypeError.\u001B[39;00m\n\u001B[1;32m   3628\u001B[0m     \u001B[38;5;28mself\u001B[39m\u001B[38;5;241m.\u001B[39m_check_indexing_error(key)\n",
      "\u001B[0;31mKeyError\u001B[0m: 'RM_Gamma'"
     ]
    }
   ],
   "source": [
    "oldGoldStandard = rm.readGoldStandardEvaluation(gold_standard_path,True,pathTo95TVA2DVASample)\n",
    "newGoldStandard = rm.readGoldStandardEvaluation(gold_standard_path,False,pathTo95TVA2DVASample)\n",
    "pd.options.mode.chained_assignment = None\n",
    "\n",
    "thresholds = []\n",
    "for i in range(101):\n",
    "    thresholds.append(i/100)\n",
    "finalDFRows = []\n",
    "methods = [\"RM_Gamma\",\"CBRB_Beta\"]\n",
    "\n",
    "methodsToRecallScoreNames = {\n",
    "    \"RM_Gamma\":\"exactSequenceMatchPercentage\",\n",
    "    \"CBRB_Beta\":\"decayScore\",\n",
    "    \"Relaxed_CBRB_Gamma\":\"compatibilityPercentageNoDecay\"\n",
    "}\n",
    "\n",
    "methodsToPlotNames = {\n",
    "    \"RM_Gamma\":\"RM\",\n",
    "    \"CBRB_Beta\":\"CBRB\"\n",
    "}\n",
    "\n",
    "bucketAndDatasetToWeight, _ = rm.getBucketAndDatasetToWeight(pathTo95TVA2DVASample)\n",
    "\n",
    "def getRecall(oldGoldStandard, ds, scoreName, weighted):\n",
    "    oldGoldStandardFiltered = oldGoldStandard[oldGoldStandard[\"dataset\"]==ds]\n",
    "    oldGoldStandardFiltered['currentScoreWithCutoff'] = ((oldGoldStandardFiltered[scoreName] !=-1) & (oldGoldStandardFiltered[scoreName]>=t))\n",
    "    recallDGS = mhm.getRecall(oldGoldStandardFiltered,'currentScoreWithCutoff',weighted,bucketAndDatasetToWeight)\n",
    "    return recallDGS\n",
    "\n",
    "print(oldGoldStandard['decayScore'].describe())\n",
    "\n",
    "for method in methods:\n",
    "    print(\"processing\",method)\n",
    "    plotnameMethod = methodsToPlotNames[method]\n",
    "    for t in thresholds:\n",
    "    #print(\"Processing \",ds)\n",
    "        print(\"processing\",t)\n",
    "        avgN = 0\n",
    "        avgRR = 0\n",
    "        avgRecallDGS = 0\n",
    "        avgRecallRGS = 0\n",
    "        for(ds,dfGrouped) in groupedByDsParametrized:\n",
    "            scoreName = methodsToRecallScoreNames[method]\n",
    "            #recall old and new gold standard:\n",
    "            recallDGS = getRecall(oldGoldStandard,ds,scoreName,False)\n",
    "            recallRGS = getRecall(newGoldStandard,ds,scoreName,True)\n",
    "            #recall new gold standard:\n",
    "            #reduction ratio:\n",
    "            nAllPairs = dsToBaseSampleStatistics[ds][\"allPairs\"]\n",
    "            nMisses1TVA = dsToBaseSampleStatistics[ds][\"nMisses1TVA\"]\n",
    "            thisDF = dfGrouped[((dfGrouped[method]>=t) & (dfGrouped[\"hasTransitionOverlap\"]))]\n",
    "            nHitsThisMethod = len(thisDF.index)\n",
    "            nMissesThisMethod = nMisses1TVA + len(dfGrouped.index) - nHitsThisMethod\n",
    "            n,rrAll = mhm.getReductionRate(nHitsThisMethod,nMissesThisMethod,nAllPairs)\n",
    "            if(rrAll>1):\n",
    "                print(n,rrAll,nHitsThisMethod,nMissesThisMethod,nAllPairs)\n",
    "            avgN +=n\n",
    "            avgRR += rrAll\n",
    "            avgRecallDGS += recallDGS\n",
    "            avgRecallRGS += recallRGS\n",
    "            finalDFRows.append({\"n\":n,\"rr\":100*rrAll,\"method\":plotnameMethod,\"threshold\":t,\"dataset\":ds,\"recall\":recallDGS,\"GS\":\"DGS\"})\n",
    "            finalDFRows.append({\"n\":n,\"rr\":100*rrAll,\"method\":plotnameMethod,\"threshold\":t,\"dataset\":ds,\"recall\":recallRGS,\"GS\":\"RGS\"})\n",
    "        avgN = avgN / len(groupedByDsParametrized)\n",
    "        avgRR = avgRR / len(groupedByDsParametrized)\n",
    "        avgRecallDGS = avgRecallDGS / len(groupedByDsParametrized)\n",
    "        avgRecallRGS = avgRecallRGS / len(groupedByDsParametrized)\n",
    "        finalDFRows.append({\"n\":avgN,\"rr\":100*avgRR,\"method\":plotnameMethod,\"threshold\":t,\"dataset\":\"MAA\",\"recall\":avgRecallDGS,\"GS\":\"DGS\"})\n",
    "        finalDFRows.append({\"n\":avgN,\"rr\":100*avgRR,\"method\":plotnameMethod,\"threshold\":t,\"dataset\":\"MAA\",\"recall\":avgRecallRGS,\"GS\":\"RGS\"})\n",
    "finalDF = pd.DataFrame(finalDFRows)\n",
    "print(finalDF.describe())"
   ],
   "metadata": {
    "collapsed": false,
    "pycharm": {
     "name": "#%%\n"
    }
   }
  },
  {
   "cell_type": "code",
   "execution_count": null,
   "outputs": [],
   "source": [
    "from plotnine import *\n",
    "\n",
    "#we can never get worse in terms of reduction ratio if we choose less recall:\n",
    "def createSmoothedRR(x, finalDF):\n",
    "    gs = x[\"GS\"]\n",
    "    method = x[\"method\"]\n",
    "    dataset = x[\"dataset\"]\n",
    "    recall = x[\"recall\"]\n",
    "    sorted = finalDF[(finalDF[\"dataset\"]==dataset) & (finalDF[\"method\"]==method) & (finalDF[\"GS\"]==gs) & (finalDF[\"recall\"]>=recall)].sort_values('rr',ascending=False)\n",
    "    bestRR = sorted.iloc[0][\"rr\"]\n",
    "    return bestRR\n",
    "\n",
    "reductionRatioSmoothed = finalDF.apply(lambda x: createSmoothedRR(x,finalDF),axis=1)\n",
    "finalDF[\"rrSmooth\"] = reductionRatioSmoothed\n",
    "finalDFMAA = finalDF[finalDF['dataset']==\"MAA\"]\n",
    "plot = ggplot(finalDFMAA, aes(x ='recall', y='rrSmooth', color=\"method\", shape = \"method\")) + geom_line() + geom_point(size=2) + theme_bw() + facet_wrap(\"GS\") + theme(text=element_text(size=14)) + ylab(\"Reduction Ratio [%]\") + scale_color_brewer(type=\"qual\",palette=\"Set2\")\n",
    "print(plot)\n",
    "plot.save(\"exportedPlots/rrParametrized.png\")\n",
    "\n",
    "#faceted by dataset:\n",
    "# finalDFNOMAA = finalDF[finalDF['dataset']!=\"MAA\"]\n",
    "# finalDFNOMAADGS = finalDFNOMAA[finalDFNOMAA[\"GS\"]==\"DGS\"]\n",
    "# finalDFNOMAARGS = finalDFNOMAA[finalDFNOMAA[\"GS\"]==\"RGS\"]\n",
    "# plot = ggplot(finalDFNOMAADGS, aes(x ='recall', y='rrSmooth', color=\"method\", shape = \"method\")) + geom_line() + geom_point(size=2) + theme_bw() + facet_wrap([\"dataset\"]) +ggtitle(\"DGS\")+ theme(text=element_text(size=14)) + ylab(\"Reduction Ratio [%]\") + theme(axis_text_x = element_text(angle=45)) + scale_color_brewer(type=\"qual\",palette=\"Set2\")\n",
    "# print(plot)\n",
    "# plot.save(\"exportedPlots/rrDGSAll.png\")\n",
    "#\n",
    "# plot = ggplot(finalDFNOMAARGS, aes(x ='recall', y='rrSmooth', color=\"method\", shape = \"method\")) + geom_line() + geom_point(size=2) + theme_bw() + facet_wrap([\"dataset\"]) +ggtitle(\"RGS\")+ theme(text=element_text(size=14)) + ylab(\"Reduction Ratio [%]\") + theme(axis_text_x = element_text(angle=45))\n",
    "# print(plot)\n",
    "# plot.save(\"exportedPlots/rrRGSAll.png\")\n",
    "#\n",
    "# plot = ggplot(finalDFNOMAA, aes(x ='recall', y='rrSmooth', color=\"method\", shape = \"method\")) + geom_line() + geom_point(size=2) + theme_bw() + facet_wrap([\"dataset\",\"GS\"]) +ggtitle(ds)+ theme(text=element_text(size=14)) + ylab(\"Reduction Ratio [%]\") + ylim(99.95,100)\n",
    "# print(plot)\n",
    "# for ds in finalDFNOMAA[\"dataset\"].unique():\n",
    "#     thisDF = finalDFNOMAA[finalDFNOMAA[\"dataset\"]==ds]\n",
    "#     plot = ggplot(thisDF, aes(x ='recall', y='rrSmooth', color=\"method\", shape = \"method\")) + geom_line() + geom_point(size=2) + theme_bw() + facet_wrap(\"GS\") +ggtitle(ds)+ theme(text=element_text(size=14)) + ylab(\"Reduction Ratio [%]\")\n",
    "#     print(plot)"
   ],
   "metadata": {
    "collapsed": false,
    "pycharm": {
     "name": "#%%\n"
    }
   }
  },
  {
   "cell_type": "code",
   "execution_count": null,
   "outputs": [],
   "source": [
    "print(finalDFMAA[(finalDFMAA['recall']>=0.95) & (finalDFMAA['GS']==\"RGS\")])"
   ],
   "metadata": {
    "collapsed": false,
    "pycharm": {
     "name": "#%%\n"
    }
   }
  }
 ],
 "metadata": {
  "kernelspec": {
   "display_name": "Python 3 (ipykernel)",
   "language": "python",
   "name": "python3"
  },
  "language_info": {
   "codemirror_mode": {
    "name": "ipython",
    "version": 3
   },
   "file_extension": ".py",
   "mimetype": "text/x-python",
   "name": "python",
   "nbconvert_exporter": "python",
   "pygments_lexer": "ipython3",
   "version": "3.8.10"
  }
 },
 "nbformat": 4,
 "nbformat_minor": 1
}