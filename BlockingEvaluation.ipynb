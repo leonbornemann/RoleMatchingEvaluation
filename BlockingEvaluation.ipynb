{
 "cells": [
  {
   "cell_type": "markdown",
   "source": [
    "# Define Paths"
   ],
   "metadata": {
    "collapsed": false,
    "pycharm": {
     "name": "#%% md\n"
    }
   }
  },
  {
   "cell_type": "code",
   "execution_count": 5,
   "outputs": [],
   "source": [
    "pathTo95TVA2DVASample = \"localData/95TVA2DVASample/\"\n",
    "gold_standard_path = \"localData/gold_standards/\"\n",
    "#ALL Pair sample can be found in TODO: insert link!\n",
    "allPairsSamplePath = \"<REPLACE THIS>\""
   ],
   "metadata": {
    "collapsed": false,
    "pycharm": {
     "name": "#%%\n"
    }
   }
  },
  {
   "cell_type": "markdown",
   "source": [
    "# Print Recall Table of RSG or DGS (Table 3):"
   ],
   "metadata": {
    "collapsed": false,
    "pycharm": {
     "name": "#%% md\n"
    }
   }
  },
  {
   "cell_type": "code",
   "execution_count": 3,
   "outputs": [
    {
     "name": "stdout",
     "output_type": "stream",
     "text": [
      "dataset,#TP,EM,CBRB,QSM,TSM,VSM\n",
      ",,R,R,R,R,R\n",
      "ED,20,41,47,67,67,67\n",
      "FO,7,100,100,100,100,100\n",
      "MI,21,18,85,44,69,69\n",
      "PO,33,37,62,66,76,78\n",
      "TV,58,7,50,78,99,99\n",
      "Micro-AVG,139,27,59,68,80,81\n",
      "Macro-AVG,,41,69,71,82,82,"
     ]
    }
   ],
   "source": [
    "import role_matching.EvaluationHelperMethods as rm\n",
    "import role_matching.MetricHelperMethods as mhm\n",
    "import pandas as pd\n",
    "from plotnine import *\n",
    "from plotnine.data import *\n",
    "from tabulate import tabulate\n",
    "from sklearn.metrics import accuracy_score, f1_score, precision_score, recall_score, classification_report, confusion_matrix, precision_recall_curve\n",
    "import numpy as np\n",
    "\n",
    "bucketAndDatasetToWeight, _ = rm.getBucketAndDatasetToWeight(pathTo95TVA2DVASample)\n",
    "\n",
    "loadDiverseGoldStandard = False\n",
    "if(loadDiverseGoldStandard):\n",
    "    weighted = False\n",
    "else:\n",
    "    weighted = True\n",
    "df = rm.readGoldStandardEvaluation(gold_standard_path,loadDiverseGoldStandard,pathTo95TVA2DVASample)\n",
    "methodNames = ['isInExactMatchBlockingWithFilter','isInStrictBlockingNoDecayWithFilter','isInSequenceBlockingWithFilter','isInTSMBlockingWithFilter','isInValueSetBlockingWithFilter']\n",
    "\n",
    "print(\"dataset\",\"#TP\",\"EM\",\"CBRB\",\"QSM\",\"TSM\",\"VSM\",sep=\",\")\n",
    "print(\",\" + (\",R\"* (len(methodNames))))\n",
    "dsNameList = []\n",
    "for dsName in df['dataset'].unique():\n",
    "    dsNameList.append(dsName)\n",
    "dsNameList.sort()\n",
    "for dsName in dsNameList:\n",
    "    shortName = rm.datasetToAbbreviation[dsName]\n",
    "    mhm.printRecallForNonparametrizedMethodsDF(shortName,df[df['dataset']==dsName],methodNames,weighted,bucketAndDatasetToWeight)\n",
    "mhm.printRecallForNonparametrizedMethodsDF(\"Micro-AVG\",df,methodNames,weighted,bucketAndDatasetToWeight)\n",
    "mhm.printMacroAveragesRecall(\"Macro-AVG\",df,methodNames,weighted,bucketAndDatasetToWeight)"
   ],
   "metadata": {
    "collapsed": false,
    "pycharm": {
     "name": "#%%\n"
    }
   }
  },
  {
   "cell_type": "code",
   "execution_count": 11,
   "outputs": [
    {
     "name": "stdout",
     "output_type": "stream",
     "text": [
      "Empty DataFrame\n",
      "Columns: [id1, id2]\n",
      "Index: []\n"
     ]
    }
   ],
   "source": [
    "print(df[(df['isSemanticRoleMatch']) & (df['isInStrictBlockingNoDecay']) & (~df['isInStrictBlockingNoDecayWithFilter'])][['id1','id2']])\n",
    "df[(df['isSemanticRoleMatch']) & (df['isInStrictBlockingNoDecay']) & (~df['isInStrictBlockingNoDecayWithFilter'])][['dataset','id1','id2']].to_csv(\"gs1errors.csv\")\n",
    "#df[\"newLabel\"] = (df['isSemanticRoleMatch']) | ((df['isSemanticRoleMatch']) & (df['isInStrictBlockingNoDecay']) & (~df['isInStrictBlockingNoDecayWithFilter']))\n",
    "#print(sum(df[\"newLabel\"]))\n",
    "#print(sum(df[\"isSemanticRoleMatch\"]))"
   ],
   "metadata": {
    "collapsed": false,
    "pycharm": {
     "name": "#%%\n"
    }
   }
  },
  {
   "cell_type": "markdown",
   "source": [
    "# Print How Many True Positives could correct Data quality errors (Introduction):"
   ],
   "metadata": {
    "collapsed": false,
    "pycharm": {
     "name": "#%% md\n"
    }
   }
  },
  {
   "cell_type": "code",
   "execution_count": 12,
   "outputs": [
    {
     "name": "stdout",
     "output_type": "stream",
     "text": [
      "0.32679738562091504\n",
      "0.24183006535947713\n",
      "0.24183006535947713\n"
     ]
    },
    {
     "name": "stderr",
     "output_type": "stream",
     "text": [
      "/tmp/ipykernel_81200/3615401763.py:3: FutureWarning: The frame.append method is deprecated and will be removed from pandas in a future version. Use pandas.concat instead.\n"
     ]
    }
   ],
   "source": [
    "df1 = rm.readGoldStandardEvaluation(gold_standard_path,True,pathTo95TVA2DVASample)\n",
    "df2 = rm.readGoldStandardEvaluation(gold_standard_path,True,pathTo95TVA2DVASample)\n",
    "dfAll = df1.append(df2)\n",
    "dfAllTP = dfAll[dfAll['isSemanticRoleMatch']]\n",
    "print(sum(dfAllTP[\"hasNonOverlap\"]) / len(dfAllTP.index))\n",
    "print(sum(~ dfAllTP[\"isInStrictBlockingNoDecay\"]) / len(dfAllTP.index))\n",
    "print(sum( dfAllTP[\"compatibilityPercentageNoDecay\"] != 1.0) / len(dfAllTP.index))"
   ],
   "metadata": {
    "collapsed": false,
    "pycharm": {
     "name": "#%%\n"
    }
   }
  },
  {
   "cell_type": "markdown",
   "source": [
    "# Gold Standard Overview (Figure 6)"
   ],
   "metadata": {
    "collapsed": false,
    "pycharm": {
     "name": "#%% md\n"
    }
   }
  },
  {
   "cell_type": "code",
   "execution_count": 13,
   "outputs": [
    {
     "name": "stdout",
     "output_type": "stream",
     "text": [
      "dataset      bucket          \n",
      "education    [0.0,0.7) (<70%)     2\n",
      "             [0.7,1.0) (70%)      2\n",
      "             [1.0,1.0] (full)    15\n",
      "football     [0.7,1.0) (70%)      3\n",
      "             [1.0,1.0] (full)    41\n",
      "military     [0.0,0.7) (<70%)     5\n",
      "             [0.7,1.0) (70%)      4\n",
      "             [1.0,1.0] (full)    12\n",
      "politics     [0.0,0.7) (<70%)     6\n",
      "             [0.7,1.0) (70%)      7\n",
      "             [1.0,1.0] (full)    20\n",
      "tv_and_film  [0.0,0.7) (<70%)     3\n",
      "             [0.7,1.0) (70%)      5\n",
      "             [1.0,1.0] (full)    28\n",
      "dtype: int64\n"
     ]
    }
   ],
   "source": [
    "# true positives:\n",
    "dfTruePositivesOnly = df[df['isSemanticRoleMatch']]\n",
    "tab = dfTruePositivesOnly.groupby(['dataset','bucket']).size()\n",
    "print(tab)"
   ],
   "metadata": {
    "collapsed": false,
    "pycharm": {
     "name": "#%%\n"
    }
   }
  },
  {
   "cell_type": "code",
   "execution_count": 14,
   "outputs": [
    {
     "name": "stderr",
     "output_type": "stream",
     "text": [
      "/usr/local/lib/python3.8/dist-packages/plotnine/utils.py:371: FutureWarning: The frame.append method is deprecated and will be removed from pandas in a future version. Use pandas.concat instead.\n",
      "/usr/local/lib/python3.8/dist-packages/plotnine/utils.py:371: FutureWarning: The frame.append method is deprecated and will be removed from pandas in a future version. Use pandas.concat instead.\n"
     ]
    },
    {
     "data": {
      "text/plain": "<Figure size 640x480 with 2 Axes>",
      "image/png": "[encoded data removed]"
     },
     "metadata": {},
     "output_type": "display_data"
    },
    {
     "name": "stdout",
     "output_type": "stream",
     "text": [
      "\n"
     ]
    },
    {
     "name": "stderr",
     "output_type": "stream",
     "text": [
      "/usr/local/lib/python3.8/dist-packages/plotnine/ggplot.py:719: PlotnineWarning: Saving 6.4 x 4.8 in image.\n",
      "/usr/local/lib/python3.8/dist-packages/plotnine/ggplot.py:722: PlotnineWarning: Filename: exportedPlots/truePositivesBoth.png\n",
      "/usr/local/lib/python3.8/dist-packages/plotnine/utils.py:371: FutureWarning: The frame.append method is deprecated and will be removed from pandas in a future version. Use pandas.concat instead.\n",
      "/usr/local/lib/python3.8/dist-packages/plotnine/utils.py:371: FutureWarning: The frame.append method is deprecated and will be removed from pandas in a future version. Use pandas.concat instead.\n"
     ]
    }
   ],
   "source": [
    "import role_matching.EvaluationHelperMethods as rm\n",
    "loadDiverseGoldStandard=True # old or new gold standard\n",
    "\n",
    "df1 = rm.readGoldStandardEvaluation(gold_standard_path,True,pathTo95TVA2DVASample)\n",
    "df1[\"GS\"] = \"DGS\"\n",
    "df2 = rm.readGoldStandardEvaluation(gold_standard_path,False,pathTo95TVA2DVASample)\n",
    "df2[\"GS\"] = \"RGS\"\n",
    "\n",
    "rm.addShortDataset(df1)\n",
    "rm.addShortDataset(df2)\n",
    "df1['bucket'] = df1['compatibilityPercentageNoDecay'].map(lambda x: rm.getShortGroup(x))\n",
    "df2['bucket'] = df2['compatibilityPercentageNoDecay'].map(lambda x: rm.getShortGroup(x))\n",
    "\n",
    "dfTruePositivesOnlyDF1 = df1[df1['isSemanticRoleMatch']]\n",
    "dfTruePositivesOnlyDF2 = df2[df2['isSemanticRoleMatch']]\n",
    "dfAllPositives = pd.concat([dfTruePositivesOnlyDF1,dfTruePositivesOnlyDF2])\n",
    "\n",
    "cbPalette = [\"#1b9e77\", \"#d95f02\", \"#7570b3\", \"#009E73\", \"#F0E442\", \"#0072B2\", \"#D55E00\", \"#CC79A7\"]\n",
    "\n",
    "plot = ggplot(dfAllPositives,aes(x = 'datasetShort',fill=\"bucket\")) +xlab(\"\") + geom_bar(stat = \"count\") + facet_wrap(\"GS\") + theme_bw() + ggtitle(\"True Positives\") + theme(text=element_text(size=14)) +  geom_text(aes(label = \"..count..\"),position = position_stack(vjust = 0.25), stat = \"count\")+ scale_fill_brewer(type=\"qual\",palette=\"Set2\")\n",
    "print(plot)\n",
    "plot.save(\"exportedPlots/truePositivesBoth.png\")\n"
   ],
   "metadata": {
    "collapsed": false,
    "pycharm": {
     "name": "#%%\n"
    }
   }
  },
  {
   "cell_type": "markdown",
   "source": [
    "# Reduction Ratios of Non-Parametrized Methods (Table 4 and Figure 7)"
   ],
   "metadata": {
    "collapsed": false,
    "pycharm": {
     "name": "#%% md\n"
    }
   }
  },
  {
   "cell_type": "code",
   "execution_count": 16,
   "outputs": [],
   "source": [
    "import glob\n",
    "import os\n",
    "import pandas as pd\n",
    "import role_matching.EvaluationHelperMethods as rm\n",
    "\n",
    "#Statistics extracted from the sample drawing:\n",
    "#We drew a sample from the set of all pairs until we had 1 million candidate pairs that had at least one timestamp-value agreement (1TVA)\n",
    "#Having 1TVA is a prerequisite for a candidate pair in order to be considered\n",
    "#We tracked how many candidate pairs did not have 1TVA per dataset in order to be able to compute the correct (estimated) reduction ratio\n",
    "#allPairs denotes the number of all pairs per dataset, nMisses1TVA denotes how many pairs we had to skip (because they were not in 1TVA)\n",
    "dsToBaseSampleStatistics = {\n",
    "    \"military\": {\"allPairs\":4263199291,\"nMisses1TVA\":88280922,\"nHits1TVA\":1000000},\n",
    "    \"tv_and_film\": {\"allPairs\":23657801481,\"nMisses1TVA\":50646743,\"nHits1TVA\":1000000},\n",
    "    \"politics\": {\"allPairs\":2223411270,\"nMisses1TVA\":41041877,\"nHits1TVA\":1000000},\n",
    "    \"education\": {\"allPairs\":2737889001,\"nMisses1TVA\":28997770,\"nHits1TVA\":1000000},\n",
    "    \"football\": {\"allPairs\":53116323211,\"nMisses1TVA\":38466606,\"nHits1TVA\":1000000},\n",
    "}\n",
    "\n",
    "#these are the files that contain the statistics about the 1 million candidates in TVA (per dataset):\n",
    "dfAllPairsSample = pd.concat(map(pd.read_csv, glob.glob(os.path.join('', allPairsSamplePath + \"/*.csv\"))))\n",
    "\n",
    "methodNames = ['isInValueSetBlockingWithFilter','isInStrictBlockingNoDecayWithFilter',\"isInTSMBlockingNoWildcard\",\"isInTSMBlockingWithFilter\"]\n",
    "\n",
    "rm.addFilteredBlockingMethods(dfAllPairsSample)\n",
    "rm.addDVA2VA95Blocking(dfAllPairsSample)\n",
    "#rm.addParametrizedScoresAsBooleanScores(dfAllPairsSample)\n",
    "#print(dfAllPairsSample.columns)\n",
    "groupedByDS = dfAllPairsSample.groupby(\"dataset\")\n"
   ],
   "metadata": {
    "collapsed": false,
    "pycharm": {
     "name": "#%%\n"
    }
   }
  },
  {
   "cell_type": "code",
   "execution_count": 17,
   "outputs": [
    {
     "name": "stdout",
     "output_type": "stream",
     "text": [
      "dataset,#Total Pairs,EM,CBRB,QSM,TSM,VSM\n",
      "education,2737889001,0.9999997666493209,0.9999987665749821,0.9999974331425303,0.9999956996803429,0.9999935328526087,\n",
      "football,53116323211,0.9999997212833553,0.9999979476319804,0.9999633614301671,0.9999550252687044,0.999934197533986,\n",
      "military,4263199291,0.9999994847723459,0.9999925403996164,0.9999904794889999,0.9999828070771939,0.9999821238405222,\n",
      "politics,2223411270,0.9999991674967319,0.9999982636360408,0.9999964559146586,0.9999953141958909,0.9999948622655453,\n",
      "tv_and_film,23657801481,0.9999999612753896,0.9999998063769481,0.9999990706093509,0.9999980250448707,0.9999968052196437,\n"
     ]
    },
    {
     "data": {
      "text/plain": "<Figure size 640x480 with 1 Axes>",
      "image/png": "[encoded data removed]"
     },
     "metadata": {},
     "output_type": "display_data"
    },
    {
     "name": "stdout",
     "output_type": "stream",
     "text": [
      "\n"
     ]
    },
    {
     "name": "stderr",
     "output_type": "stream",
     "text": [
      "/usr/local/lib/python3.8/dist-packages/plotnine/ggplot.py:719: PlotnineWarning: Saving 6.4 x 4.8 in image.\n",
      "/usr/local/lib/python3.8/dist-packages/plotnine/ggplot.py:722: PlotnineWarning: Filename: exportedPlots/absoluteSetSizes.png\n"
     ]
    }
   ],
   "source": [
    "import role_matching.MetricHelperMethods as mhm\n",
    "\n",
    "methodNames = ['isInExactMatchBlockingWithFilter','isInStrictBlockingNoDecayWithFilter','isInSequenceBlockingWithFilter','isInTSMBlockingWithFilter','isInValueSetBlockingWithFilter']\n",
    "\n",
    "methodNamesToShortMethodName = {\n",
    "    'isInExactMatchBlockingWithFilter':\"EM\",\n",
    "    'isInStrictBlockingNoDecayWithFilter':\"CBRB\",\n",
    "    'isInSequenceBlockingWithFilter':\"CQM\",\n",
    "    'isInTSMBlockingWithFilter':\"TSM\",\n",
    "    'isInValueSetBlockingWithFilter':\"VSM\"\n",
    "}\n",
    "print(\"dataset\",\"#Total Pairs\",\"EM\",\"CBRB\",\"QSM\",\"TSM\",\"VSM\",sep=\",\")\n",
    "finalDSRows = []\n",
    "for (ds,thisDsAllPairsSample) in groupedByDS:\n",
    "    nAllPairs = dsToBaseSampleStatistics[ds][\"allPairs\"]\n",
    "    nHits1TVA = dsToBaseSampleStatistics[ds][\"nHits1TVA\"]\n",
    "    nMisses1TVA = dsToBaseSampleStatistics[ds][\"nMisses1TVA\"]\n",
    "    estimatedCountSVAPairs = round((nHits1TVA / (nHits1TVA+nMisses1TVA)) * nAllPairs)\n",
    "    nHits90VA2DA = len(thisDsAllPairsSample[thisDsAllPairsSample['isInDVA2VA95Blocking']].index)\n",
    "    nMisses90VA2DA = len(thisDsAllPairsSample[thisDsAllPairsSample['isInDVA2VA95Blocking']].index)\n",
    "    print(ds,nAllPairs,sep=\",\",end=\",\")\n",
    "    for method in methodNames:\n",
    "        thisDF = thisDsAllPairsSample[thisDsAllPairsSample[method]]\n",
    "        nHitsThisMethod = len(thisDF.index)\n",
    "        nMissesThisMethod = nMisses1TVA + len(thisDsAllPairsSample.index) - nHitsThisMethod\n",
    "        n,rrAll = mhm.getReductionRate(nHitsThisMethod,nMissesThisMethod,nAllPairs)\n",
    "        finalDSRows.append({\"dataset\":ds,\"method\":methodNamesToShortMethodName[method],\"n\":n,\"rr\":rrAll})\n",
    "        _,rr1VA = mhm.getReductionRate(nHitsThisMethod,len(thisDsAllPairsSample) - nHitsThisMethod,estimatedCountSVAPairs)\n",
    "        rr95 = mhm.getReductionRateToOtherMethod(method,\"isInDVA2VA95Blocking\",thisDsAllPairsSample)\n",
    "        print(rrAll,sep=\",\",end=\",\")\n",
    "    print(\"\")\n",
    "finalDF = pd.DataFrame(finalDSRows)\n",
    "#get maxima:\n",
    "grouped = finalDF.groupby(\"dataset\",).agg({'n':\"max\"}).to_dict(\"index\")\n",
    "finalDF[\"% of Max\"] = finalDF.apply(lambda r: 100*(r[\"n\"] / grouped[r[\"dataset\"]][\"n\"]),axis=1)\n",
    "finalDF['method'] = finalDF['method'].astype(\"category\").cat.reorder_categories(['EM', 'CBRB', \"CQM\", \"TSM\", \"VSM\"])\n",
    "rm.addShortDataset(finalDF)\n",
    "plot = ggplot(finalDF,aes(x = 'datasetShort',fill=\"method\",y=\"% of Max\")) +xlab(\"\") + geom_bar(position=position_dodge2(preserve = \"single\"),stat=\"identity\") + ggtitle(\"Absolute Candidate Set Sizes\") + theme(text=element_text(size=14)) + theme_bw() + scale_fill_brewer(type=\"qual\",palette=\"Set2\")\n",
    "print(plot)\n",
    "plot.save(\"exportedPlots/absoluteSetSizes.png\")\n"
   ],
   "metadata": {
    "collapsed": false,
    "pycharm": {
     "name": "#%%\n"
    }
   }
  },
  {
   "cell_type": "markdown",
   "source": [
    "# Reduction Ratio parametrized (Figure 8):"
   ],
   "metadata": {
    "collapsed": false,
    "pycharm": {
     "name": "#%% md\n"
    }
   }
  },
  {
   "cell_type": "code",
   "execution_count": 6,
   "outputs": [
    {
     "name": "stdout",
     "output_type": "stream",
     "text": [
      "Index(['dataset', 'id1', 'id2', 'RM_Gamma', 'CBRB_Beta', 'Relaxed_CBRB_Gamma',\n",
      "       'hasTransitionOverlap'],\n",
      "      dtype='object')\n"
     ]
    }
   ],
   "source": [
    "import glob\n",
    "import os\n",
    "import pandas as pd\n",
    "import role_matching.EvaluationHelperMethods as rm\n",
    "import role_matching.MetricHelperMethods as mhm\n",
    "\n",
    "#same as above\n",
    "dsToBaseSampleStatistics = {\n",
    "    \"military\": {\"allPairs\":4263199291,\"nMisses1TVA\":88280922,\"nHits1TVA\":1000000},\n",
    "    \"tv_and_film\": {\"allPairs\":23657801481,\"nMisses1TVA\":50646743,\"nHits1TVA\":1000000},\n",
    "    \"politics\": {\"allPairs\":2223411270,\"nMisses1TVA\":41041877,\"nHits1TVA\":1000000},\n",
    "    \"education\": {\"allPairs\":2737889001,\"nMisses1TVA\":28997770,\"nHits1TVA\":1000000},\n",
    "    \"football\": {\"allPairs\":53116323211,\"nMisses1TVA\":38466606,\"nHits1TVA\":1000000},\n",
    "}\n",
    "\n",
    "dfAllPairsParametrized = pd.concat(map(pd.read_csv, glob.glob(os.path.join('', allPairsSamplePath+\"*.csv\"))))\n",
    "print(dfAllPairsParametrized.columns)\n",
    "groupedByDsParametrized = dfAllPairsParametrized.groupby(\"dataset\")"
   ],
   "metadata": {
    "collapsed": false,
    "pycharm": {
     "name": "#%%\n"
    }
   }
  },
  {
   "cell_type": "code",
   "execution_count": 7,
   "outputs": [
    {
     "name": "stdout",
     "output_type": "stream",
     "text": [
      "count    1500.000000\n",
      "mean        0.352927\n",
      "std         0.616159\n",
      "min        -1.000000\n",
      "25%         0.000000\n",
      "50%         0.330000\n",
      "75%         1.000000\n",
      "max         1.000000\n",
      "Name: decayScore, dtype: float64\n",
      "processing RM_Gamma\n",
      "processing 0.0\n",
      "processing 0.01\n",
      "processing 0.02\n",
      "processing 0.03\n",
      "processing 0.04\n",
      "processing 0.05\n",
      "processing 0.06\n",
      "processing 0.07\n",
      "processing 0.08\n",
      "processing 0.09\n",
      "processing 0.1\n",
      "processing 0.11\n",
      "processing 0.12\n",
      "processing 0.13\n",
      "processing 0.14\n",
      "processing 0.15\n",
      "processing 0.16\n",
      "processing 0.17\n",
      "processing 0.18\n",
      "processing 0.19\n",
      "processing 0.2\n",
      "processing 0.21\n",
      "processing 0.22\n",
      "processing 0.23\n",
      "processing 0.24\n",
      "processing 0.25\n",
      "processing 0.26\n",
      "processing 0.27\n",
      "processing 0.28\n",
      "processing 0.29\n",
      "processing 0.3\n",
      "processing 0.31\n",
      "processing 0.32\n",
      "processing 0.33\n",
      "processing 0.34\n",
      "processing 0.35\n",
      "processing 0.36\n",
      "processing 0.37\n",
      "processing 0.38\n",
      "processing 0.39\n",
      "processing 0.4\n",
      "processing 0.41\n",
      "processing 0.42\n",
      "processing 0.43\n",
      "processing 0.44\n",
      "processing 0.45\n",
      "processing 0.46\n",
      "processing 0.47\n",
      "processing 0.48\n",
      "processing 0.49\n",
      "processing 0.5\n",
      "processing 0.51\n",
      "processing 0.52\n",
      "processing 0.53\n",
      "processing 0.54\n",
      "processing 0.55\n",
      "processing 0.56\n",
      "processing 0.57\n",
      "processing 0.58\n",
      "processing 0.59\n",
      "processing 0.6\n",
      "processing 0.61\n",
      "processing 0.62\n",
      "processing 0.63\n",
      "processing 0.64\n",
      "processing 0.65\n",
      "processing 0.66\n",
      "processing 0.67\n",
      "processing 0.68\n",
      "processing 0.69\n",
      "processing 0.7\n",
      "processing 0.71\n",
      "processing 0.72\n",
      "processing 0.73\n",
      "processing 0.74\n",
      "processing 0.75\n",
      "processing 0.76\n",
      "processing 0.77\n",
      "processing 0.78\n",
      "processing 0.79\n",
      "processing 0.8\n",
      "processing 0.81\n",
      "processing 0.82\n",
      "processing 0.83\n",
      "processing 0.84\n",
      "processing 0.85\n",
      "processing 0.86\n",
      "processing 0.87\n",
      "processing 0.88\n",
      "processing 0.89\n",
      "processing 0.9\n",
      "processing 0.91\n",
      "processing 0.92\n",
      "processing 0.93\n",
      "processing 0.94\n",
      "processing 0.95\n",
      "processing 0.96\n",
      "processing 0.97\n",
      "processing 0.98\n",
      "processing 0.99\n",
      "processing 1.0\n",
      "processing CBRB_Beta\n",
      "processing 0.0\n",
      "processing 0.01\n",
      "processing 0.02\n",
      "processing 0.03\n",
      "processing 0.04\n",
      "processing 0.05\n",
      "processing 0.06\n",
      "processing 0.07\n",
      "processing 0.08\n",
      "processing 0.09\n",
      "processing 0.1\n",
      "processing 0.11\n",
      "processing 0.12\n",
      "processing 0.13\n",
      "processing 0.14\n",
      "processing 0.15\n",
      "processing 0.16\n",
      "processing 0.17\n",
      "processing 0.18\n",
      "processing 0.19\n",
      "processing 0.2\n",
      "processing 0.21\n",
      "processing 0.22\n",
      "processing 0.23\n",
      "processing 0.24\n",
      "processing 0.25\n",
      "processing 0.26\n",
      "processing 0.27\n",
      "processing 0.28\n",
      "processing 0.29\n",
      "processing 0.3\n",
      "processing 0.31\n",
      "processing 0.32\n",
      "processing 0.33\n",
      "processing 0.34\n",
      "processing 0.35\n",
      "processing 0.36\n",
      "processing 0.37\n",
      "processing 0.38\n",
      "processing 0.39\n",
      "processing 0.4\n",
      "processing 0.41\n",
      "processing 0.42\n",
      "processing 0.43\n",
      "processing 0.44\n",
      "processing 0.45\n",
      "processing 0.46\n",
      "processing 0.47\n",
      "processing 0.48\n",
      "processing 0.49\n",
      "processing 0.5\n",
      "processing 0.51\n",
      "processing 0.52\n",
      "processing 0.53\n",
      "processing 0.54\n",
      "processing 0.55\n",
      "processing 0.56\n",
      "processing 0.57\n",
      "processing 0.58\n",
      "processing 0.59\n",
      "processing 0.6\n",
      "processing 0.61\n",
      "processing 0.62\n",
      "processing 0.63\n",
      "processing 0.64\n",
      "processing 0.65\n",
      "processing 0.66\n",
      "processing 0.67\n",
      "processing 0.68\n",
      "processing 0.69\n",
      "processing 0.7\n",
      "processing 0.71\n",
      "processing 0.72\n",
      "processing 0.73\n",
      "processing 0.74\n",
      "processing 0.75\n",
      "processing 0.76\n",
      "processing 0.77\n",
      "processing 0.78\n",
      "processing 0.79\n",
      "processing 0.8\n",
      "processing 0.81\n",
      "processing 0.82\n",
      "processing 0.83\n",
      "processing 0.84\n",
      "processing 0.85\n",
      "processing 0.86\n",
      "processing 0.87\n",
      "processing 0.88\n",
      "processing 0.89\n",
      "processing 0.9\n",
      "processing 0.91\n",
      "processing 0.92\n",
      "processing 0.93\n",
      "processing 0.94\n",
      "processing 0.95\n",
      "processing 0.96\n",
      "processing 0.97\n",
      "processing 0.98\n",
      "processing 0.99\n",
      "processing 1.0\n",
      "                  n           rr    threshold       recall\n",
      "count  2.424000e+03  2424.000000  2424.000000  2424.000000\n",
      "mean   4.581389e+06    99.990500     0.500000     0.848868\n",
      "std    1.174197e+07     0.021892     0.291608     0.164700\n",
      "min    6.388883e+02    99.888726     0.000000     0.076136\n",
      "25%    2.181187e+04    99.994591     0.250000     0.780968\n",
      "50%    1.082686e+05    99.998648     0.500000     0.894737\n",
      "75%    1.848493e+06    99.999515     0.750000     1.000000\n",
      "max    5.910456e+07    99.999996     1.000000     1.000000\n"
     ]
    }
   ],
   "source": [
    "oldGoldStandard = rm.readGoldStandardEvaluation(gold_standard_path,True,pathTo95TVA2DVASample)\n",
    "newGoldStandard = rm.readGoldStandardEvaluation(gold_standard_path,False,pathTo95TVA2DVASample)\n",
    "pd.options.mode.chained_assignment = None\n",
    "\n",
    "thresholds = []\n",
    "for i in range(101):\n",
    "    thresholds.append(i/100)\n",
    "finalDFRows = []\n",
    "methods = [\"RM_Gamma\",\"CBRB_Beta\"]\n",
    "\n",
    "methodsToRecallScoreNames = {\n",
    "    \"RM_Gamma\":\"exactSequenceMatchPercentage\",\n",
    "    \"CBRB_Beta\":\"decayScore\",\n",
    "    \"Relaxed_CBRB_Gamma\":\"compatibilityPercentageNoDecay\"\n",
    "}\n",
    "\n",
    "methodsToPlotNames = {\n",
    "    \"RM_Gamma\":\"RM\",\n",
    "    \"CBRB_Beta\":\"CBRB\"\n",
    "}\n",
    "\n",
    "bucketAndDatasetToWeight, _ = rm.getBucketAndDatasetToWeight(pathTo95TVA2DVASample)\n",
    "\n",
    "def getRecall(oldGoldStandard, ds, scoreName, weighted):\n",
    "    oldGoldStandardFiltered = oldGoldStandard[oldGoldStandard[\"dataset\"]==ds]\n",
    "    oldGoldStandardFiltered['currentScoreWithCutoff'] = ((oldGoldStandardFiltered[scoreName] !=-1) & (oldGoldStandardFiltered[scoreName]>=t))\n",
    "    recallDGS = mhm.getRecall(oldGoldStandardFiltered,'currentScoreWithCutoff',weighted,bucketAndDatasetToWeight)\n",
    "    return recallDGS\n",
    "\n",
    "print(oldGoldStandard['decayScore'].describe())\n",
    "\n",
    "for method in methods:\n",
    "    print(\"processing\",method)\n",
    "    plotnameMethod = methodsToPlotNames[method]\n",
    "    for t in thresholds:\n",
    "    #print(\"Processing \",ds)\n",
    "        print(\"processing\",t)\n",
    "        avgN = 0\n",
    "        avgRR = 0\n",
    "        avgRecallDGS = 0\n",
    "        avgRecallRGS = 0\n",
    "        for(ds,dfGrouped) in groupedByDsParametrized:\n",
    "            scoreName = methodsToRecallScoreNames[method]\n",
    "            #recall old and new gold standard:\n",
    "            recallDGS = getRecall(oldGoldStandard,ds,scoreName,False)\n",
    "            recallRGS = getRecall(newGoldStandard,ds,scoreName,True)\n",
    "            #recall new gold standard:\n",
    "            #reduction ratio:\n",
    "            nAllPairs = dsToBaseSampleStatistics[ds][\"allPairs\"]\n",
    "            nMisses1TVA = dsToBaseSampleStatistics[ds][\"nMisses1TVA\"]\n",
    "            thisDF = dfGrouped[((dfGrouped[method]>=t) & (dfGrouped[\"hasTransitionOverlap\"]))]\n",
    "            nHitsThisMethod = len(thisDF.index)\n",
    "            nMissesThisMethod = nMisses1TVA + len(dfGrouped.index) - nHitsThisMethod\n",
    "            n,rrAll = mhm.getReductionRate(nHitsThisMethod,nMissesThisMethod,nAllPairs)\n",
    "            if(rrAll>1):\n",
    "                print(n,rrAll,nHitsThisMethod,nMissesThisMethod,nAllPairs)\n",
    "            avgN +=n\n",
    "            avgRR += rrAll\n",
    "            avgRecallDGS += recallDGS\n",
    "            avgRecallRGS += recallRGS\n",
    "            finalDFRows.append({\"n\":n,\"rr\":100*rrAll,\"method\":plotnameMethod,\"threshold\":t,\"dataset\":ds,\"recall\":recallDGS,\"GS\":\"DGS\"})\n",
    "            finalDFRows.append({\"n\":n,\"rr\":100*rrAll,\"method\":plotnameMethod,\"threshold\":t,\"dataset\":ds,\"recall\":recallRGS,\"GS\":\"RGS\"})\n",
    "        avgN = avgN / len(groupedByDsParametrized)\n",
    "        avgRR = avgRR / len(groupedByDsParametrized)\n",
    "        avgRecallDGS = avgRecallDGS / len(groupedByDsParametrized)\n",
    "        avgRecallRGS = avgRecallRGS / len(groupedByDsParametrized)\n",
    "        finalDFRows.append({\"n\":avgN,\"rr\":100*avgRR,\"method\":plotnameMethod,\"threshold\":t,\"dataset\":\"MAA\",\"recall\":avgRecallDGS,\"GS\":\"DGS\"})\n",
    "        finalDFRows.append({\"n\":avgN,\"rr\":100*avgRR,\"method\":plotnameMethod,\"threshold\":t,\"dataset\":\"MAA\",\"recall\":avgRecallRGS,\"GS\":\"RGS\"})\n",
    "finalDF = pd.DataFrame(finalDFRows)\n",
    "print(finalDF.describe())"
   ],
   "metadata": {
    "collapsed": false,
    "pycharm": {
     "name": "#%%\n"
    }
   }
  },
  {
   "cell_type": "code",
   "execution_count": 8,
   "outputs": [
    {
     "name": "stderr",
     "output_type": "stream",
     "text": [
      "/usr/local/lib/python3.8/dist-packages/plotnine/utils.py:371: FutureWarning: The frame.append method is deprecated and will be removed from pandas in a future version. Use pandas.concat instead.\n",
      "/usr/local/lib/python3.8/dist-packages/plotnine/utils.py:371: FutureWarning: The frame.append method is deprecated and will be removed from pandas in a future version. Use pandas.concat instead.\n"
     ]
    },
    {
     "data": {
      "text/plain": "<Figure size 640x480 with 2 Axes>",
      "image/png": "[encoded data removed]"
     },
     "metadata": {},
     "output_type": "display_data"
    },
    {
     "name": "stdout",
     "output_type": "stream",
     "text": [
      "\n"
     ]
    },
    {
     "name": "stderr",
     "output_type": "stream",
     "text": [
      "/usr/local/lib/python3.8/dist-packages/plotnine/ggplot.py:719: PlotnineWarning: Saving 6.4 x 4.8 in image.\n",
      "/usr/local/lib/python3.8/dist-packages/plotnine/ggplot.py:722: PlotnineWarning: Filename: exportedPlots/rrParametrized.png\n",
      "/usr/local/lib/python3.8/dist-packages/plotnine/utils.py:371: FutureWarning: The frame.append method is deprecated and will be removed from pandas in a future version. Use pandas.concat instead.\n",
      "/usr/local/lib/python3.8/dist-packages/plotnine/utils.py:371: FutureWarning: The frame.append method is deprecated and will be removed from pandas in a future version. Use pandas.concat instead.\n"
     ]
    }
   ],
   "source": [
    "from plotnine import *\n",
    "\n",
    "#we can never get worse in terms of reduction ratio if we choose less recall:\n",
    "def createSmoothedRR(x, finalDF):\n",
    "    gs = x[\"GS\"]\n",
    "    method = x[\"method\"]\n",
    "    dataset = x[\"dataset\"]\n",
    "    recall = x[\"recall\"]\n",
    "    sorted = finalDF[(finalDF[\"dataset\"]==dataset) & (finalDF[\"method\"]==method) & (finalDF[\"GS\"]==gs) & (finalDF[\"recall\"]>=recall)].sort_values('rr',ascending=False)\n",
    "    bestRR = sorted.iloc[0][\"rr\"]\n",
    "    return bestRR\n",
    "\n",
    "reductionRatioSmoothed = finalDF.apply(lambda x: createSmoothedRR(x,finalDF),axis=1)\n",
    "finalDF[\"rrSmooth\"] = reductionRatioSmoothed\n",
    "finalDFMAA = finalDF[finalDF['dataset']==\"MAA\"]\n",
    "plot = ggplot(finalDFMAA, aes(x ='recall', y='rrSmooth', color=\"method\", shape = \"method\")) + geom_line() + geom_point(size=2) + theme_bw() + facet_wrap(\"GS\") + theme(text=element_text(size=14)) + ylab(\"Reduction Ratio [%]\") + scale_color_brewer(type=\"qual\",palette=\"Set2\")\n",
    "print(plot)\n",
    "plot.save(\"exportedPlots/rrParametrized.png\")\n",
    "\n",
    "#faceted by dataset:\n",
    "# finalDFNOMAA = finalDF[finalDF['dataset']!=\"MAA\"]\n",
    "# finalDFNOMAADGS = finalDFNOMAA[finalDFNOMAA[\"GS\"]==\"DGS\"]\n",
    "# finalDFNOMAARGS = finalDFNOMAA[finalDFNOMAA[\"GS\"]==\"RGS\"]\n",
    "# plot = ggplot(finalDFNOMAADGS, aes(x ='recall', y='rrSmooth', color=\"method\", shape = \"method\")) + geom_line() + geom_point(size=2) + theme_bw() + facet_wrap([\"dataset\"]) +ggtitle(\"DGS\")+ theme(text=element_text(size=14)) + ylab(\"Reduction Ratio [%]\") + theme(axis_text_x = element_text(angle=45)) + scale_color_brewer(type=\"qual\",palette=\"Set2\")\n",
    "# print(plot)\n",
    "# plot.save(\"exportedPlots/rrDGSAll.png\")\n",
    "#\n",
    "# plot = ggplot(finalDFNOMAARGS, aes(x ='recall', y='rrSmooth', color=\"method\", shape = \"method\")) + geom_line() + geom_point(size=2) + theme_bw() + facet_wrap([\"dataset\"]) +ggtitle(\"RGS\")+ theme(text=element_text(size=14)) + ylab(\"Reduction Ratio [%]\") + theme(axis_text_x = element_text(angle=45))\n",
    "# print(plot)\n",
    "# plot.save(\"exportedPlots/rrRGSAll.png\")\n",
    "#\n",
    "# plot = ggplot(finalDFNOMAA, aes(x ='recall', y='rrSmooth', color=\"method\", shape = \"method\")) + geom_line() + geom_point(size=2) + theme_bw() + facet_wrap([\"dataset\",\"GS\"]) +ggtitle(ds)+ theme(text=element_text(size=14)) + ylab(\"Reduction Ratio [%]\") + ylim(99.95,100)\n",
    "# print(plot)\n",
    "# for ds in finalDFNOMAA[\"dataset\"].unique():\n",
    "#     thisDF = finalDFNOMAA[finalDFNOMAA[\"dataset\"]==ds]\n",
    "#     plot = ggplot(thisDF, aes(x ='recall', y='rrSmooth', color=\"method\", shape = \"method\")) + geom_line() + geom_point(size=2) + theme_bw() + facet_wrap(\"GS\") +ggtitle(ds)+ theme(text=element_text(size=14)) + ylab(\"Reduction Ratio [%]\")\n",
    "#     print(plot)"
   ],
   "metadata": {
    "collapsed": false,
    "pycharm": {
     "name": "#%%\n"
    }
   }
  },
  {
   "cell_type": "code",
   "execution_count": 9,
   "outputs": [
    {
     "name": "stdout",
     "output_type": "stream",
     "text": [
      "                 n         rr method  threshold dataset    recall   GS  \\\n",
      "11    1.200396e+07  99.975549     RM       0.00     MAA  1.000000  RGS   \n",
      "23    1.200396e+07  99.975549     RM       0.01     MAA  1.000000  RGS   \n",
      "35    1.200396e+07  99.975549     RM       0.02     MAA  1.000000  RGS   \n",
      "47    1.200396e+07  99.975549     RM       0.03     MAA  1.000000  RGS   \n",
      "59    1.200396e+07  99.975549     RM       0.04     MAA  1.000000  RGS   \n",
      "...            ...        ...    ...        ...     ...       ...  ...   \n",
      "755   4.179464e+06  99.990962     RM       0.62     MAA  0.963506  RGS   \n",
      "767   3.977826e+06  99.991369     RM       0.63     MAA  0.963506  RGS   \n",
      "779   3.762006e+06  99.991805     RM       0.64     MAA  0.963506  RGS   \n",
      "791   3.541777e+06  99.992248     RM       0.65     MAA  0.957060  RGS   \n",
      "1223  9.127796e+06  99.981199   CBRB       0.00     MAA  0.995920  RGS   \n",
      "\n",
      "       rrSmooth  \n",
      "11    99.977562  \n",
      "23    99.977562  \n",
      "35    99.977562  \n",
      "47    99.977562  \n",
      "59    99.977562  \n",
      "...         ...  \n",
      "755   99.991805  \n",
      "767   99.991805  \n",
      "779   99.991805  \n",
      "791   99.992248  \n",
      "1223  99.981199  \n",
      "\n",
      "[67 rows x 8 columns]\n"
     ]
    }
   ],
   "source": [
    "print(finalDFMAA[(finalDFMAA['recall']>=0.95) & (finalDFMAA['GS']==\"RGS\")])"
   ],
   "metadata": {
    "collapsed": false,
    "pycharm": {
     "name": "#%%\n"
    }
   }
  }
 ],
 "metadata": {
  "kernelspec": {
   "display_name": "Python 3 (ipykernel)",
   "language": "python",
   "name": "python3"
  },
  "language_info": {
   "codemirror_mode": {
    "name": "ipython",
    "version": 3
   },
   "file_extension": ".py",
   "mimetype": "text/x-python",
   "name": "python",
   "nbconvert_exporter": "python",
   "pygments_lexer": "ipython3",
   "version": "3.8.10"
  }
 },
 "nbformat": 4,
 "nbformat_minor": 1
}