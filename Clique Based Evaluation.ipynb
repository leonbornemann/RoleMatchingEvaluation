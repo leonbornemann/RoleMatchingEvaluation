{
 "cells": [
  {
   "cell_type": "code",
   "execution_count": 8,
   "id": "amazing-google",
   "metadata": {},
   "outputs": [
    {
     "name": "stdout",
     "output_type": "stream",
     "text": [
      "ComponentID                 int64\n",
      "Method                     object\n",
      "cliqueID                    int64\n",
      "cliqueSize                  int64\n",
      "remainsValidPercentage    float64\n",
      "score                     float64\n",
      "remainsValidFull             bool\n",
      "dtype: object\n",
      "      ComponentID  Method  cliqueID  cliqueSize  remainsValidPercentage  \\\n",
      "1           10893  greedy     11571           3                     1.0   \n",
      "7           10893  greedy     11575           3                     1.0   \n",
      "8            5598  greedy      5598           2                     1.0   \n",
      "9            5598  greedy      5679           4                     1.0   \n",
      "13           5598  greedy      5629           6                     1.0   \n",
      "...           ...     ...       ...         ...                     ...   \n",
      "1528         1018  greedy     37298           2                     1.0   \n",
      "1544        13159  greedy     26640           2                     1.0   \n",
      "1545        13159  greedy     22032           2                     1.0   \n",
      "1548        13159  greedy     23962           2                     1.0   \n",
      "1554        13159  greedy     20934           3                     1.0   \n",
      "\n",
      "         score  remainsValidFull  \n",
      "1     0.072184              True  \n",
      "7     0.061034              True  \n",
      "8     0.020378              True  \n",
      "9     0.092685              True  \n",
      "13    0.415685              True  \n",
      "...        ...               ...  \n",
      "1528  0.026255              True  \n",
      "1544  0.000460              True  \n",
      "1545  0.001399              True  \n",
      "1548  0.022086              True  \n",
      "1554  0.027613              True  \n",
      "\n",
      "[379 rows x 7 columns]\n",
      "        ComponentID      cliqueID  cliqueSize  remainsValidPercentage  \\\n",
      "count    379.000000    379.000000  379.000000                   379.0   \n",
      "mean    8224.907652  14503.187335    3.226913                     1.0   \n",
      "std     7094.130635   9328.768243    3.017798                     0.0   \n",
      "min      137.000000    137.000000    2.000000                     1.0   \n",
      "25%     1018.000000   6659.500000    2.000000                     1.0   \n",
      "50%     7401.000000  14069.000000    2.000000                     1.0   \n",
      "75%    12800.500000  20989.000000    3.000000                     1.0   \n",
      "max    40854.000000  41520.000000   30.000000                     1.0   \n",
      "\n",
      "            score  \n",
      "count  379.000000  \n",
      "mean     0.097006  \n",
      "std      0.378517  \n",
      "min      0.000030  \n",
      "25%      0.006127  \n",
      "50%      0.016657  \n",
      "75%      0.043731  \n",
      "max      4.310950  \n"
     ]
    }
   ],
   "source": [
    "import pandas as pd\n",
    "from plotnine import *\n",
    "from plotnine.data import *\n",
    "from sklearn.metrics import accuracy_score, f1_score, precision_score, recall_score, classification_report, confusion_matrix, precision_recall_curve\n",
    "import numpy as np\n",
    "\n",
    "df = pd.read_csv('data/cliqueData/politics.csv')\n",
    "df['remainsValidFull'] = df['remainsValidPercentage']==1.0\n",
    "#filter out singletons:\n",
    "df = df[df['cliqueSize']>1]\n",
    "print(df.dtypes)\n",
    "print(df)\n",
    "print(df.describe())\n"
   ]
  }
 ],
 "metadata": {
  "kernelspec": {
   "display_name": "Python 3",
   "language": "python",
   "name": "python3"
  },
  "language_info": {
   "codemirror_mode": {
    "name": "ipython",
    "version": 3
   },
   "file_extension": ".py",
   "mimetype": "text/x-python",
   "name": "python",
   "nbconvert_exporter": "python",
   "pygments_lexer": "ipython3",
   "version": "3.8.5"
  }
 },
 "nbformat": 4,
 "nbformat_minor": 5
}
