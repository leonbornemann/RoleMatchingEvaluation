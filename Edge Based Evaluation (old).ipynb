{
 "cells": [
  {
   "cell_type": "code",
   "execution_count": 22,
   "id": "authorized-iceland",
   "metadata": {},
   "outputs": [
    {
     "name": "stdout",
     "output_type": "stream",
     "text": [
      "tupleReference1                            object\n",
      "tupleReference2                            object\n",
      "remainsValid                                 bool\n",
      "hasChangeAfterTrainPeriod                    bool\n",
      "numDaysUntilRealChangeAfterTrainPeriod      int64\n",
      "numEqualTransitions                         int64\n",
      "numUnEqualTransitions                       int64\n",
      "numEqualChangeTransitions                   int64\n",
      "mutualInformationScore                    float64\n",
      "newScore                                  float64\n",
      "dtype: object\n",
      "213884\n"
     ]
    }
   ],
   "source": [
    "import pandas as pd\n",
    "from plotnine import *\n",
    "from plotnine.data import *\n",
    "from sklearn.metrics import accuracy_score, f1_score, precision_score, recall_score, classification_report, confusion_matrix\n",
    "\n",
    "df = pd.read_csv('data/allEdgesEvaluation.csv')\n",
    "print(df.dtypes)\n",
    "print(len(df.index))"
   ]
  },
  {
   "cell_type": "markdown",
   "id": "portable-delight",
   "metadata": {},
   "source": [
    "# Validity and Interstingness"
   ]
  },
  {
   "cell_type": "code",
   "execution_count": 23,
   "id": "wooden-rwanda",
   "metadata": {
    "scrolled": true
   },
   "outputs": [
    {
     "name": "stdout",
     "output_type": "stream",
     "text": [
      "Total Row Count is 213884 of which  56441 are valid -  26.388603168072414 %\n",
      "Total Row Count is 213884 of which  175317 are interesting -  81.96826317069065 %\n"
     ]
    },
    {
     "data": {
      "text/html": [
       "<div>\n",
       "<style scoped>\n",
       "    .dataframe tbody tr th:only-of-type {\n",
       "        vertical-align: middle;\n",
       "    }\n",
       "\n",
       "    .dataframe tbody tr th {\n",
       "        vertical-align: top;\n",
       "    }\n",
       "\n",
       "    .dataframe thead th {\n",
       "        text-align: right;\n",
       "    }\n",
       "</style>\n",
       "<table border=\"1\" class=\"dataframe\">\n",
       "  <thead>\n",
       "    <tr style=\"text-align: right;\">\n",
       "      <th>hasChangeAfterTrainPeriod</th>\n",
       "      <th>False</th>\n",
       "      <th>True</th>\n",
       "    </tr>\n",
       "    <tr>\n",
       "      <th>remainsValid</th>\n",
       "      <th></th>\n",
       "      <th></th>\n",
       "    </tr>\n",
       "  </thead>\n",
       "  <tbody>\n",
       "    <tr>\n",
       "      <th>False</th>\n",
       "      <td>27</td>\n",
       "      <td>157416</td>\n",
       "    </tr>\n",
       "    <tr>\n",
       "      <th>True</th>\n",
       "      <td>38540</td>\n",
       "      <td>17901</td>\n",
       "    </tr>\n",
       "  </tbody>\n",
       "</table>\n",
       "</div>"
      ],
      "text/plain": [
       "hasChangeAfterTrainPeriod  False   True \n",
       "remainsValid                            \n",
       "False                         27  157416\n",
       "True                       38540   17901"
      ]
     },
     "execution_count": 23,
     "metadata": {},
     "output_type": "execute_result"
    }
   ],
   "source": [
    "validRows = df[df['remainsValid']]\n",
    "hasChangeAfterTrainPeriod = df[df['hasChangeAfterTrainPeriod']]\n",
    "print(\"Total Row Count is\", len(df.index), \"of which \",len(validRows.index),\"are valid - \",100*len(validRows.index)/len(df.index),\"%\"  )\n",
    "print(\"Total Row Count is\", len(df.index), \"of which \",len(hasChangeAfterTrainPeriod.index),\"are interesting - \",100*len(hasChangeAfterTrainPeriod.index)/len(df.index),\"%\"  )\n",
    "validityInterestingnessConfusionMatrix = pd.crosstab(df['remainsValid'], df['hasChangeAfterTrainPeriod'])\n",
    "validityInterestingnessConfusionMatrix"
   ]
  },
  {
   "cell_type": "code",
   "execution_count": 24,
   "id": "loose-document",
   "metadata": {},
   "outputs": [],
   "source": [
    "#we only keep those that are interesting for the evaluation:\n",
    "df = df[df['hasChangeAfterTrainPeriod']]"
   ]
  },
  {
   "cell_type": "code",
   "execution_count": 25,
   "id": "regular-cleaning",
   "metadata": {},
   "outputs": [
    {
     "name": "stderr",
     "output_type": "stream",
     "text": [
      "/home/leon/data/dataset_versioning/plotting/plotting/lib/python3.8/site-packages/plotnine/stats/stat_bin.py:95: PlotnineWarning: 'stat_bin()' using 'bins = 184'. Pick better value with 'binwidth'.\n"
     ]
    },
    {
     "data": {
      "image/png": "[encoded data removed]",
      "text/plain": [
       "<Figure size 640x480 with 1 Axes>"
      ]
     },
     "metadata": {},
     "output_type": "display_data"
    },
    {
     "data": {
      "text/plain": [
       "<ggplot: (8747699542595)>"
      ]
     },
     "execution_count": 25,
     "metadata": {},
     "output_type": "execute_result"
    }
   ],
   "source": [
    "ggplot(df, aes(x='numDaysUntilRealChangeAfterTrainPeriod', y=after_stat('count'))) + geom_histogram()"
   ]
  },
  {
   "cell_type": "markdown",
   "id": "velvet-plasma",
   "metadata": {},
   "source": [
    "# Performance of the simpleScore"
   ]
  },
  {
   "cell_type": "code",
   "execution_count": 5,
   "id": "ultimate-tablet",
   "metadata": {},
   "outputs": [
    {
     "name": "stdout",
     "output_type": "stream",
     "text": [
      "F1 0.5464187671574744\n",
      "Precision 0.4352450054666534\n",
      "Recall 0.7338696162225574\n",
      "Accuracy 0.8755967761255327\n",
      "\n",
      "chosenByEqualChangeTransitionScore   False  True \n",
      "remainsValid                                     \n",
      "False                               140370  17046\n",
      "True                                  4764  13137\n"
     ]
    }
   ],
   "source": [
    "df['chosenByEqualChangeTransitionScore'] = df['numEqualChangeTransitions']>1\n",
    "y_test = df['remainsValid']\n",
    "y_pred = df['chosenByEqualChangeTransitionScore']\n",
    "print(\"F1\",f1_score(y_test, y_pred))\n",
    "print(\"Precision\",precision_score(y_test, y_pred))\n",
    "print(\"Recall\",recall_score(y_test, y_pred))  \n",
    "print(\"Accuracy\",accuracy_score(y_test, y_pred)) \n",
    "print()\n",
    "print(pd.crosstab(y_test, y_pred))"
   ]
  },
  {
   "cell_type": "markdown",
   "id": "female-egypt",
   "metadata": {},
   "source": [
    "# Performance of the new Score"
   ]
  },
  {
   "cell_type": "code",
   "execution_count": 6,
   "id": "grateful-antenna",
   "metadata": {},
   "outputs": [
    {
     "name": "stdout",
     "output_type": "stream",
     "text": [
      "F1 0.6975679542203147\n",
      "Precision 0.9694800676011532\n",
      "Recall 0.5447740349701135\n",
      "Accuracy 0.9517673699641221\n",
      "\n",
      "chosenByNewScore   False  True \n",
      "remainsValid                   \n",
      "False             157109    307\n",
      "True                8149   9752\n"
     ]
    }
   ],
   "source": [
    "df['chosenByNewScore'] = df['newScore']>0\n",
    "y_test = df['remainsValid']\n",
    "y_pred = df['chosenByNewScore']\n",
    "print(\"F1\",f1_score(y_test, y_pred))\n",
    "print(\"Precision\",precision_score(y_test, y_pred))\n",
    "print(\"Recall\",recall_score(y_test, y_pred))  \n",
    "print(\"Accuracy\",accuracy_score(y_test, y_pred)) \n",
    "print()\n",
    "print(pd.crosstab(y_test, y_pred))"
   ]
  },
  {
   "cell_type": "code",
   "execution_count": 7,
   "id": "boxed-sound",
   "metadata": {},
   "outputs": [
    {
     "data": {
      "text/html": [
       "<div>\n",
       "<style scoped>\n",
       "    .dataframe tbody tr th:only-of-type {\n",
       "        vertical-align: middle;\n",
       "    }\n",
       "\n",
       "    .dataframe tbody tr th {\n",
       "        vertical-align: top;\n",
       "    }\n",
       "\n",
       "    .dataframe thead th {\n",
       "        text-align: right;\n",
       "    }\n",
       "</style>\n",
       "<table border=\"1\" class=\"dataframe\">\n",
       "  <thead>\n",
       "    <tr style=\"text-align: right;\">\n",
       "      <th></th>\n",
       "      <th>tupleReference1</th>\n",
       "      <th>tupleReference2</th>\n",
       "      <th>remainsValid</th>\n",
       "      <th>hasChangeAfterTrainPeriod</th>\n",
       "      <th>numDaysUntilRealChangeAfterTrainPeriod</th>\n",
       "      <th>numEqualTransitions</th>\n",
       "      <th>numUnEqualTransitions</th>\n",
       "      <th>numEqualChangeTransitions</th>\n",
       "      <th>mutualInformationScore</th>\n",
       "      <th>newScore</th>\n",
       "      <th>chosenByEqualChangeTransitionScore</th>\n",
       "      <th>chosenByNewScore</th>\n",
       "    </tr>\n",
       "  </thead>\n",
       "  <tbody>\n",
       "    <tr>\n",
       "      <th>44077</th>\n",
       "      <td>org.cityofchicago.cf2f-mmzv.0_14_831</td>\n",
       "      <td>org.cityofchicago.cf2f-mmzv.0_6_831</td>\n",
       "      <td>False</td>\n",
       "      <td>True</td>\n",
       "      <td>1</td>\n",
       "      <td>159</td>\n",
       "      <td>22</td>\n",
       "      <td>80</td>\n",
       "      <td>2.831441</td>\n",
       "      <td>78.6</td>\n",
       "      <td>True</td>\n",
       "      <td>True</td>\n",
       "    </tr>\n",
       "    <tr>\n",
       "      <th>44083</th>\n",
       "      <td>org.cityofchicago.cf2f-mmzv.0_14_834</td>\n",
       "      <td>org.cityofchicago.cf2f-mmzv.0_6_834</td>\n",
       "      <td>False</td>\n",
       "      <td>True</td>\n",
       "      <td>1</td>\n",
       "      <td>159</td>\n",
       "      <td>22</td>\n",
       "      <td>80</td>\n",
       "      <td>2.831441</td>\n",
       "      <td>78.6</td>\n",
       "      <td>True</td>\n",
       "      <td>True</td>\n",
       "    </tr>\n",
       "    <tr>\n",
       "      <th>52570</th>\n",
       "      <td>org.cityofchicago.pubx-yq2d.0_2_870</td>\n",
       "      <td>org.cityofchicago.pubx-yq2d.0_8_851</td>\n",
       "      <td>False</td>\n",
       "      <td>True</td>\n",
       "      <td>2</td>\n",
       "      <td>163</td>\n",
       "      <td>18</td>\n",
       "      <td>78</td>\n",
       "      <td>2.680460</td>\n",
       "      <td>77.6</td>\n",
       "      <td>True</td>\n",
       "      <td>True</td>\n",
       "    </tr>\n",
       "    <tr>\n",
       "      <th>52572</th>\n",
       "      <td>org.cityofchicago.pubx-yq2d.0_2_929</td>\n",
       "      <td>org.cityofchicago.pubx-yq2d.0_8_961</td>\n",
       "      <td>False</td>\n",
       "      <td>True</td>\n",
       "      <td>2</td>\n",
       "      <td>163</td>\n",
       "      <td>18</td>\n",
       "      <td>78</td>\n",
       "      <td>2.680460</td>\n",
       "      <td>77.6</td>\n",
       "      <td>True</td>\n",
       "      <td>True</td>\n",
       "    </tr>\n",
       "    <tr>\n",
       "      <th>63028</th>\n",
       "      <td>org.cityofchicago.pubx-yq2d.0_33_163</td>\n",
       "      <td>org.cityofchicago.pubx-yq2d.0_35_136</td>\n",
       "      <td>False</td>\n",
       "      <td>True</td>\n",
       "      <td>2</td>\n",
       "      <td>163</td>\n",
       "      <td>18</td>\n",
       "      <td>78</td>\n",
       "      <td>2.680460</td>\n",
       "      <td>77.6</td>\n",
       "      <td>True</td>\n",
       "      <td>True</td>\n",
       "    </tr>\n",
       "    <tr>\n",
       "      <th>...</th>\n",
       "      <td>...</td>\n",
       "      <td>...</td>\n",
       "      <td>...</td>\n",
       "      <td>...</td>\n",
       "      <td>...</td>\n",
       "      <td>...</td>\n",
       "      <td>...</td>\n",
       "      <td>...</td>\n",
       "      <td>...</td>\n",
       "      <td>...</td>\n",
       "      <td>...</td>\n",
       "      <td>...</td>\n",
       "    </tr>\n",
       "    <tr>\n",
       "      <th>189359</th>\n",
       "      <td>org.cityofchicago.pubx-yq2d.0_2_870</td>\n",
       "      <td>org.cityofchicago.pubx-yq2d.0_7_836</td>\n",
       "      <td>False</td>\n",
       "      <td>True</td>\n",
       "      <td>2</td>\n",
       "      <td>163</td>\n",
       "      <td>18</td>\n",
       "      <td>78</td>\n",
       "      <td>2.680460</td>\n",
       "      <td>77.6</td>\n",
       "      <td>True</td>\n",
       "      <td>True</td>\n",
       "    </tr>\n",
       "    <tr>\n",
       "      <th>189360</th>\n",
       "      <td>org.cityofchicago.pubx-yq2d.0_2_340</td>\n",
       "      <td>org.cityofchicago.pubx-yq2d.0_7_840</td>\n",
       "      <td>False</td>\n",
       "      <td>True</td>\n",
       "      <td>2</td>\n",
       "      <td>163</td>\n",
       "      <td>18</td>\n",
       "      <td>78</td>\n",
       "      <td>2.680460</td>\n",
       "      <td>77.6</td>\n",
       "      <td>True</td>\n",
       "      <td>True</td>\n",
       "    </tr>\n",
       "    <tr>\n",
       "      <th>191926</th>\n",
       "      <td>org.cityofchicago.pubx-yq2d.0_35_124</td>\n",
       "      <td>org.cityofchicago.pubx-yq2d.0_37_19</td>\n",
       "      <td>False</td>\n",
       "      <td>True</td>\n",
       "      <td>2</td>\n",
       "      <td>163</td>\n",
       "      <td>18</td>\n",
       "      <td>78</td>\n",
       "      <td>2.680460</td>\n",
       "      <td>77.6</td>\n",
       "      <td>True</td>\n",
       "      <td>True</td>\n",
       "    </tr>\n",
       "    <tr>\n",
       "      <th>210050</th>\n",
       "      <td>org.cityofchicago.pubx-yq2d.0_1_938</td>\n",
       "      <td>org.cityofchicago.pubx-yq2d.0_8_961</td>\n",
       "      <td>False</td>\n",
       "      <td>True</td>\n",
       "      <td>2</td>\n",
       "      <td>163</td>\n",
       "      <td>18</td>\n",
       "      <td>78</td>\n",
       "      <td>2.680460</td>\n",
       "      <td>77.6</td>\n",
       "      <td>True</td>\n",
       "      <td>True</td>\n",
       "    </tr>\n",
       "    <tr>\n",
       "      <th>210052</th>\n",
       "      <td>org.cityofchicago.pubx-yq2d.0_1_879</td>\n",
       "      <td>org.cityofchicago.pubx-yq2d.0_8_851</td>\n",
       "      <td>False</td>\n",
       "      <td>True</td>\n",
       "      <td>2</td>\n",
       "      <td>163</td>\n",
       "      <td>18</td>\n",
       "      <td>78</td>\n",
       "      <td>2.680460</td>\n",
       "      <td>77.6</td>\n",
       "      <td>True</td>\n",
       "      <td>True</td>\n",
       "    </tr>\n",
       "  </tbody>\n",
       "</table>\n",
       "<p>156 rows × 12 columns</p>\n",
       "</div>"
      ],
      "text/plain": [
       "                             tupleReference1  \\\n",
       "44077   org.cityofchicago.cf2f-mmzv.0_14_831   \n",
       "44083   org.cityofchicago.cf2f-mmzv.0_14_834   \n",
       "52570    org.cityofchicago.pubx-yq2d.0_2_870   \n",
       "52572    org.cityofchicago.pubx-yq2d.0_2_929   \n",
       "63028   org.cityofchicago.pubx-yq2d.0_33_163   \n",
       "...                                      ...   \n",
       "189359   org.cityofchicago.pubx-yq2d.0_2_870   \n",
       "189360   org.cityofchicago.pubx-yq2d.0_2_340   \n",
       "191926  org.cityofchicago.pubx-yq2d.0_35_124   \n",
       "210050   org.cityofchicago.pubx-yq2d.0_1_938   \n",
       "210052   org.cityofchicago.pubx-yq2d.0_1_879   \n",
       "\n",
       "                             tupleReference2  remainsValid  \\\n",
       "44077    org.cityofchicago.cf2f-mmzv.0_6_831         False   \n",
       "44083    org.cityofchicago.cf2f-mmzv.0_6_834         False   \n",
       "52570    org.cityofchicago.pubx-yq2d.0_8_851         False   \n",
       "52572    org.cityofchicago.pubx-yq2d.0_8_961         False   \n",
       "63028   org.cityofchicago.pubx-yq2d.0_35_136         False   \n",
       "...                                      ...           ...   \n",
       "189359   org.cityofchicago.pubx-yq2d.0_7_836         False   \n",
       "189360   org.cityofchicago.pubx-yq2d.0_7_840         False   \n",
       "191926   org.cityofchicago.pubx-yq2d.0_37_19         False   \n",
       "210050   org.cityofchicago.pubx-yq2d.0_8_961         False   \n",
       "210052   org.cityofchicago.pubx-yq2d.0_8_851         False   \n",
       "\n",
       "        hasChangeAfterTrainPeriod  numDaysUntilRealChangeAfterTrainPeriod  \\\n",
       "44077                        True                                       1   \n",
       "44083                        True                                       1   \n",
       "52570                        True                                       2   \n",
       "52572                        True                                       2   \n",
       "63028                        True                                       2   \n",
       "...                           ...                                     ...   \n",
       "189359                       True                                       2   \n",
       "189360                       True                                       2   \n",
       "191926                       True                                       2   \n",
       "210050                       True                                       2   \n",
       "210052                       True                                       2   \n",
       "\n",
       "        numEqualTransitions  numUnEqualTransitions  numEqualChangeTransitions  \\\n",
       "44077                   159                     22                         80   \n",
       "44083                   159                     22                         80   \n",
       "52570                   163                     18                         78   \n",
       "52572                   163                     18                         78   \n",
       "63028                   163                     18                         78   \n",
       "...                     ...                    ...                        ...   \n",
       "189359                  163                     18                         78   \n",
       "189360                  163                     18                         78   \n",
       "191926                  163                     18                         78   \n",
       "210050                  163                     18                         78   \n",
       "210052                  163                     18                         78   \n",
       "\n",
       "        mutualInformationScore  newScore  chosenByEqualChangeTransitionScore  \\\n",
       "44077                 2.831441      78.6                                True   \n",
       "44083                 2.831441      78.6                                True   \n",
       "52570                 2.680460      77.6                                True   \n",
       "52572                 2.680460      77.6                                True   \n",
       "63028                 2.680460      77.6                                True   \n",
       "...                        ...       ...                                 ...   \n",
       "189359                2.680460      77.6                                True   \n",
       "189360                2.680460      77.6                                True   \n",
       "191926                2.680460      77.6                                True   \n",
       "210050                2.680460      77.6                                True   \n",
       "210052                2.680460      77.6                                True   \n",
       "\n",
       "        chosenByNewScore  \n",
       "44077               True  \n",
       "44083               True  \n",
       "52570               True  \n",
       "52572               True  \n",
       "63028               True  \n",
       "...                  ...  \n",
       "189359              True  \n",
       "189360              True  \n",
       "191926              True  \n",
       "210050              True  \n",
       "210052              True  \n",
       "\n",
       "[156 rows x 12 columns]"
      ]
     },
     "execution_count": 7,
     "metadata": {},
     "output_type": "execute_result"
    }
   ],
   "source": [
    "invalidAndNewScoreGreater60 = df[(df['newScore']>60) & (~df['remainsValid'])]\n",
    "invalidAndNewScoreGreater60"
   ]
  },
  {
   "cell_type": "markdown",
   "id": "documentary-moscow",
   "metadata": {},
   "source": [
    "The associated Dataset with the above errors is this one: https://data.cityofchicago.org/Transportation/Transportation-Department-Permits/pubx-yq2d "
   ]
  },
  {
   "cell_type": "code",
   "execution_count": 8,
   "id": "constitutional-circus",
   "metadata": {},
   "outputs": [
    {
     "name": "stderr",
     "output_type": "stream",
     "text": [
      "/home/leon/data/dataset_versioning/plotting/plotting/lib/python3.8/site-packages/pandas/core/arraylike.py:358: RuntimeWarning: divide by zero encountered in log10\n",
      "/home/leon/data/dataset_versioning/plotting/plotting/lib/python3.8/site-packages/plotnine/layer.py:401: PlotnineWarning: geom_histogram : Removed 21 rows containing missing values.\n"
     ]
    },
    {
     "data": {
      "image/png": "[encoded data removed]",
      "text/plain": [
       "<Figure size 640x480 with 1 Axes>"
      ]
     },
     "metadata": {},
     "output_type": "display_data"
    },
    {
     "data": {
      "text/plain": [
       "<ggplot: (8747699627641)>"
      ]
     },
     "execution_count": 8,
     "metadata": {},
     "output_type": "execute_result"
    }
   ],
   "source": [
    "ggplot(df, aes(x='newScore', y=after_stat('count'),fill='remainsValid')) + scale_y_log10() + geom_histogram(bins=50)"
   ]
  },
  {
   "cell_type": "code",
   "execution_count": 9,
   "id": "anonymous-treasury",
   "metadata": {},
   "outputs": [
    {
     "name": "stdout",
     "output_type": "stream",
     "text": [
      "0.6187928440060191\n"
     ]
    }
   ],
   "source": [
    "validAndNumEqualChangeTransitionsGreater0 = df[(df['numEqualChangeTransitions']>3) & (df['remainsValid'])]\n",
    "numEqualChangeTransitionsGreater0 = df[df['numEqualChangeTransitions']>3]\n",
    "print(len(validAndNumEqualChangeTransitionsGreater0.index) / len(numEqualChangeTransitionsGreater0.index))"
   ]
  },
  {
   "cell_type": "code",
   "execution_count": 21,
   "id": "freelance-flexibility",
   "metadata": {},
   "outputs": [
    {
     "name": "stderr",
     "output_type": "stream",
     "text": [
      "/home/leon/data/dataset_versioning/plotting/plotting/lib/python3.8/site-packages/pandas/core/arraylike.py:358: RuntimeWarning: divide by zero encountered in log10\n",
      "/home/leon/data/dataset_versioning/plotting/plotting/lib/python3.8/site-packages/plotnine/layer.py:401: PlotnineWarning: geom_histogram : Removed 27 rows containing missing values.\n"
     ]
    },
    {
     "data": {
      "image/png": "[encoded data removed]",
      "text/plain": [
       "<Figure size 640x480 with 1 Axes>"
      ]
     },
     "metadata": {},
     "output_type": "display_data"
    },
    {
     "data": {
      "text/plain": [
       "<ggplot: (8791748867943)>"
      ]
     },
     "execution_count": 21,
     "metadata": {},
     "output_type": "execute_result"
    }
   ],
   "source": [
    "ggplot(df, aes(x='numEqualChangeTransitions', y=after_stat('count'),fill='remainsValid')) + scale_y_log10() + geom_histogram(bins=50)"
   ]
  },
  {
   "cell_type": "markdown",
   "id": "continuing-organization",
   "metadata": {},
   "source": [
    "# Main Indicators for non-valid merges"
   ]
  },
  {
   "cell_type": "code",
   "execution_count": 22,
   "id": "critical-pollution",
   "metadata": {},
   "outputs": [
    {
     "name": "stderr",
     "output_type": "stream",
     "text": [
      "/home/leon/data/dataset_versioning/plotting/plotting/lib/python3.8/site-packages/pandas/core/arraylike.py:358: RuntimeWarning: divide by zero encountered in log10\n",
      "/home/leon/data/dataset_versioning/plotting/plotting/lib/python3.8/site-packages/plotnine/layer.py:401: PlotnineWarning: geom_histogram : Removed 44 rows containing missing values.\n"
     ]
    },
    {
     "data": {
      "image/png": "[encoded data removed]",
      "text/plain": [
       "<Figure size 640x480 with 1 Axes>"
      ]
     },
     "metadata": {},
     "output_type": "display_data"
    },
    {
     "data": {
      "text/plain": [
       "<ggplot: (8791748681406)>"
      ]
     },
     "execution_count": 22,
     "metadata": {},
     "output_type": "execute_result"
    }
   ],
   "source": [
    "ggplot(df, aes(x='numUnEqualTransitions', y=after_stat('count'),fill='remainsValid')) + scale_y_log10() + geom_histogram(bins=182)"
   ]
  },
  {
   "cell_type": "markdown",
   "id": "specialized-lawyer",
   "metadata": {},
   "source": [
    "# Clique Based Evaluation"
   ]
  },
  {
   "cell_type": "code",
   "execution_count": 26,
   "id": "defined-boston",
   "metadata": {},
   "outputs": [
    {
     "name": "stdout",
     "output_type": "stream",
     "text": [
      "optimizationMethodName                    object\n",
      "edgeScoreName                             object\n",
      "mergedLineages                            object\n",
      "cliqueSize                                 int64\n",
      "numEdgesInClique                           int64\n",
      "remainsValid                                bool\n",
      "numValidEdges                              int64\n",
      "numVerticesWithChangeAfterTrainPeriod      int64\n",
      "totalScore                               float64\n",
      "scoreAggregateMethodName                  object\n",
      "dtype: object\n",
      "Before filtering out Singletons:\n",
      "51384\n",
      "After filtering out Singletons:\n",
      "9797\n"
     ]
    }
   ],
   "source": [
    "dfClique = pd.read_csv('data/cliqueEvaluation.csv')\n",
    "print(dfClique.dtypes)\n",
    "print(\"Before filtering out Singletons:\")\n",
    "print(len(dfClique.index))\n",
    "print(\"After filtering out Singletons:\")\n",
    "dfClique = dfClique[dfClique['cliqueSize']>1]\n",
    "print(len(dfClique.index))"
   ]
  },
  {
   "cell_type": "code",
   "execution_count": 27,
   "id": "first-canadian",
   "metadata": {},
   "outputs": [
    {
     "name": "stdout",
     "output_type": "stream",
     "text": [
      "Total number of retained edges:  10718\n"
     ]
    }
   ],
   "source": [
    "print(\"Total number of retained edges: \",sum(dfClique['numEdgesInClique']))"
   ]
  },
  {
   "cell_type": "markdown",
   "id": "distant-threshold",
   "metadata": {},
   "source": [
    "# Validity and interestingness"
   ]
  },
  {
   "cell_type": "code",
   "execution_count": 28,
   "id": "verified-upset",
   "metadata": {},
   "outputs": [
    {
     "name": "stdout",
     "output_type": "stream",
     "text": [
      "Total Row Count is 9797 of which  9567 are valid -  97.65234255384301 %\n",
      "Total Row Count is 9797 of which  9373 are interesting -  95.67214453404104 %\n"
     ]
    },
    {
     "data": {
      "text/html": [
       "<div>\n",
       "<style scoped>\n",
       "    .dataframe tbody tr th:only-of-type {\n",
       "        vertical-align: middle;\n",
       "    }\n",
       "\n",
       "    .dataframe tbody tr th {\n",
       "        vertical-align: top;\n",
       "    }\n",
       "\n",
       "    .dataframe thead th {\n",
       "        text-align: right;\n",
       "    }\n",
       "</style>\n",
       "<table border=\"1\" class=\"dataframe\">\n",
       "  <thead>\n",
       "    <tr style=\"text-align: right;\">\n",
       "      <th>hasChangeAfterTrainPeriod</th>\n",
       "      <th>False</th>\n",
       "      <th>True</th>\n",
       "    </tr>\n",
       "    <tr>\n",
       "      <th>remainsValid</th>\n",
       "      <th></th>\n",
       "      <th></th>\n",
       "    </tr>\n",
       "  </thead>\n",
       "  <tbody>\n",
       "    <tr>\n",
       "      <th>False</th>\n",
       "      <td>0</td>\n",
       "      <td>230</td>\n",
       "    </tr>\n",
       "    <tr>\n",
       "      <th>True</th>\n",
       "      <td>424</td>\n",
       "      <td>9143</td>\n",
       "    </tr>\n",
       "  </tbody>\n",
       "</table>\n",
       "</div>"
      ],
      "text/plain": [
       "hasChangeAfterTrainPeriod  False  True \n",
       "remainsValid                           \n",
       "False                          0    230\n",
       "True                         424   9143"
      ]
     },
     "execution_count": 28,
     "metadata": {},
     "output_type": "execute_result"
    }
   ],
   "source": [
    "validRows = dfClique[dfClique['remainsValid']]\n",
    "dfClique['hasChangeAfterTrainPeriod'] = dfClique['numVerticesWithChangeAfterTrainPeriod']>0\n",
    "dfClique['hasChangeAfterTrainPeriod']\n",
    "hasChangeAfterTrainPeriod = dfClique[dfClique['hasChangeAfterTrainPeriod']]\n",
    "print(\"Total Row Count is\", len(dfClique.index), \"of which \",len(validRows.index),\"are valid - \",100*len(validRows.index)/len(dfClique.index),\"%\"  )\n",
    "print(\"Total Row Count is\", len(dfClique.index), \"of which \",len(hasChangeAfterTrainPeriod.index),\"are interesting - \",100*len(hasChangeAfterTrainPeriod.index)/len(dfClique.index),\"%\"  )\n",
    "validityInterestingnessConfusionMatrix = pd.crosstab(dfClique['remainsValid'], dfClique['hasChangeAfterTrainPeriod'])\n",
    "validityInterestingnessConfusionMatrix"
   ]
  },
  {
   "cell_type": "code",
   "execution_count": 29,
   "id": "necessary-russia",
   "metadata": {},
   "outputs": [],
   "source": [
    "#keep only those that are interesting:\n",
    "dfClique = dfClique[dfClique['hasChangeAfterTrainPeriod']]"
   ]
  },
  {
   "cell_type": "code",
   "execution_count": 16,
   "id": "smoking-quantum",
   "metadata": {},
   "outputs": [
    {
     "name": "stderr",
     "output_type": "stream",
     "text": [
      "/home/leon/data/dataset_versioning/plotting/plotting/lib/python3.8/site-packages/pandas/core/arraylike.py:358: RuntimeWarning: divide by zero encountered in log10\n",
      "/home/leon/data/dataset_versioning/plotting/plotting/lib/python3.8/site-packages/plotnine/layer.py:401: PlotnineWarning: geom_histogram : Removed 25 rows containing missing values.\n"
     ]
    },
    {
     "data": {
      "image/png": "[encoded data removed]",
      "text/plain": [
       "<Figure size 640x480 with 1 Axes>"
      ]
     },
     "metadata": {},
     "output_type": "display_data"
    },
    {
     "data": {
      "text/plain": [
       "<ggplot: (8747699508971)>"
      ]
     },
     "execution_count": 16,
     "metadata": {},
     "output_type": "execute_result"
    }
   ],
   "source": [
    "ggplot(dfClique, aes(x='cliqueSize', y=after_stat('count'),fill='remainsValid')) + scale_y_log10()+ geom_histogram(bins=18)"
   ]
  },
  {
   "cell_type": "markdown",
   "id": "completed-genius",
   "metadata": {},
   "source": [
    "# Precision/Recall/Accuracy"
   ]
  },
  {
   "cell_type": "code",
   "execution_count": 17,
   "id": "alpha-treat",
   "metadata": {},
   "outputs": [
    {
     "name": "stdout",
     "output_type": "stream",
     "text": [
      "F1 0.9875783106502484\n",
      "Precision 0.9754614317721114\n",
      "Recall 1.0\n",
      "Accuracy 0.9754614317721114\n",
      "\n",
      "predictedToBeValid  True\n",
      "remainsValid            \n",
      "False                230\n",
      "True                9143\n"
     ]
    },
    {
     "name": "stderr",
     "output_type": "stream",
     "text": [
      "<ipython-input-17-c14ad8bc7c88>:1: SettingWithCopyWarning: \n",
      "A value is trying to be set on a copy of a slice from a DataFrame.\n",
      "Try using .loc[row_indexer,col_indexer] = value instead\n",
      "\n",
      "See the caveats in the documentation: https://pandas.pydata.org/pandas-docs/stable/user_guide/indexing.html#returning-a-view-versus-a-copy\n"
     ]
    }
   ],
   "source": [
    "dfClique['predictedToBeValid'] = True\n",
    "y_test = dfClique['remainsValid']\n",
    "y_pred = dfClique['predictedToBeValid']\n",
    "print(\"F1\",f1_score(y_test, y_pred))\n",
    "print(\"Precision\",precision_score(y_test, y_pred))\n",
    "print(\"Recall\",recall_score(y_test, y_pred))  \n",
    "print(\"Accuracy\",accuracy_score(y_test, y_pred)) \n",
    "print()\n",
    "print(pd.crosstab(y_test, y_pred))"
   ]
  },
  {
   "cell_type": "markdown",
   "id": "increasing-thong",
   "metadata": {},
   "source": [
    "## Validity by aggregated Score"
   ]
  },
  {
   "cell_type": "code",
   "execution_count": 18,
   "id": "lonely-tiffany",
   "metadata": {},
   "outputs": [
    {
     "data": {
      "image/png": "[encoded data removed]",
      "text/plain": [
       "<Figure size 640x480 with 1 Axes>"
      ]
     },
     "metadata": {},
     "output_type": "display_data"
    },
    {
     "data": {
      "text/plain": [
       "<ggplot: (8747699488642)>"
      ]
     },
     "execution_count": 18,
     "metadata": {},
     "output_type": "execute_result"
    }
   ],
   "source": [
    "ggplot(dfClique, aes(x='totalScore', y=after_stat('count'),fill='remainsValid'))  + geom_histogram(bins=50)"
   ]
  },
  {
   "cell_type": "markdown",
   "id": "designing-intermediate",
   "metadata": {},
   "source": [
    "# Edge-Recall (in comparison to all valid edges)"
   ]
  },
  {
   "cell_type": "code",
   "execution_count": 30,
   "id": "greatest-cotton",
   "metadata": {},
   "outputs": [
    {
     "name": "stdout",
     "output_type": "stream",
     "text": [
      "validEdges 17901\n",
      "retainedEdges 9989\n",
      "Edge-Recall is  0.5580135187978326\n"
     ]
    }
   ],
   "source": [
    "df = df[df['hasChangeAfterTrainPeriod']]\n",
    "dfClique = dfClique[dfClique['hasChangeAfterTrainPeriod']]\n",
    "validEdges = len(df[df['remainsValid']].index)\n",
    "retainedEdges = sum(dfClique['numEdgesInClique'])\n",
    "print(\"validEdges\",validEdges)\n",
    "print(\"retainedEdges\",retainedEdges)\n",
    "print(\"Edge-Recall is \",retainedEdges / validEdges)"
   ]
  }
 ],
 "metadata": {
  "kernelspec": {
   "display_name": "Python 3",
   "language": "python",
   "name": "python3"
  },
  "language_info": {
   "codemirror_mode": {
    "name": "ipython",
    "version": 3
   },
   "file_extension": ".py",
   "mimetype": "text/x-python",
   "name": "python",
   "nbconvert_exporter": "python",
   "pygments_lexer": "ipython3",
   "version": "3.8.5"
  }
 },
 "nbformat": 4,
 "nbformat_minor": 5
}
